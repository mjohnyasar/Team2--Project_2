{
 "cells": [
  {
   "cell_type": "code",
   "execution_count": 1,
   "metadata": {
    "_cell_guid": "5fdcd462-5466-40f5-9992-dc31a9a174f2",
    "_uuid": "dab5021d92c7210270cec270470e4ae179a1de01"
   },
   "outputs": [],
   "source": [
    "import numpy as np \n",
    "import numpy as np \n",
    "import pandas as pd\n",
    "import seaborn as sb\n",
    "import matplotlib.pyplot as plt\n",
    "from collections import Counter\n",
    "import warnings\n",
    "warnings.filterwarnings('ignore') "
   ]
  },
  {
   "cell_type": "code",
   "execution_count": 2,
   "metadata": {},
   "outputs": [
    {
     "data": {
      "text/plain": [
       "'1.2.4'"
      ]
     },
     "execution_count": 2,
     "metadata": {},
     "output_type": "execute_result"
    }
   ],
   "source": [
    "pd.__version__"
   ]
  },
  {
   "cell_type": "markdown",
   "metadata": {},
   "source": [
    "INSTRUCTIONS\n",
    "1. Mean poverty rate of each state\n",
    "1. Most common 15 Name or Surname of killed people\n",
    "1. Killed People According to Races\n",
    "1. Box and Swarm Plots in kill data\n",
    "1. Kill properties (Count Plot)\n",
    "    * Number of people by gender\n",
    "    * Kill weapon\n",
    "    * Age of killed people\n",
    "    * Race of killed people\n",
    "    * Most dangerous cities\n",
    "    * Most dangerous states\n",
    "    * Having mental ilness or not for killed people\n",
    "    * Threat types\n",
    "    * Flee types\n",
    "<br>"
   ]
  },
  {
   "cell_type": "code",
   "execution_count": 3,
   "metadata": {
    "_cell_guid": "abb0685f-f844-43f8-84c0-4cd54361c7bf",
    "_uuid": "9c06ed7c41db79ae9d940f2d52aeff23621b3037"
   },
   "outputs": [],
   "source": [
    "pr = pd.read_csv('PercentagePeopleBelowPovertyLevel.csv', encoding=\"windows-1252\")\n",
    "sr = pd.read_csv('ShareRaceByCity.csv', encoding=\"windows-1252\")\n",
    "kill = pd.read_csv('PoliceKillingsUS.csv', encoding=\"windows-1252\")"
   ]
  },
  {
   "cell_type": "markdown",
   "metadata": {},
   "source": [
    "## 1. Mean poverty rate of each state"
   ]
  },
  {
   "cell_type": "code",
   "execution_count": 4,
   "metadata": {},
   "outputs": [
    {
     "data": {
      "text/html": [
       "<div>\n",
       "<style scoped>\n",
       "    .dataframe tbody tr th:only-of-type {\n",
       "        vertical-align: middle;\n",
       "    }\n",
       "\n",
       "    .dataframe tbody tr th {\n",
       "        vertical-align: top;\n",
       "    }\n",
       "\n",
       "    .dataframe thead th {\n",
       "        text-align: right;\n",
       "    }\n",
       "</style>\n",
       "<table border=\"1\" class=\"dataframe\">\n",
       "  <thead>\n",
       "    <tr style=\"text-align: right;\">\n",
       "      <th></th>\n",
       "      <th>Geographic Area</th>\n",
       "      <th>City</th>\n",
       "      <th>poverty_rate</th>\n",
       "    </tr>\n",
       "  </thead>\n",
       "  <tbody>\n",
       "    <tr>\n",
       "      <th>0</th>\n",
       "      <td>AL</td>\n",
       "      <td>Abanda CDP</td>\n",
       "      <td>78.8</td>\n",
       "    </tr>\n",
       "    <tr>\n",
       "      <th>1</th>\n",
       "      <td>AL</td>\n",
       "      <td>Abbeville city</td>\n",
       "      <td>29.1</td>\n",
       "    </tr>\n",
       "    <tr>\n",
       "      <th>2</th>\n",
       "      <td>AL</td>\n",
       "      <td>Adamsville city</td>\n",
       "      <td>25.5</td>\n",
       "    </tr>\n",
       "    <tr>\n",
       "      <th>3</th>\n",
       "      <td>AL</td>\n",
       "      <td>Addison town</td>\n",
       "      <td>30.7</td>\n",
       "    </tr>\n",
       "    <tr>\n",
       "      <th>4</th>\n",
       "      <td>AL</td>\n",
       "      <td>Akron town</td>\n",
       "      <td>42</td>\n",
       "    </tr>\n",
       "  </tbody>\n",
       "</table>\n",
       "</div>"
      ],
      "text/plain": [
       "  Geographic Area             City poverty_rate\n",
       "0              AL       Abanda CDP         78.8\n",
       "1              AL   Abbeville city         29.1\n",
       "2              AL  Adamsville city         25.5\n",
       "3              AL     Addison town         30.7\n",
       "4              AL       Akron town           42"
      ]
     },
     "execution_count": 4,
     "metadata": {},
     "output_type": "execute_result"
    }
   ],
   "source": [
    "pr.head()"
   ]
  },
  {
   "cell_type": "code",
   "execution_count": 5,
   "metadata": {},
   "outputs": [],
   "source": [
    "Geographic_Area = pr[\"Geographic Area\"].unique()"
   ]
  },
  {
   "cell_type": "code",
   "execution_count": 6,
   "metadata": {},
   "outputs": [
    {
     "data": {
      "text/plain": [
       "array(['AL', 'AK', 'AZ', 'AR', 'CA', 'CO', 'CT', 'DE', 'DC', 'FL', 'GA',\n",
       "       'HI', 'ID', 'IL', 'IN', 'IA', 'KS', 'KY', 'LA', 'ME', 'MD', 'MA',\n",
       "       'MI', 'MN', 'MS', 'MO', 'MT', 'NE', 'NV', 'NH', 'NJ', 'NM', 'NY',\n",
       "       'NC', 'ND', 'OH', 'OK', 'OR', 'PA', 'RI', 'SC', 'SD', 'TN', 'TX',\n",
       "       'UT', 'VT', 'VA', 'WA', 'WV', 'WI', 'WY'], dtype=object)"
      ]
     },
     "execution_count": 6,
     "metadata": {},
     "output_type": "execute_result"
    }
   ],
   "source": [
    "Geographic_Area "
   ]
  },
  {
   "cell_type": "code",
   "execution_count": 7,
   "metadata": {},
   "outputs": [
    {
     "data": {
      "text/plain": [
       "0       1464\n",
       "-        201\n",
       "7.4      129\n",
       "6.7      129\n",
       "10       128\n",
       "        ... \n",
       "92.9       1\n",
       "56.7       1\n",
       "71.7       1\n",
       "65.5       1\n",
       "68.2       1\n",
       "Name: poverty_rate, Length: 771, dtype: int64"
      ]
     },
     "execution_count": 7,
     "metadata": {},
     "output_type": "execute_result"
    }
   ],
   "source": [
    "pr.poverty_rate.value_counts()"
   ]
  },
  {
   "cell_type": "code",
   "execution_count": 8,
   "metadata": {},
   "outputs": [
    {
     "ename": "AttributeError",
     "evalue": "'function' object has no attribute 'unique'",
     "output_type": "error",
     "traceback": [
      "\u001b[1;31m---------------------------------------------------------------------------\u001b[0m",
      "\u001b[1;31mAttributeError\u001b[0m                            Traceback (most recent call last)",
      "\u001b[1;32m<ipython-input-8-3c066926b05c>\u001b[0m in \u001b[0;36m<module>\u001b[1;34m\u001b[0m\n\u001b[1;32m----> 1\u001b[1;33m \u001b[0mpr\u001b[0m\u001b[1;33m.\u001b[0m\u001b[0mpoverty_rate\u001b[0m\u001b[1;33m.\u001b[0m\u001b[0mvalue_counts\u001b[0m\u001b[1;33m.\u001b[0m\u001b[0munique\u001b[0m\u001b[1;33m\u001b[0m\u001b[1;33m\u001b[0m\u001b[0m\n\u001b[0m",
      "\u001b[1;31mAttributeError\u001b[0m: 'function' object has no attribute 'unique'"
     ]
    }
   ],
   "source": [
    "pr.poverty_rate.value_counts.unique"
   ]
  },
  {
   "cell_type": "raw",
   "metadata": {},
   "source": [
    "Problem: We don't know what does \"-\" mean. We need to clean it. Maybe we can consider it as 0."
   ]
  },
  {
   "cell_type": "markdown",
   "metadata": {},
   "source": [
    "**INSTRUCTION-1: replace the \"-\" with zero.**"
   ]
  },
  {
   "cell_type": "code",
   "execution_count": 8,
   "metadata": {},
   "outputs": [],
   "source": [
    "pr.poverty_rate.replace(['-'],0.0,inplace = True)"
   ]
  },
  {
   "cell_type": "code",
   "execution_count": 9,
   "metadata": {},
   "outputs": [
    {
     "name": "stdout",
     "output_type": "stream",
     "text": [
      "<class 'pandas.core.frame.DataFrame'>\n",
      "RangeIndex: 29329 entries, 0 to 29328\n",
      "Data columns (total 3 columns):\n",
      " #   Column           Non-Null Count  Dtype \n",
      "---  ------           --------------  ----- \n",
      " 0   Geographic Area  29329 non-null  object\n",
      " 1   City             29329 non-null  object\n",
      " 2   poverty_rate     29329 non-null  object\n",
      "dtypes: object(3)\n",
      "memory usage: 687.5+ KB\n"
     ]
    }
   ],
   "source": [
    "pr.info()"
   ]
  },
  {
   "cell_type": "code",
   "execution_count": null,
   "metadata": {},
   "outputs": [],
   "source": []
  },
  {
   "cell_type": "raw",
   "metadata": {},
   "source": [
    "Problem: data type of poverty_rate colum is object. We need to convert it to a numeric type (float)."
   ]
  },
  {
   "cell_type": "code",
   "execution_count": 10,
   "metadata": {},
   "outputs": [],
   "source": [
    "pr.poverty_rate = pr.poverty_rate.astype(\"float\")"
   ]
  },
  {
   "cell_type": "markdown",
   "metadata": {},
   "source": [
    "**INSTRUCTION-2 : Convert type of poverty_rate colum to a numeric type (float).**"
   ]
  },
  {
   "cell_type": "code",
   "execution_count": 11,
   "metadata": {},
   "outputs": [
    {
     "data": {
      "text/plain": [
       "dtype('float64')"
      ]
     },
     "execution_count": 11,
     "metadata": {},
     "output_type": "execute_result"
    }
   ],
   "source": [
    "#pr.poverty_rate = pd.to_numeric(pr.poverty_rate)\n",
    "pr.poverty_rate.dtype"
   ]
  },
  {
   "cell_type": "markdown",
   "metadata": {},
   "source": [
    "**INSTRUCTION-3 : Plot the Poverty rate of each state. (Demonstrate mean value of each Geogrophic Area (AL, AK, AR).)**"
   ]
  },
  {
   "cell_type": "markdown",
   "metadata": {},
   "source": [
    "**INSTRUCTION-3.a.1 : Plot With Pandas Built in method:**"
   ]
  },
  {
   "cell_type": "code",
   "execution_count": 15,
   "metadata": {},
   "outputs": [],
   "source": [
    "poverty_rates = pr.groupby(\"Geographic Area\").poverty_rate.mean()"
   ]
  },
  {
   "cell_type": "code",
   "execution_count": 16,
   "metadata": {},
   "outputs": [
    {
     "data": {
      "text/plain": [
       "Geographic Area\n",
       "AK    18.678592\n",
       "AL    20.611795\n",
       "AR    22.963216\n",
       "AZ    25.268071\n",
       "CA    16.888371\n",
       "Name: poverty_rate, dtype: float64"
      ]
     },
     "execution_count": 16,
     "metadata": {},
     "output_type": "execute_result"
    }
   ],
   "source": [
    "poverty_rates.head()"
   ]
  },
  {
   "cell_type": "code",
   "execution_count": 17,
   "metadata": {},
   "outputs": [
    {
     "ename": "AttributeError",
     "evalue": "'Rectangle' object has no property 'xlabel'",
     "output_type": "error",
     "traceback": [
      "\u001b[1;31m---------------------------------------------------------------------------\u001b[0m",
      "\u001b[1;31mAttributeError\u001b[0m                            Traceback (most recent call last)",
      "\u001b[1;32m<ipython-input-17-de62813a1c3f>\u001b[0m in \u001b[0;36m<module>\u001b[1;34m\u001b[0m\n\u001b[1;32m----> 1\u001b[1;33m \u001b[0mpoverty_rates\u001b[0m\u001b[1;33m.\u001b[0m\u001b[0mplot\u001b[0m\u001b[1;33m(\u001b[0m\u001b[0mkind\u001b[0m\u001b[1;33m=\u001b[0m\u001b[1;34m\"bar\"\u001b[0m\u001b[1;33m,\u001b[0m\u001b[0mfigsize\u001b[0m\u001b[1;33m=\u001b[0m\u001b[1;33m(\u001b[0m\u001b[1;36m20\u001b[0m\u001b[1;33m,\u001b[0m\u001b[1;36m10\u001b[0m\u001b[1;33m)\u001b[0m\u001b[1;33m,\u001b[0m\u001b[0mtitle\u001b[0m\u001b[1;33m=\u001b[0m\u001b[1;34m\"Poverty Rate Given States\"\u001b[0m\u001b[1;33m,\u001b[0m\u001b[0mxlabel\u001b[0m\u001b[1;33m=\u001b[0m\u001b[1;34m\"States\"\u001b[0m\u001b[1;33m,\u001b[0m\u001b[0mrot\u001b[0m\u001b[1;33m=\u001b[0m\u001b[1;36m45\u001b[0m\u001b[1;33m,\u001b[0m\u001b[1;33m)\u001b[0m\u001b[1;33m\u001b[0m\u001b[1;33m\u001b[0m\u001b[0m\n\u001b[0m\u001b[0;32m      2\u001b[0m \u001b[0mplt\u001b[0m\u001b[1;33m.\u001b[0m\u001b[0mshow\u001b[0m\u001b[1;33m(\u001b[0m\u001b[1;33m)\u001b[0m\u001b[1;33m\u001b[0m\u001b[1;33m\u001b[0m\u001b[0m\n",
      "\u001b[1;32m~\\anaconda3\\lib\\site-packages\\pandas\\plotting\\_core.py\u001b[0m in \u001b[0;36m__call__\u001b[1;34m(self, *args, **kwargs)\u001b[0m\n\u001b[0;32m    845\u001b[0m                     \u001b[0mdata\u001b[0m\u001b[1;33m.\u001b[0m\u001b[0mcolumns\u001b[0m \u001b[1;33m=\u001b[0m \u001b[0mlabel_name\u001b[0m\u001b[1;33m\u001b[0m\u001b[1;33m\u001b[0m\u001b[0m\n\u001b[0;32m    846\u001b[0m \u001b[1;33m\u001b[0m\u001b[0m\n\u001b[1;32m--> 847\u001b[1;33m         \u001b[1;32mreturn\u001b[0m \u001b[0mplot_backend\u001b[0m\u001b[1;33m.\u001b[0m\u001b[0mplot\u001b[0m\u001b[1;33m(\u001b[0m\u001b[0mdata\u001b[0m\u001b[1;33m,\u001b[0m \u001b[0mkind\u001b[0m\u001b[1;33m=\u001b[0m\u001b[0mkind\u001b[0m\u001b[1;33m,\u001b[0m \u001b[1;33m**\u001b[0m\u001b[0mkwargs\u001b[0m\u001b[1;33m)\u001b[0m\u001b[1;33m\u001b[0m\u001b[1;33m\u001b[0m\u001b[0m\n\u001b[0m\u001b[0;32m    848\u001b[0m \u001b[1;33m\u001b[0m\u001b[0m\n\u001b[0;32m    849\u001b[0m     \u001b[0m__call__\u001b[0m\u001b[1;33m.\u001b[0m\u001b[0m__doc__\u001b[0m \u001b[1;33m=\u001b[0m \u001b[0m__doc__\u001b[0m\u001b[1;33m\u001b[0m\u001b[1;33m\u001b[0m\u001b[0m\n",
      "\u001b[1;32m~\\anaconda3\\lib\\site-packages\\pandas\\plotting\\_matplotlib\\__init__.py\u001b[0m in \u001b[0;36mplot\u001b[1;34m(data, kind, **kwargs)\u001b[0m\n\u001b[0;32m     59\u001b[0m             \u001b[0mkwargs\u001b[0m\u001b[1;33m[\u001b[0m\u001b[1;34m\"ax\"\u001b[0m\u001b[1;33m]\u001b[0m \u001b[1;33m=\u001b[0m \u001b[0mgetattr\u001b[0m\u001b[1;33m(\u001b[0m\u001b[0max\u001b[0m\u001b[1;33m,\u001b[0m \u001b[1;34m\"left_ax\"\u001b[0m\u001b[1;33m,\u001b[0m \u001b[0max\u001b[0m\u001b[1;33m)\u001b[0m\u001b[1;33m\u001b[0m\u001b[1;33m\u001b[0m\u001b[0m\n\u001b[0;32m     60\u001b[0m     \u001b[0mplot_obj\u001b[0m \u001b[1;33m=\u001b[0m \u001b[0mPLOT_CLASSES\u001b[0m\u001b[1;33m[\u001b[0m\u001b[0mkind\u001b[0m\u001b[1;33m]\u001b[0m\u001b[1;33m(\u001b[0m\u001b[0mdata\u001b[0m\u001b[1;33m,\u001b[0m \u001b[1;33m**\u001b[0m\u001b[0mkwargs\u001b[0m\u001b[1;33m)\u001b[0m\u001b[1;33m\u001b[0m\u001b[1;33m\u001b[0m\u001b[0m\n\u001b[1;32m---> 61\u001b[1;33m     \u001b[0mplot_obj\u001b[0m\u001b[1;33m.\u001b[0m\u001b[0mgenerate\u001b[0m\u001b[1;33m(\u001b[0m\u001b[1;33m)\u001b[0m\u001b[1;33m\u001b[0m\u001b[1;33m\u001b[0m\u001b[0m\n\u001b[0m\u001b[0;32m     62\u001b[0m     \u001b[0mplot_obj\u001b[0m\u001b[1;33m.\u001b[0m\u001b[0mdraw\u001b[0m\u001b[1;33m(\u001b[0m\u001b[1;33m)\u001b[0m\u001b[1;33m\u001b[0m\u001b[1;33m\u001b[0m\u001b[0m\n\u001b[0;32m     63\u001b[0m     \u001b[1;32mreturn\u001b[0m \u001b[0mplot_obj\u001b[0m\u001b[1;33m.\u001b[0m\u001b[0mresult\u001b[0m\u001b[1;33m\u001b[0m\u001b[1;33m\u001b[0m\u001b[0m\n",
      "\u001b[1;32m~\\anaconda3\\lib\\site-packages\\pandas\\plotting\\_matplotlib\\core.py\u001b[0m in \u001b[0;36mgenerate\u001b[1;34m(self)\u001b[0m\n\u001b[0;32m    261\u001b[0m         \u001b[0mself\u001b[0m\u001b[1;33m.\u001b[0m\u001b[0m_compute_plot_data\u001b[0m\u001b[1;33m(\u001b[0m\u001b[1;33m)\u001b[0m\u001b[1;33m\u001b[0m\u001b[1;33m\u001b[0m\u001b[0m\n\u001b[0;32m    262\u001b[0m         \u001b[0mself\u001b[0m\u001b[1;33m.\u001b[0m\u001b[0m_setup_subplots\u001b[0m\u001b[1;33m(\u001b[0m\u001b[1;33m)\u001b[0m\u001b[1;33m\u001b[0m\u001b[1;33m\u001b[0m\u001b[0m\n\u001b[1;32m--> 263\u001b[1;33m         \u001b[0mself\u001b[0m\u001b[1;33m.\u001b[0m\u001b[0m_make_plot\u001b[0m\u001b[1;33m(\u001b[0m\u001b[1;33m)\u001b[0m\u001b[1;33m\u001b[0m\u001b[1;33m\u001b[0m\u001b[0m\n\u001b[0m\u001b[0;32m    264\u001b[0m         \u001b[0mself\u001b[0m\u001b[1;33m.\u001b[0m\u001b[0m_add_table\u001b[0m\u001b[1;33m(\u001b[0m\u001b[1;33m)\u001b[0m\u001b[1;33m\u001b[0m\u001b[1;33m\u001b[0m\u001b[0m\n\u001b[0;32m    265\u001b[0m         \u001b[0mself\u001b[0m\u001b[1;33m.\u001b[0m\u001b[0m_make_legend\u001b[0m\u001b[1;33m(\u001b[0m\u001b[1;33m)\u001b[0m\u001b[1;33m\u001b[0m\u001b[1;33m\u001b[0m\u001b[0m\n",
      "\u001b[1;32m~\\anaconda3\\lib\\site-packages\\pandas\\plotting\\_matplotlib\\core.py\u001b[0m in \u001b[0;36m_make_plot\u001b[1;34m(self)\u001b[0m\n\u001b[0;32m   1403\u001b[0m                     \u001b[0mlabel\u001b[0m\u001b[1;33m=\u001b[0m\u001b[0mlabel\u001b[0m\u001b[1;33m,\u001b[0m\u001b[1;33m\u001b[0m\u001b[1;33m\u001b[0m\u001b[0m\n\u001b[0;32m   1404\u001b[0m                     \u001b[0mlog\u001b[0m\u001b[1;33m=\u001b[0m\u001b[0mself\u001b[0m\u001b[1;33m.\u001b[0m\u001b[0mlog\u001b[0m\u001b[1;33m,\u001b[0m\u001b[1;33m\u001b[0m\u001b[1;33m\u001b[0m\u001b[0m\n\u001b[1;32m-> 1405\u001b[1;33m                     \u001b[1;33m**\u001b[0m\u001b[0mkwds\u001b[0m\u001b[1;33m,\u001b[0m\u001b[1;33m\u001b[0m\u001b[1;33m\u001b[0m\u001b[0m\n\u001b[0m\u001b[0;32m   1406\u001b[0m                 )\n\u001b[0;32m   1407\u001b[0m             \u001b[0mself\u001b[0m\u001b[1;33m.\u001b[0m\u001b[0m_add_legend_handle\u001b[0m\u001b[1;33m(\u001b[0m\u001b[0mrect\u001b[0m\u001b[1;33m,\u001b[0m \u001b[0mlabel\u001b[0m\u001b[1;33m,\u001b[0m \u001b[0mindex\u001b[0m\u001b[1;33m=\u001b[0m\u001b[0mi\u001b[0m\u001b[1;33m)\u001b[0m\u001b[1;33m\u001b[0m\u001b[1;33m\u001b[0m\u001b[0m\n",
      "\u001b[1;32m~\\anaconda3\\lib\\site-packages\\pandas\\plotting\\_matplotlib\\core.py\u001b[0m in \u001b[0;36m_plot\u001b[1;34m(cls, ax, x, y, w, start, log, **kwds)\u001b[0m\n\u001b[0;32m   1328\u001b[0m     \u001b[1;33m@\u001b[0m\u001b[0mclassmethod\u001b[0m\u001b[1;33m\u001b[0m\u001b[1;33m\u001b[0m\u001b[0m\n\u001b[0;32m   1329\u001b[0m     \u001b[1;32mdef\u001b[0m \u001b[0m_plot\u001b[0m\u001b[1;33m(\u001b[0m\u001b[0mcls\u001b[0m\u001b[1;33m,\u001b[0m \u001b[0max\u001b[0m\u001b[1;33m,\u001b[0m \u001b[0mx\u001b[0m\u001b[1;33m,\u001b[0m \u001b[0my\u001b[0m\u001b[1;33m,\u001b[0m \u001b[0mw\u001b[0m\u001b[1;33m,\u001b[0m \u001b[0mstart\u001b[0m\u001b[1;33m=\u001b[0m\u001b[1;36m0\u001b[0m\u001b[1;33m,\u001b[0m \u001b[0mlog\u001b[0m\u001b[1;33m=\u001b[0m\u001b[1;32mFalse\u001b[0m\u001b[1;33m,\u001b[0m \u001b[1;33m**\u001b[0m\u001b[0mkwds\u001b[0m\u001b[1;33m)\u001b[0m\u001b[1;33m:\u001b[0m\u001b[1;33m\u001b[0m\u001b[1;33m\u001b[0m\u001b[0m\n\u001b[1;32m-> 1330\u001b[1;33m         \u001b[1;32mreturn\u001b[0m \u001b[0max\u001b[0m\u001b[1;33m.\u001b[0m\u001b[0mbar\u001b[0m\u001b[1;33m(\u001b[0m\u001b[0mx\u001b[0m\u001b[1;33m,\u001b[0m \u001b[0my\u001b[0m\u001b[1;33m,\u001b[0m \u001b[0mw\u001b[0m\u001b[1;33m,\u001b[0m \u001b[0mbottom\u001b[0m\u001b[1;33m=\u001b[0m\u001b[0mstart\u001b[0m\u001b[1;33m,\u001b[0m \u001b[0mlog\u001b[0m\u001b[1;33m=\u001b[0m\u001b[0mlog\u001b[0m\u001b[1;33m,\u001b[0m \u001b[1;33m**\u001b[0m\u001b[0mkwds\u001b[0m\u001b[1;33m)\u001b[0m\u001b[1;33m\u001b[0m\u001b[1;33m\u001b[0m\u001b[0m\n\u001b[0m\u001b[0;32m   1331\u001b[0m \u001b[1;33m\u001b[0m\u001b[0m\n\u001b[0;32m   1332\u001b[0m     \u001b[1;33m@\u001b[0m\u001b[0mproperty\u001b[0m\u001b[1;33m\u001b[0m\u001b[1;33m\u001b[0m\u001b[0m\n",
      "\u001b[1;32m~\\anaconda3\\lib\\site-packages\\matplotlib\\__init__.py\u001b[0m in \u001b[0;36minner\u001b[1;34m(ax, data, *args, **kwargs)\u001b[0m\n\u001b[0;32m   1597\u001b[0m     \u001b[1;32mdef\u001b[0m \u001b[0minner\u001b[0m\u001b[1;33m(\u001b[0m\u001b[0max\u001b[0m\u001b[1;33m,\u001b[0m \u001b[1;33m*\u001b[0m\u001b[0margs\u001b[0m\u001b[1;33m,\u001b[0m \u001b[0mdata\u001b[0m\u001b[1;33m=\u001b[0m\u001b[1;32mNone\u001b[0m\u001b[1;33m,\u001b[0m \u001b[1;33m**\u001b[0m\u001b[0mkwargs\u001b[0m\u001b[1;33m)\u001b[0m\u001b[1;33m:\u001b[0m\u001b[1;33m\u001b[0m\u001b[1;33m\u001b[0m\u001b[0m\n\u001b[0;32m   1598\u001b[0m         \u001b[1;32mif\u001b[0m \u001b[0mdata\u001b[0m \u001b[1;32mis\u001b[0m \u001b[1;32mNone\u001b[0m\u001b[1;33m:\u001b[0m\u001b[1;33m\u001b[0m\u001b[1;33m\u001b[0m\u001b[0m\n\u001b[1;32m-> 1599\u001b[1;33m             \u001b[1;32mreturn\u001b[0m \u001b[0mfunc\u001b[0m\u001b[1;33m(\u001b[0m\u001b[0max\u001b[0m\u001b[1;33m,\u001b[0m \u001b[1;33m*\u001b[0m\u001b[0mmap\u001b[0m\u001b[1;33m(\u001b[0m\u001b[0msanitize_sequence\u001b[0m\u001b[1;33m,\u001b[0m \u001b[0margs\u001b[0m\u001b[1;33m)\u001b[0m\u001b[1;33m,\u001b[0m \u001b[1;33m**\u001b[0m\u001b[0mkwargs\u001b[0m\u001b[1;33m)\u001b[0m\u001b[1;33m\u001b[0m\u001b[1;33m\u001b[0m\u001b[0m\n\u001b[0m\u001b[0;32m   1600\u001b[0m \u001b[1;33m\u001b[0m\u001b[0m\n\u001b[0;32m   1601\u001b[0m         \u001b[0mbound\u001b[0m \u001b[1;33m=\u001b[0m \u001b[0mnew_sig\u001b[0m\u001b[1;33m.\u001b[0m\u001b[0mbind\u001b[0m\u001b[1;33m(\u001b[0m\u001b[0max\u001b[0m\u001b[1;33m,\u001b[0m \u001b[1;33m*\u001b[0m\u001b[0margs\u001b[0m\u001b[1;33m,\u001b[0m \u001b[1;33m**\u001b[0m\u001b[0mkwargs\u001b[0m\u001b[1;33m)\u001b[0m\u001b[1;33m\u001b[0m\u001b[1;33m\u001b[0m\u001b[0m\n",
      "\u001b[1;32m~\\anaconda3\\lib\\site-packages\\matplotlib\\axes\\_axes.py\u001b[0m in \u001b[0;36mbar\u001b[1;34m(self, x, height, width, bottom, align, **kwargs)\u001b[0m\n\u001b[0;32m   2429\u001b[0m                 \u001b[0mlabel\u001b[0m\u001b[1;33m=\u001b[0m\u001b[1;34m'_nolegend_'\u001b[0m\u001b[1;33m,\u001b[0m\u001b[1;33m\u001b[0m\u001b[1;33m\u001b[0m\u001b[0m\n\u001b[0;32m   2430\u001b[0m                 )\n\u001b[1;32m-> 2431\u001b[1;33m             \u001b[0mr\u001b[0m\u001b[1;33m.\u001b[0m\u001b[0mupdate\u001b[0m\u001b[1;33m(\u001b[0m\u001b[0mkwargs\u001b[0m\u001b[1;33m)\u001b[0m\u001b[1;33m\u001b[0m\u001b[1;33m\u001b[0m\u001b[0m\n\u001b[0m\u001b[0;32m   2432\u001b[0m             \u001b[0mr\u001b[0m\u001b[1;33m.\u001b[0m\u001b[0mget_path\u001b[0m\u001b[1;33m(\u001b[0m\u001b[1;33m)\u001b[0m\u001b[1;33m.\u001b[0m\u001b[0m_interpolation_steps\u001b[0m \u001b[1;33m=\u001b[0m \u001b[1;36m100\u001b[0m\u001b[1;33m\u001b[0m\u001b[1;33m\u001b[0m\u001b[0m\n\u001b[0;32m   2433\u001b[0m             \u001b[1;32mif\u001b[0m \u001b[0morientation\u001b[0m \u001b[1;33m==\u001b[0m \u001b[1;34m'vertical'\u001b[0m\u001b[1;33m:\u001b[0m\u001b[1;33m\u001b[0m\u001b[1;33m\u001b[0m\u001b[0m\n",
      "\u001b[1;32m~\\anaconda3\\lib\\site-packages\\matplotlib\\artist.py\u001b[0m in \u001b[0;36mupdate\u001b[1;34m(self, props)\u001b[0m\n\u001b[0;32m    972\u001b[0m \u001b[1;33m\u001b[0m\u001b[0m\n\u001b[0;32m    973\u001b[0m         \u001b[1;32mwith\u001b[0m \u001b[0mcbook\u001b[0m\u001b[1;33m.\u001b[0m\u001b[0m_setattr_cm\u001b[0m\u001b[1;33m(\u001b[0m\u001b[0mself\u001b[0m\u001b[1;33m,\u001b[0m \u001b[0meventson\u001b[0m\u001b[1;33m=\u001b[0m\u001b[1;32mFalse\u001b[0m\u001b[1;33m)\u001b[0m\u001b[1;33m:\u001b[0m\u001b[1;33m\u001b[0m\u001b[1;33m\u001b[0m\u001b[0m\n\u001b[1;32m--> 974\u001b[1;33m             \u001b[0mret\u001b[0m \u001b[1;33m=\u001b[0m \u001b[1;33m[\u001b[0m\u001b[0m_update_property\u001b[0m\u001b[1;33m(\u001b[0m\u001b[0mself\u001b[0m\u001b[1;33m,\u001b[0m \u001b[0mk\u001b[0m\u001b[1;33m,\u001b[0m \u001b[0mv\u001b[0m\u001b[1;33m)\u001b[0m \u001b[1;32mfor\u001b[0m \u001b[0mk\u001b[0m\u001b[1;33m,\u001b[0m \u001b[0mv\u001b[0m \u001b[1;32min\u001b[0m \u001b[0mprops\u001b[0m\u001b[1;33m.\u001b[0m\u001b[0mitems\u001b[0m\u001b[1;33m(\u001b[0m\u001b[1;33m)\u001b[0m\u001b[1;33m]\u001b[0m\u001b[1;33m\u001b[0m\u001b[1;33m\u001b[0m\u001b[0m\n\u001b[0m\u001b[0;32m    975\u001b[0m \u001b[1;33m\u001b[0m\u001b[0m\n\u001b[0;32m    976\u001b[0m         \u001b[1;32mif\u001b[0m \u001b[0mlen\u001b[0m\u001b[1;33m(\u001b[0m\u001b[0mret\u001b[0m\u001b[1;33m)\u001b[0m\u001b[1;33m:\u001b[0m\u001b[1;33m\u001b[0m\u001b[1;33m\u001b[0m\u001b[0m\n",
      "\u001b[1;32m~\\anaconda3\\lib\\site-packages\\matplotlib\\artist.py\u001b[0m in \u001b[0;36m<listcomp>\u001b[1;34m(.0)\u001b[0m\n\u001b[0;32m    972\u001b[0m \u001b[1;33m\u001b[0m\u001b[0m\n\u001b[0;32m    973\u001b[0m         \u001b[1;32mwith\u001b[0m \u001b[0mcbook\u001b[0m\u001b[1;33m.\u001b[0m\u001b[0m_setattr_cm\u001b[0m\u001b[1;33m(\u001b[0m\u001b[0mself\u001b[0m\u001b[1;33m,\u001b[0m \u001b[0meventson\u001b[0m\u001b[1;33m=\u001b[0m\u001b[1;32mFalse\u001b[0m\u001b[1;33m)\u001b[0m\u001b[1;33m:\u001b[0m\u001b[1;33m\u001b[0m\u001b[1;33m\u001b[0m\u001b[0m\n\u001b[1;32m--> 974\u001b[1;33m             \u001b[0mret\u001b[0m \u001b[1;33m=\u001b[0m \u001b[1;33m[\u001b[0m\u001b[0m_update_property\u001b[0m\u001b[1;33m(\u001b[0m\u001b[0mself\u001b[0m\u001b[1;33m,\u001b[0m \u001b[0mk\u001b[0m\u001b[1;33m,\u001b[0m \u001b[0mv\u001b[0m\u001b[1;33m)\u001b[0m \u001b[1;32mfor\u001b[0m \u001b[0mk\u001b[0m\u001b[1;33m,\u001b[0m \u001b[0mv\u001b[0m \u001b[1;32min\u001b[0m \u001b[0mprops\u001b[0m\u001b[1;33m.\u001b[0m\u001b[0mitems\u001b[0m\u001b[1;33m(\u001b[0m\u001b[1;33m)\u001b[0m\u001b[1;33m]\u001b[0m\u001b[1;33m\u001b[0m\u001b[1;33m\u001b[0m\u001b[0m\n\u001b[0m\u001b[0;32m    975\u001b[0m \u001b[1;33m\u001b[0m\u001b[0m\n\u001b[0;32m    976\u001b[0m         \u001b[1;32mif\u001b[0m \u001b[0mlen\u001b[0m\u001b[1;33m(\u001b[0m\u001b[0mret\u001b[0m\u001b[1;33m)\u001b[0m\u001b[1;33m:\u001b[0m\u001b[1;33m\u001b[0m\u001b[1;33m\u001b[0m\u001b[0m\n",
      "\u001b[1;32m~\\anaconda3\\lib\\site-packages\\matplotlib\\artist.py\u001b[0m in \u001b[0;36m_update_property\u001b[1;34m(self, k, v)\u001b[0m\n\u001b[0;32m    968\u001b[0m                 \u001b[1;32mif\u001b[0m \u001b[1;32mnot\u001b[0m \u001b[0mcallable\u001b[0m\u001b[1;33m(\u001b[0m\u001b[0mfunc\u001b[0m\u001b[1;33m)\u001b[0m\u001b[1;33m:\u001b[0m\u001b[1;33m\u001b[0m\u001b[1;33m\u001b[0m\u001b[0m\n\u001b[0;32m    969\u001b[0m                     raise AttributeError('{!r} object has no property {!r}'\n\u001b[1;32m--> 970\u001b[1;33m                                          .format(type(self).__name__, k))\n\u001b[0m\u001b[0;32m    971\u001b[0m                 \u001b[1;32mreturn\u001b[0m \u001b[0mfunc\u001b[0m\u001b[1;33m(\u001b[0m\u001b[0mv\u001b[0m\u001b[1;33m)\u001b[0m\u001b[1;33m\u001b[0m\u001b[1;33m\u001b[0m\u001b[0m\n\u001b[0;32m    972\u001b[0m \u001b[1;33m\u001b[0m\u001b[0m\n",
      "\u001b[1;31mAttributeError\u001b[0m: 'Rectangle' object has no property 'xlabel'"
     ]
    },
    {
     "data": {
      "image/png": "[encoded data removed]",
      "text/plain": [
       "<Figure size 1440x720 with 1 Axes>"
      ]
     },
     "metadata": {
      "needs_background": "light"
     },
     "output_type": "display_data"
    }
   ],
   "source": [
    "poverty_rates.plot(kind=\"bar\",figsize=(20,10),title=\"Poverty Rate Given States\",xlabel=\"States\",rot=45,)\n",
    "plt.show()"
   ]
  },
  {
   "cell_type": "code",
   "execution_count": 20,
   "metadata": {},
   "outputs": [
    {
     "data": {
      "text/plain": [
       "<matplotlib.axes._subplots.AxesSubplot at 0x1ea67a42c88>"
      ]
     },
     "execution_count": 20,
     "metadata": {},
     "output_type": "execute_result"
    },
    {
     "data": {
      "image/png": "[encoded data removed]",
      "text/plain": [
       "<Figure size 1440x720 with 1 Axes>"
      ]
     },
     "metadata": {
      "needs_background": "light"
     },
     "output_type": "display_data"
    }
   ],
   "source": [
    "poverty_rates.plot.bar(figsize = (20, 10), title = \"Proverty Rate Given States\",rot = 45,legend = True)"
   ]
  },
  {
   "cell_type": "markdown",
   "metadata": {},
   "source": [
    "**INSTRUCTION-3.a.2 : Plot Sorted Values With Pandas Built in method:**"
   ]
  },
  {
   "cell_type": "code",
   "execution_count": 22,
   "metadata": {},
   "outputs": [],
   "source": [
    "sorted_poverty_rates = poverty_rates.sort_values(ascending  = False)"
   ]
  },
  {
   "cell_type": "code",
   "execution_count": 23,
   "metadata": {},
   "outputs": [
    {
     "data": {
      "text/plain": [
       "<matplotlib.axes._subplots.AxesSubplot at 0x1ea67c16208>"
      ]
     },
     "execution_count": 23,
     "metadata": {},
     "output_type": "execute_result"
    },
    {
     "data": {
      "image/png": "[encoded data removed]",
      "text/plain": [
       "<Figure size 1440x720 with 1 Axes>"
      ]
     },
     "metadata": {
      "needs_background": "light"
     },
     "output_type": "display_data"
    }
   ],
   "source": [
    "sorted_poverty_rates.plot.bar(figsize = (20, 10), title = \"Proverty Rate Given States\", rot = 45, legend = True)"
   ]
  },
  {
   "cell_type": "markdown",
   "metadata": {},
   "source": [
    "**INSTRUCTION-3.b : Plot Sorted Values With Matplotlib:** "
   ]
  },
  {
   "cell_type": "code",
   "execution_count": 24,
   "metadata": {},
   "outputs": [
    {
     "data": {
      "image/png": "[encoded data removed]",
      "text/plain": [
       "<Figure size 864x504 with 1 Axes>"
      ]
     },
     "metadata": {
      "needs_background": "light"
     },
     "output_type": "display_data"
    }
   ],
   "source": [
    "fig = plt.figure(figsize = (12,7))\n",
    "ax1 = fig.add_axes([0,0,1,1])\n",
    "ax1.bar(sorted_poverty_rates.index, sorted_poverty_rates)\n",
    "ax1.set_title(\"Poverty Rate Given States\", fontdict = {\"fontsize\":12})\n",
    "ax1.set_xlabel(\"States\", fontdict = {\"fontsize\":12} )\n",
    "ax1.set_ylabel(\"Proverty Rate\", fontdict = {\"fontsize\":12})\n",
    "plt.xticks(rotation = 45, fontsize =13)\n",
    "plt.show()"
   ]
  },
  {
   "cell_type": "code",
   "execution_count": null,
   "metadata": {},
   "outputs": [],
   "source": []
  },
  {
   "cell_type": "code",
   "execution_count": 14,
   "metadata": {},
   "outputs": [
    {
     "data": {
      "text/plain": [
       "Text(0.5, 1.0, 'Poverty Rate Given States')"
      ]
     },
     "execution_count": 14,
     "metadata": {},
     "output_type": "execute_result"
    },
    {
     "data": {
      "image/png": "[encoded data removed]",
      "text/plain": [
       "<Figure size 1080x576 with 1 Axes>"
      ]
     },
     "metadata": {
      "needs_background": "light"
     },
     "output_type": "display_data"
    }
   ],
   "source": []
  },
  {
   "cell_type": "markdown",
   "metadata": {},
   "source": [
    "**INSTRUCTION-3.c : Plot Sorted Values With Seaborn** "
   ]
  },
  {
   "cell_type": "code",
   "execution_count": 35,
   "metadata": {},
   "outputs": [
    {
     "data": {
      "image/png": "[encoded data removed]",
      "text/plain": [
       "<Figure size 720x360 with 1 Axes>"
      ]
     },
     "metadata": {},
     "output_type": "display_data"
    }
   ],
   "source": [
    "fig = plt.figure(figsize = (10,5))\n",
    "ax1 = fig.add_axes([0,0,1,1])\n",
    "sb.set_context( rc ={'xtick.labelsize': 14})\n",
    "sb.set(style = \"white\", palette = \"muted\")\n",
    "sb.barplot(sorted_poverty_rates.index, sorted_poverty_rates)\n",
    "ax1.set_xlabel(\"States\", fontdict = {\"fontsize\":12} )\n",
    "ax1.set_ylabel(\"Proverty Rate\", fontdict = {\"fontsize\":12})\n",
    "ax1.set_title(\"Poverty Rate Given States\", fontdict = {\"fontsize\":12})\n",
    "plt.xticks(rotation = 45,)\n",
    "plt.show()"
   ]
  },
  {
   "cell_type": "markdown",
   "metadata": {},
   "source": [
    "## 2. Most common 15 Name or Surname of killed people "
   ]
  },
  {
   "cell_type": "code",
   "execution_count": 41,
   "metadata": {
    "_uuid": "bfb975b648fbcbd1c6cdf1634f01e01371924a8c"
   },
   "outputs": [
    {
     "data": {
      "text/html": [
       "<div>\n",
       "<style scoped>\n",
       "    .dataframe tbody tr th:only-of-type {\n",
       "        vertical-align: middle;\n",
       "    }\n",
       "\n",
       "    .dataframe tbody tr th {\n",
       "        vertical-align: top;\n",
       "    }\n",
       "\n",
       "    .dataframe thead th {\n",
       "        text-align: right;\n",
       "    }\n",
       "</style>\n",
       "<table border=\"1\" class=\"dataframe\">\n",
       "  <thead>\n",
       "    <tr style=\"text-align: right;\">\n",
       "      <th></th>\n",
       "      <th>id</th>\n",
       "      <th>name</th>\n",
       "      <th>date</th>\n",
       "      <th>manner_of_death</th>\n",
       "      <th>armed</th>\n",
       "      <th>age</th>\n",
       "      <th>gender</th>\n",
       "      <th>race</th>\n",
       "      <th>city</th>\n",
       "      <th>state</th>\n",
       "      <th>signs_of_mental_illness</th>\n",
       "      <th>threat_level</th>\n",
       "      <th>flee</th>\n",
       "      <th>body_camera</th>\n",
       "    </tr>\n",
       "  </thead>\n",
       "  <tbody>\n",
       "    <tr>\n",
       "      <th>0</th>\n",
       "      <td>3</td>\n",
       "      <td>Tim Elliot</td>\n",
       "      <td>02/01/15</td>\n",
       "      <td>shot</td>\n",
       "      <td>gun</td>\n",
       "      <td>53.0</td>\n",
       "      <td>M</td>\n",
       "      <td>A</td>\n",
       "      <td>Shelton</td>\n",
       "      <td>WA</td>\n",
       "      <td>True</td>\n",
       "      <td>attack</td>\n",
       "      <td>Not fleeing</td>\n",
       "      <td>False</td>\n",
       "    </tr>\n",
       "    <tr>\n",
       "      <th>1</th>\n",
       "      <td>4</td>\n",
       "      <td>Lewis Lee Lembke</td>\n",
       "      <td>02/01/15</td>\n",
       "      <td>shot</td>\n",
       "      <td>gun</td>\n",
       "      <td>47.0</td>\n",
       "      <td>M</td>\n",
       "      <td>W</td>\n",
       "      <td>Aloha</td>\n",
       "      <td>OR</td>\n",
       "      <td>False</td>\n",
       "      <td>attack</td>\n",
       "      <td>Not fleeing</td>\n",
       "      <td>False</td>\n",
       "    </tr>\n",
       "    <tr>\n",
       "      <th>2</th>\n",
       "      <td>5</td>\n",
       "      <td>John Paul Quintero</td>\n",
       "      <td>03/01/15</td>\n",
       "      <td>shot and Tasered</td>\n",
       "      <td>unarmed</td>\n",
       "      <td>23.0</td>\n",
       "      <td>M</td>\n",
       "      <td>H</td>\n",
       "      <td>Wichita</td>\n",
       "      <td>KS</td>\n",
       "      <td>False</td>\n",
       "      <td>other</td>\n",
       "      <td>Not fleeing</td>\n",
       "      <td>False</td>\n",
       "    </tr>\n",
       "    <tr>\n",
       "      <th>3</th>\n",
       "      <td>8</td>\n",
       "      <td>Matthew Hoffman</td>\n",
       "      <td>04/01/15</td>\n",
       "      <td>shot</td>\n",
       "      <td>toy weapon</td>\n",
       "      <td>32.0</td>\n",
       "      <td>M</td>\n",
       "      <td>W</td>\n",
       "      <td>San Francisco</td>\n",
       "      <td>CA</td>\n",
       "      <td>True</td>\n",
       "      <td>attack</td>\n",
       "      <td>Not fleeing</td>\n",
       "      <td>False</td>\n",
       "    </tr>\n",
       "    <tr>\n",
       "      <th>4</th>\n",
       "      <td>9</td>\n",
       "      <td>Michael Rodriguez</td>\n",
       "      <td>04/01/15</td>\n",
       "      <td>shot</td>\n",
       "      <td>nail gun</td>\n",
       "      <td>39.0</td>\n",
       "      <td>M</td>\n",
       "      <td>H</td>\n",
       "      <td>Evans</td>\n",
       "      <td>CO</td>\n",
       "      <td>False</td>\n",
       "      <td>attack</td>\n",
       "      <td>Not fleeing</td>\n",
       "      <td>False</td>\n",
       "    </tr>\n",
       "  </tbody>\n",
       "</table>\n",
       "</div>"
      ],
      "text/plain": [
       "   id                name      date   manner_of_death       armed   age  \\\n",
       "0   3          Tim Elliot  02/01/15              shot         gun  53.0   \n",
       "1   4    Lewis Lee Lembke  02/01/15              shot         gun  47.0   \n",
       "2   5  John Paul Quintero  03/01/15  shot and Tasered     unarmed  23.0   \n",
       "3   8     Matthew Hoffman  04/01/15              shot  toy weapon  32.0   \n",
       "4   9   Michael Rodriguez  04/01/15              shot    nail gun  39.0   \n",
       "\n",
       "  gender race           city state  signs_of_mental_illness threat_level  \\\n",
       "0      M    A        Shelton    WA                     True       attack   \n",
       "1      M    W          Aloha    OR                    False       attack   \n",
       "2      M    H        Wichita    KS                    False        other   \n",
       "3      M    W  San Francisco    CA                     True       attack   \n",
       "4      M    H          Evans    CO                    False       attack   \n",
       "\n",
       "          flee  body_camera  \n",
       "0  Not fleeing        False  \n",
       "1  Not fleeing        False  \n",
       "2  Not fleeing        False  \n",
       "3  Not fleeing        False  \n",
       "4  Not fleeing        False  "
      ]
     },
     "execution_count": 41,
     "metadata": {},
     "output_type": "execute_result"
    }
   ],
   "source": [
    "kill.head()"
   ]
  },
  {
   "cell_type": "code",
   "execution_count": 42,
   "metadata": {},
   "outputs": [
    {
     "data": {
      "text/plain": [
       "TK TK                49\n",
       "Eric Harris           2\n",
       "Brandon Jones         2\n",
       "Michael Brown         2\n",
       "TK Tk                 2\n",
       "                     ..\n",
       "Justin Burton         1\n",
       "Charles Bertram       1\n",
       "John Birkeland        1\n",
       "Kole B. Knight        1\n",
       "Christopher Shell     1\n",
       "Name: name, Length: 2481, dtype: int64"
      ]
     },
     "execution_count": 42,
     "metadata": {},
     "output_type": "execute_result"
    }
   ],
   "source": [
    "kill.name.value_counts()"
   ]
  },
  {
   "cell_type": "code",
   "execution_count": 47,
   "metadata": {
    "_cell_guid": "c2cd6681-42a4-44c2-ba1a-46d4d61b6eea",
    "_uuid": "b3b53866f9c794ca5f85f59bc5bfc0d01a830baf",
    "scrolled": true
   },
   "outputs": [
    {
     "data": {
      "text/plain": [
       "0             [Tim, Elliot]\n",
       "1      [Lewis, Lee, Lembke]\n",
       "2    [John, Paul, Quintero]\n",
       "3        [Matthew, Hoffman]\n",
       "4      [Michael, Rodriguez]\n",
       "Name: name, dtype: object"
      ]
     },
     "execution_count": 47,
     "metadata": {},
     "output_type": "execute_result"
    }
   ],
   "source": [
    "# Problem: TK TK is most probably not a name or surname. We will clean them.\n",
    "pairs = kill.name[(kill.name != 'TK TK') & (kill.name != \"TK Tk\")].str.split()\n",
    "pairs.head()"
   ]
  },
  {
   "cell_type": "code",
   "execution_count": 48,
   "metadata": {},
   "outputs": [
    {
     "ename": "TypeError",
     "evalue": "unhashable type: 'list'",
     "output_type": "error",
     "traceback": [
      "\u001b[1;31m---------------------------------------------------------------------------\u001b[0m",
      "\u001b[1;31mTypeError\u001b[0m                                 Traceback (most recent call last)",
      "\u001b[1;32mpandas\\_libs\\hashtable_class_helper.pxi\u001b[0m in \u001b[0;36mpandas._libs.hashtable.PyObjectHashTable.map_locations\u001b[1;34m()\u001b[0m\n",
      "\u001b[1;31mTypeError\u001b[0m: unhashable type: 'list'"
     ]
    },
    {
     "name": "stderr",
     "output_type": "stream",
     "text": [
      "Exception ignored in: 'pandas._libs.index.IndexEngine._call_map_locations'\n",
      "Traceback (most recent call last):\n",
      "  File \"pandas\\_libs\\hashtable_class_helper.pxi\", line 1652, in pandas._libs.hashtable.PyObjectHashTable.map_locations\n",
      "TypeError: unhashable type: 'list'\n"
     ]
    },
    {
     "data": {
      "text/plain": [
       "[Michael, Johnson]              3\n",
       "[Michael, Brown]                2\n",
       "[Eric, Harris]                  2\n",
       "[Brandon, Jones]                2\n",
       "[Daquan, Antonio, Westbrook]    2\n",
       "                               ..\n",
       "[Shawn, Hall]                   1\n",
       "[Joseph, Scott, Inabinet]       1\n",
       "[Lionel, Kerns]                 1\n",
       "[Lamont, Gulley]                1\n",
       "[John, Spaulding]               1\n",
       "Name: name, Length: 2478, dtype: int64"
      ]
     },
     "execution_count": 48,
     "metadata": {},
     "output_type": "execute_result"
    }
   ],
   "source": [
    "pairs.value_counts()"
   ]
  },
  {
   "cell_type": "markdown",
   "metadata": {},
   "source": [
    "**INSTRUCTION : Plot Most common 15 Name or Surname of killed people** "
   ]
  },
  {
   "cell_type": "raw",
   "metadata": {},
   "source": [
    "# Clue 1: You need to separate the names and surnames because we are asking most common name OR surname.\n",
    "\n",
    "# Clue 2 :After seperation make a whole list that contains both names and surnames.\n",
    "\n",
    "# Clue 3 : How to separate the name and surname pairs?\n",
    "\n",
    ">>> pairs = [(1, 'a'), (2, 'b'), (3, 'c'), (4, 'd')]\n",
    ">>> numbers, letters = zip(*pairs)\n",
    ">>> numbers\n",
    "(1, 2, 3, 4)\n",
    ">>> letters\n",
    "('a', 'b', 'c', 'd')\n",
    "\n",
    "# Clue 4: You can use Counter() and most_common() built in functions together to find the most common names or surnames, or you can write your functions for this purpose."
   ]
  },
  {
   "cell_type": "code",
   "execution_count": 45,
   "metadata": {},
   "outputs": [
    {
     "data": {
      "text/plain": [
       "('a', 'b', 'c', 'd')"
      ]
     },
     "execution_count": 45,
     "metadata": {},
     "output_type": "execute_result"
    }
   ],
   "source": [
    ">>> pairs = [(1, 'a'), (2, 'b'), (3, 'c'), (4, 'd')]\n",
    ">>> numbers, letters = zip(*pairs)\n",
    ">>> numbers\n",
    "(1, 2, 3, 4)\n",
    ">>> letters\n",
    "('a', 'b', 'c', 'd')"
   ]
  },
  {
   "cell_type": "code",
   "execution_count": 49,
   "metadata": {},
   "outputs": [
    {
     "data": {
      "text/plain": [
       "('Elliot',\n",
       " 'Lee',\n",
       " 'Paul',\n",
       " 'Hoffman',\n",
       " 'Rodriguez',\n",
       " 'Joe',\n",
       " 'Arnold',\n",
       " 'Nichols',\n",
       " 'Steele',\n",
       " 'Sapp',\n",
       " 'Wetter',\n",
       " 'Sneed',\n",
       " 'Hanif',\n",
       " 'Ryan',\n",
       " 'Julian',\n",
       " 'Simpson',\n",
       " 'Dudley',\n",
       " 'Damon',\n",
       " 'Hamby',\n",
       " 'Foreman',\n",
       " 'Martinez',\n",
       " 'Smith',\n",
       " 'Barbosa',\n",
       " 'Figueroa',\n",
       " 'Edward',\n",
       " 'McClendon',\n",
       " 'Golden',\n",
       " 'Goebel',\n",
       " 'Jordan',\n",
       " 'Schroeder',\n",
       " 'Edwards',\n",
       " 'R.',\n",
       " 'Sowell',\n",
       " 'Earl',\n",
       " 'Reed',\n",
       " 'Ceja',\n",
       " 'Massey',\n",
       " 'Hall',\n",
       " 'Shinwary',\n",
       " 'Walker',\n",
       " 'Meza',\n",
       " 'Brumley',\n",
       " 'Guillory',\n",
       " 'Castle',\n",
       " 'Campbell',\n",
       " 'Carr',\n",
       " 'Allen',\n",
       " 'Angel',\n",
       " 'Holmes',\n",
       " 'Toto',\n",
       " 'Meton',\n",
       " 'Coignard',\n",
       " 'Francis',\n",
       " 'Turner',\n",
       " 'Antonio',\n",
       " 'King',\n",
       " 'Myler',\n",
       " 'Hutchins',\n",
       " 'Jude',\n",
       " 'Campbell',\n",
       " 'Hernandez',\n",
       " 'Kmetz',\n",
       " 'Omar',\n",
       " 'Garcia',\n",
       " 'Leland',\n",
       " 'Ingram',\n",
       " 'Fletcher',\n",
       " 'Terry',\n",
       " 'Lance',\n",
       " 'Nuu',\n",
       " 'Karasek',\n",
       " 'Willis',\n",
       " 'James',\n",
       " 'Barry',\n",
       " 'Manuel',\n",
       " 'Donnell',\n",
       " 'Haglund',\n",
       " 'Kassick',\n",
       " 'Murphy',\n",
       " 'D.',\n",
       " 'Henderson',\n",
       " 'Deshawn',\n",
       " 'Purvis',\n",
       " 'Lett',\n",
       " 'Colon',\n",
       " 'Muna',\n",
       " 'Hernandez',\n",
       " 'Ray',\n",
       " 'Atkins',\n",
       " 'Alfred',\n",
       " 'Hill',\n",
       " 'Sawyer',\n",
       " 'Allen',\n",
       " 'Martin',\n",
       " 'Flache',\n",
       " 'Cordaro',\n",
       " 'Paffen',\n",
       " 'Hostetter',\n",
       " 'Kreyssig',\n",
       " 'Luster',\n",
       " 'Zambrano-Montes',\n",
       " 'Bess',\n",
       " 'Fritze',\n",
       " 'Watkins',\n",
       " 'Ray',\n",
       " 'Larry',\n",
       " 'Lara-Rodriguez',\n",
       " 'Carlin',\n",
       " 'D.',\n",
       " 'Mejia',\n",
       " 'C.',\n",
       " 'Joy',\n",
       " 'Hall',\n",
       " 'Brent',\n",
       " 'Steward',\n",
       " 'Caldwell',\n",
       " 'K.',\n",
       " 'Evans',\n",
       " 'Sexton',\n",
       " 'Ireland',\n",
       " 'Lundy',\n",
       " 'Sparks',\n",
       " 'Juan',\n",
       " 'Fonville',\n",
       " 'Salazar',\n",
       " 'Villalpando',\n",
       " 'Lamar',\n",
       " 'Harris',\n",
       " 'Moncrief',\n",
       " 'Norman',\n",
       " 'Leonard',\n",
       " 'Nichols',\n",
       " 'Elrod',\n",
       " 'Kohl',\n",
       " 'Wayne',\n",
       " 'Giaquinta',\n",
       " 'Washington',\n",
       " 'Biegert',\n",
       " 'Lewis',\n",
       " 'Spivey',\n",
       " 'Phillip',\n",
       " 'Cuevas',\n",
       " 'Perez-Lopez',\n",
       " 'Biggs',\n",
       " 'Lee',\n",
       " 'Javiar',\n",
       " 'Freeman',\n",
       " 'Guilford',\n",
       " 'Allen',\n",
       " 'Uribe',\n",
       " 'J.',\n",
       " 'Sherrod',\n",
       " 'Hill',\n",
       " 'Lewis',\n",
       " 'Leundeu',\n",
       " 'Trieu',\n",
       " 'Barrow',\n",
       " 'Rhinvil',\n",
       " 'Metz',\n",
       " 'Cruice',\n",
       " 'Lao',\n",
       " 'Ryerson',\n",
       " 'Alexander',\n",
       " 'Hubbard',\n",
       " 'Vinzant',\n",
       " 'Anthony',\n",
       " 'Robinson',\n",
       " 'Reinhart',\n",
       " 'Duarte',\n",
       " 'McKillop',\n",
       " 'Jenee',\n",
       " 'Brown',\n",
       " 'Brent',\n",
       " 'Lamont',\n",
       " 'Hill',\n",
       " 'Croom',\n",
       " 'Mitchell',\n",
       " 'Franco',\n",
       " 'Johnson',\n",
       " 'Greenwell',\n",
       " 'Osorio',\n",
       " 'Dean',\n",
       " 'Valdez',\n",
       " 'Fleury',\n",
       " 'Russell',\n",
       " 'Garnett',\n",
       " 'Gross',\n",
       " 'Liggett',\n",
       " 'Driver',\n",
       " 'Perez',\n",
       " 'Richard',\n",
       " 'Castilleja',\n",
       " 'Reintzel',\n",
       " 'Siler',\n",
       " 'Ray',\n",
       " 'Tolkinen',\n",
       " 'Dean',\n",
       " 'Smith',\n",
       " 'Leon',\n",
       " 'Charles',\n",
       " 'Owen',\n",
       " 'Brown',\n",
       " 'Alexander',\n",
       " 'Stone',\n",
       " 'Lee',\n",
       " 'Alston',\n",
       " 'Childress',\n",
       " 'Burdge',\n",
       " 'Watkins',\n",
       " 'Jones',\n",
       " 'Rapp',\n",
       " 'Fowler',\n",
       " 'White',\n",
       " 'Vick',\n",
       " 'Ellis',\n",
       " 'Page',\n",
       " 'Smith',\n",
       " 'Gaver',\n",
       " 'Conley',\n",
       " 'Ryan',\n",
       " 'Brown',\n",
       " 'Gates',\n",
       " 'Snyder',\n",
       " 'J.',\n",
       " 'Dunham',\n",
       " 'Thomas',\n",
       " 'Lorenza',\n",
       " 'Terrazas',\n",
       " 'Tassinari',\n",
       " 'Choate',\n",
       " 'Solis',\n",
       " 'Kendrick',\n",
       " 'Hall',\n",
       " 'Hernandez',\n",
       " 'Seifert',\n",
       " 'Hockaday',\n",
       " 'Oates',\n",
       " 'West',\n",
       " 'Rooker',\n",
       " 'Herbert',\n",
       " 'Babb',\n",
       " 'Marcell',\n",
       " 'Anderson',\n",
       " 'Quezada',\n",
       " 'Hall',\n",
       " 'Washington',\n",
       " 'Clyde',\n",
       " 'Langford',\n",
       " 'Hicks',\n",
       " 'Harris',\n",
       " 'Rutledge',\n",
       " 'Prevatt',\n",
       " 'Howell',\n",
       " 'Scott',\n",
       " 'Anderson',\n",
       " 'Noll',\n",
       " 'Cockerel',\n",
       " 'Hanna',\n",
       " 'Myers',\n",
       " 'Willis',\n",
       " 'J.',\n",
       " 'Rose',\n",
       " 'Faith',\n",
       " 'Pernell',\n",
       " 'Rodriguez',\n",
       " 'Jeremy',\n",
       " 'Smith',\n",
       " 'Kimbrell',\n",
       " 'Smith',\n",
       " 'Leipold',\n",
       " 'Burgess',\n",
       " 'Cresencio',\n",
       " 'Reed',\n",
       " 'Allen',\n",
       " 'Long',\n",
       " 'Dale',\n",
       " 'Lee',\n",
       " 'Jimenez',\n",
       " 'Robinson',\n",
       " 'Grant',\n",
       " 'Barkley',\n",
       " 'Noble',\n",
       " 'Shephard',\n",
       " 'W.',\n",
       " 'Watson',\n",
       " 'Flores',\n",
       " 'Velazquez',\n",
       " 'Kemp',\n",
       " 'Cavazos',\n",
       " 'McCarroll',\n",
       " 'Tellez',\n",
       " 'Sapp',\n",
       " 'Foster',\n",
       " 'Hlavinka',\n",
       " 'Cortez',\n",
       " 'Wolfe',\n",
       " 'Covarrubias',\n",
       " 'Key',\n",
       " 'Martinez',\n",
       " 'Chapman',\n",
       " 'Saavedra',\n",
       " 'Efraim',\n",
       " 'McGregor',\n",
       " 'Vang',\n",
       " 'Valadez',\n",
       " 'Potts',\n",
       " 'Morejon',\n",
       " 'Janks',\n",
       " 'Cecil',\n",
       " 'Timmie',\n",
       " 'Jamal',\n",
       " 'Lawrence',\n",
       " 'Felix',\n",
       " 'Davis',\n",
       " 'Joe',\n",
       " 'Hanson',\n",
       " 'Genova',\n",
       " 'Kellom',\n",
       " 'Parker',\n",
       " 'Johnson',\n",
       " 'Green',\n",
       " 'Jackson',\n",
       " 'Deysie',\n",
       " 'Chavez-Diaz',\n",
       " 'Christian',\n",
       " 'Adkins',\n",
       " 'Acree',\n",
       " 'Zalbeg',\n",
       " 'Emmanuel',\n",
       " 'Mathena',\n",
       " 'Vance',\n",
       " 'Simpson',\n",
       " 'Soofi',\n",
       " 'Grimm',\n",
       " 'Asher',\n",
       " 'Cook',\n",
       " 'Glenn',\n",
       " 'Kien',\n",
       " 'A.',\n",
       " 'William',\n",
       " 'Roy',\n",
       " 'Murphy',\n",
       " 'Arriguin',\n",
       " 'Johnson',\n",
       " 'Schwalm',\n",
       " 'Marshall',\n",
       " 'Holmes',\n",
       " 'Cunningham',\n",
       " 'Lorenzo',\n",
       " 'Goldston',\n",
       " 'Way',\n",
       " 'Stallworth',\n",
       " 'Zalonka',\n",
       " 'Ouzounian',\n",
       " 'Michael',\n",
       " 'Martin',\n",
       " 'Farrar',\n",
       " 'Coates',\n",
       " 'Wade',\n",
       " 'Fiel',\n",
       " 'Goodner',\n",
       " 'Jones',\n",
       " 'Rials-Torres',\n",
       " 'McIntosh',\n",
       " 'Gaines',\n",
       " 'Gomez',\n",
       " 'Colley',\n",
       " 'Talbott',\n",
       " 'Jo',\n",
       " 'Wheeler',\n",
       " 'Alejandro',\n",
       " 'Washington',\n",
       " 'Anthony',\n",
       " 'Diaz',\n",
       " 'Caldwell',\n",
       " 'Lowery',\n",
       " 'Jackson',\n",
       " 'Horn',\n",
       " 'Robinson',\n",
       " 'Bolin',\n",
       " 'Briggs',\n",
       " 'Tallant',\n",
       " 'Branch',\n",
       " 'Williams',\n",
       " 'McAllister',\n",
       " 'Sandeno',\n",
       " 'Davis',\n",
       " 'Morad',\n",
       " 'Hubble',\n",
       " 'Morgan',\n",
       " 'Strong',\n",
       " 'Dothard',\n",
       " 'Baker',\n",
       " 'Allen',\n",
       " 'Fischer',\n",
       " 'Box',\n",
       " 'Lamont',\n",
       " 'Tirado',\n",
       " 'Anthony',\n",
       " 'Bushey',\n",
       " 'Ladd',\n",
       " 'Rahim',\n",
       " 'Dajani',\n",
       " 'Garza',\n",
       " 'Baca',\n",
       " 'Martinez',\n",
       " 'Hernandez',\n",
       " 'Neal',\n",
       " 'Quezada',\n",
       " 'Cathers',\n",
       " 'Hogg',\n",
       " 'Smillie',\n",
       " 'Campos',\n",
       " 'Nevels',\n",
       " 'Ramirez',\n",
       " 'Wayne',\n",
       " 'Marshall',\n",
       " 'Johnson',\n",
       " 'Garcia',\n",
       " 'Warolf',\n",
       " 'Linhart',\n",
       " 'Hartley',\n",
       " 'Hicks',\n",
       " 'Bolinger',\n",
       " 'Hampton',\n",
       " 'Ziegler',\n",
       " 'Phillips',\n",
       " 'Severe',\n",
       " 'Flores',\n",
       " 'Peralta-Lantigua',\n",
       " 'Haendiges',\n",
       " 'Hodge',\n",
       " 'Manyoun',\n",
       " 'Boulware',\n",
       " 'Garcia',\n",
       " 'Terryn',\n",
       " 'Jackson',\n",
       " 'DeLeon',\n",
       " 'Charboneau',\n",
       " 'Chappell',\n",
       " 'Lanphier',\n",
       " 'Tcherniak',\n",
       " 'Laboy',\n",
       " 'Hummons',\n",
       " 'Atencio',\n",
       " 'Cockerham',\n",
       " 'Simental',\n",
       " 'Marshall',\n",
       " 'Monroe',\n",
       " 'Reyes',\n",
       " 'Wicks',\n",
       " 'Harris',\n",
       " 'Dyer',\n",
       " 'Wilson',\n",
       " 'Waddel',\n",
       " 'Culbertson',\n",
       " 'A.',\n",
       " 'McCain',\n",
       " 'Jake',\n",
       " 'Matt',\n",
       " 'Angel',\n",
       " 'Crittenden',\n",
       " 'Bellew',\n",
       " 'LaPort',\n",
       " 'Alan',\n",
       " 'Lamont',\n",
       " 'Landon',\n",
       " 'Buckley',\n",
       " 'Nguyen',\n",
       " 'Emanuel',\n",
       " 'Johnson',\n",
       " 'A.',\n",
       " 'Lopez',\n",
       " 'Camacho',\n",
       " 'Julian',\n",
       " 'Elando',\n",
       " 'Shannon',\n",
       " 'Beaty',\n",
       " 'David',\n",
       " 'Deming',\n",
       " 'Holt',\n",
       " 'Munroe',\n",
       " 'Ray',\n",
       " 'Rogers',\n",
       " 'Esty-Lennon',\n",
       " 'Oliva',\n",
       " 'Leonard',\n",
       " 'Hendley',\n",
       " 'Jamarcus',\n",
       " 'Dujanovic',\n",
       " 'Cody',\n",
       " 'Hernandez',\n",
       " 'Graciano',\n",
       " 'Dantzler',\n",
       " 'Booth',\n",
       " 'Blough',\n",
       " 'Terence',\n",
       " 'Shatley',\n",
       " 'Joseph',\n",
       " 'Hammonds',\n",
       " 'Milliner',\n",
       " 'Hurtado',\n",
       " 'White',\n",
       " 'Hawkins',\n",
       " 'Michael',\n",
       " 'Blue',\n",
       " 'McSwain',\n",
       " 'Maine',\n",
       " 'Castaway',\n",
       " 'Ellswood',\n",
       " 'Lepine',\n",
       " 'Watson',\n",
       " 'Benton',\n",
       " 'Farmer',\n",
       " 'Ryan',\n",
       " 'Suazo',\n",
       " 'Davis',\n",
       " 'Avant',\n",
       " 'Crandall',\n",
       " 'Kailing',\n",
       " 'Smith',\n",
       " 'Gonzalez',\n",
       " 'Foster',\n",
       " 'Stephen',\n",
       " 'Youssef',\n",
       " 'Hack',\n",
       " 'Gabriel',\n",
       " 'Smith',\n",
       " 'Joseph',\n",
       " 'Brand',\n",
       " 'Stewart',\n",
       " 'Roman',\n",
       " 'Wheat',\n",
       " 'Thomas',\n",
       " 'Edward',\n",
       " 'DuBose',\n",
       " 'LeBoeuf',\n",
       " 'Francis',\n",
       " 'Billy',\n",
       " 'Fuller',\n",
       " 'Tyre',\n",
       " 'Benitez-Santiago',\n",
       " 'Dontrell',\n",
       " 'Guisherd',\n",
       " 'L.',\n",
       " 'Wolfsteller',\n",
       " 'Stortzum',\n",
       " 'Lee',\n",
       " 'Satre',\n",
       " 'Raines',\n",
       " 'Aaron',\n",
       " 'Olmstead',\n",
       " 'Braswell',\n",
       " 'Keith',\n",
       " 'Jackson',\n",
       " 'Westly',\n",
       " 'Hammond',\n",
       " 'Milliken',\n",
       " 'Paul',\n",
       " 'Forgy',\n",
       " 'Johnson',\n",
       " 'Malone',\n",
       " 'Darrin',\n",
       " 'Perkins',\n",
       " 'Daniel',\n",
       " 'Vallejo',\n",
       " 'Lotari',\n",
       " 'Molina',\n",
       " 'Hatch',\n",
       " 'Cook',\n",
       " 'Serrano',\n",
       " 'Reynolds',\n",
       " 'Clements',\n",
       " 'Malave',\n",
       " 'Short',\n",
       " 'Ruble',\n",
       " 'Robert',\n",
       " 'D.',\n",
       " 'Alexander',\n",
       " 'Dieringer',\n",
       " 'Hodge',\n",
       " 'Dominique',\n",
       " 'Montano',\n",
       " 'Galaviz',\n",
       " 'Ponce-Galon',\n",
       " 'Bertram',\n",
       " 'Taylor',\n",
       " 'Correa',\n",
       " 'Marchese',\n",
       " 'Keckhafer',\n",
       " 'Clark',\n",
       " 'Lee',\n",
       " 'Burr',\n",
       " 'Terrel',\n",
       " 'Clyde',\n",
       " 'McDaniel',\n",
       " 'Green',\n",
       " 'Tompkins',\n",
       " 'Patrick',\n",
       " 'Rivera',\n",
       " 'Tyler',\n",
       " 'George',\n",
       " 'Lance',\n",
       " 'Dean',\n",
       " 'Wilks',\n",
       " 'Jones',\n",
       " 'Lorenzo',\n",
       " 'Marshall',\n",
       " 'Smith',\n",
       " 'Tyree',\n",
       " 'Rene',\n",
       " 'Pharoah',\n",
       " 'Anderson',\n",
       " 'Unsworth',\n",
       " 'Matthew',\n",
       " 'Peter',\n",
       " 'Pope',\n",
       " 'Castillo',\n",
       " 'B.',\n",
       " 'Roy',\n",
       " 'Jacquez',\n",
       " 'Ball-Bey',\n",
       " 'Ernel',\n",
       " 'Hale',\n",
       " 'Allen',\n",
       " 'Gerken',\n",
       " 'Ray',\n",
       " 'Herrera',\n",
       " 'Walling',\n",
       " 'S.',\n",
       " 'Joseph',\n",
       " 'Schneider',\n",
       " 'Faison',\n",
       " 'Lee',\n",
       " 'Garner',\n",
       " 'Henry',\n",
       " 'Francis',\n",
       " 'Ray',\n",
       " 'Hoffman',\n",
       " 'Troledge',\n",
       " 'Lee',\n",
       " 'Maestas',\n",
       " 'Smith',\n",
       " 'Tomlinson',\n",
       " 'Rudolph',\n",
       " 'Arroliga',\n",
       " 'Dodd',\n",
       " 'Pickard',\n",
       " 'Lambrose',\n",
       " 'Davis',\n",
       " 'Alehegne',\n",
       " 'Hober',\n",
       " 'Soriano',\n",
       " 'Flores',\n",
       " 'Evans',\n",
       " 'Kumi',\n",
       " 'Brian',\n",
       " 'Marcus',\n",
       " 'Albrecht',\n",
       " 'Cruz',\n",
       " 'Hall',\n",
       " 'M.',\n",
       " 'Rippley',\n",
       " 'Maurice',\n",
       " 'Robert',\n",
       " 'Todd',\n",
       " 'Bates',\n",
       " 'Centeno',\n",
       " 'James',\n",
       " 'Ramon',\n",
       " 'Keith',\n",
       " 'Lanier',\n",
       " 'Lambert',\n",
       " 'Trevon',\n",
       " 'Wenceslao',\n",
       " 'Delano',\n",
       " 'Kager',\n",
       " 'Yero',\n",
       " 'Ibrahim',\n",
       " 'Verrett',\n",
       " 'Carlos',\n",
       " 'Vent',\n",
       " 'Kuik',\n",
       " 'Holman',\n",
       " 'J.',\n",
       " 'Chau',\n",
       " 'Ma',\n",
       " 'Santino',\n",
       " 'Foy',\n",
       " 'Wilburly',\n",
       " 'Tapia',\n",
       " 'T.',\n",
       " 'Pfleghardt',\n",
       " 'Davis',\n",
       " 'Stevens',\n",
       " 'Francis',\n",
       " 'Butler',\n",
       " 'Eugene',\n",
       " 'Thompson',\n",
       " 'Todd',\n",
       " 'Bass',\n",
       " 'Chaidez',\n",
       " 'Suarez-Ruiz',\n",
       " 'Wilhelm',\n",
       " 'R.',\n",
       " 'Lynn',\n",
       " 'Gary',\n",
       " 'Price',\n",
       " 'Alan',\n",
       " 'Herrell',\n",
       " 'Rolland',\n",
       " 'Beech',\n",
       " 'Thomas',\n",
       " 'Wright',\n",
       " 'Ramirez',\n",
       " 'Spaits',\n",
       " 'Money',\n",
       " 'McKenny',\n",
       " 'Wagner',\n",
       " 'Fuller',\n",
       " 'Osborne',\n",
       " 'Dixon',\n",
       " 'Kyle',\n",
       " 'Kyle',\n",
       " 'Berger',\n",
       " 'Khammash',\n",
       " 'Harrison',\n",
       " 'Ray',\n",
       " 'McDole',\n",
       " 'Medina',\n",
       " \"O'Grady\",\n",
       " 'Quinn',\n",
       " 'Lemmon',\n",
       " 'Anderson',\n",
       " 'Blood',\n",
       " 'McKinney',\n",
       " 'Lerma',\n",
       " 'Angelica',\n",
       " 'Shell',\n",
       " 'Oswaldo',\n",
       " 'Prosper',\n",
       " 'Hernandez',\n",
       " 'Stephen',\n",
       " 'Christen',\n",
       " 'Lamar',\n",
       " 'M.',\n",
       " 'Pena',\n",
       " 'Ilene',\n",
       " 'Dobbins',\n",
       " 'Joseph',\n",
       " 'Edgell',\n",
       " 'McCallum',\n",
       " 'Dunaway',\n",
       " 'Jencsik',\n",
       " 'Ali',\n",
       " 'A.',\n",
       " 'Miller',\n",
       " 'Lago',\n",
       " 'Carmona',\n",
       " 'Wagner',\n",
       " 'Whitmarsh',\n",
       " 'Love',\n",
       " 'Combs',\n",
       " 'Quay',\n",
       " 'Aguilar',\n",
       " 'Pasquez',\n",
       " 'Lau',\n",
       " 'Brandon',\n",
       " 'Humberto',\n",
       " 'Day',\n",
       " 'Smith',\n",
       " 'Brannon',\n",
       " 'Marie',\n",
       " 'Villarreal',\n",
       " 'Donald',\n",
       " 'Portis',\n",
       " 'Santiago',\n",
       " 'Alexander',\n",
       " 'Lee',\n",
       " 'J.',\n",
       " 'Burgess',\n",
       " 'Benitez',\n",
       " 'Ryans',\n",
       " 'Angel',\n",
       " 'Foreman',\n",
       " 'Javenta',\n",
       " 'Paredes',\n",
       " 'Williams',\n",
       " 'Jones',\n",
       " 'Ekizian',\n",
       " 'Lamont',\n",
       " 'D.',\n",
       " 'Jones',\n",
       " 'Lopes',\n",
       " 'Greenwood',\n",
       " 'Tyler',\n",
       " 'Angel',\n",
       " 'Christopher',\n",
       " 'Arnold',\n",
       " 'Green',\n",
       " 'Jamarr',\n",
       " 'H.',\n",
       " 'Tozzi',\n",
       " 'Ulloa',\n",
       " 'Thomas',\n",
       " 'Hutchinson',\n",
       " 'West',\n",
       " 'Myron',\n",
       " 'Ployhar',\n",
       " 'Harley',\n",
       " 'Brunson',\n",
       " 'McMillan',\n",
       " 'Igbuhay',\n",
       " 'Cuyler',\n",
       " 'Ashford',\n",
       " 'Keith',\n",
       " 'Michael',\n",
       " 'Levi',\n",
       " 'Lamar',\n",
       " 'Quintez',\n",
       " 'Ray',\n",
       " 'Martinez',\n",
       " 'Berry',\n",
       " 'Nole',\n",
       " 'Harpham',\n",
       " 'Lee',\n",
       " 'Roy',\n",
       " \"O'Quinn\",\n",
       " 'Yantis',\n",
       " 'Covington',\n",
       " 'Mardis',\n",
       " 'Tyndall',\n",
       " 'Allen',\n",
       " 'Mohammad',\n",
       " 'Gene',\n",
       " 'Romanoski',\n",
       " 'Bigley',\n",
       " 'Hohman',\n",
       " 'Lemieux',\n",
       " 'Johnson',\n",
       " 'Francis',\n",
       " 'Lee',\n",
       " 'Simmons',\n",
       " 'Cuellar',\n",
       " 'Maverick',\n",
       " 'Acevedo',\n",
       " 'Cano',\n",
       " 'Bruce',\n",
       " 'Gabriel',\n",
       " 'Leanard',\n",
       " 'Blake',\n",
       " 'Jaramillo',\n",
       " 'Lopez',\n",
       " 'Gavin',\n",
       " 'Quinn',\n",
       " 'Nero',\n",
       " 'Joseph',\n",
       " 'Gamino',\n",
       " 'Coleman',\n",
       " 'Salazar',\n",
       " 'Perkins',\n",
       " 'David',\n",
       " 'Whitehead',\n",
       " 'Clark',\n",
       " 'Davis',\n",
       " 'Noblitt',\n",
       " 'Tindall',\n",
       " 'Leon',\n",
       " 'Bryant',\n",
       " 'Chatham',\n",
       " 'Touchstone',\n",
       " 'Hartnett',\n",
       " 'Brown',\n",
       " 'Meridy',\n",
       " 'Allen',\n",
       " 'Dormil',\n",
       " 'Napper',\n",
       " 'Tarrant',\n",
       " 'Harris',\n",
       " 'Nichols',\n",
       " 'Daniel',\n",
       " 'Grows',\n",
       " 'Angel',\n",
       " 'Reyna',\n",
       " 'Kirk',\n",
       " 'Kirvelay',\n",
       " 'Joseph',\n",
       " 'Baez',\n",
       " 'Edgar',\n",
       " 'R.',\n",
       " 'Speer',\n",
       " 'Thomas',\n",
       " 'Gullickson',\n",
       " 'Close',\n",
       " 'D.',\n",
       " 'Kerns',\n",
       " 'Aguilar',\n",
       " 'Fernando',\n",
       " 'Grigsby',\n",
       " 'Hoang',\n",
       " 'Smith',\n",
       " 'Sauceda',\n",
       " 'Jozefowicz',\n",
       " 'Anthony',\n",
       " 'Munoz',\n",
       " 'Malik',\n",
       " 'Farook',\n",
       " 'Woods',\n",
       " 'Pacheco',\n",
       " 'Lucero',\n",
       " 'Scott',\n",
       " 'Krstic',\n",
       " 'M.',\n",
       " 'Price',\n",
       " 'Winesett',\n",
       " 'L.',\n",
       " 'Huck',\n",
       " 'Perez',\n",
       " 'Azevedo',\n",
       " 'Zaramo',\n",
       " 'Alan',\n",
       " 'Espinal',\n",
       " 'Stokes',\n",
       " 'Higdon',\n",
       " 'Monroe',\n",
       " 'Bryant',\n",
       " 'Edward',\n",
       " 'Arthur',\n",
       " 'Wickert',\n",
       " 'Goodlow',\n",
       " 'Shante',\n",
       " 'Robertson',\n",
       " 'Wardlow',\n",
       " 'Jospeh',\n",
       " 'Carreon',\n",
       " 'Villanueva',\n",
       " 'Weis',\n",
       " 'McMillan',\n",
       " 'Leiataua',\n",
       " 'Gonzalez',\n",
       " 'McKinnis',\n",
       " 'Gene',\n",
       " 'Thomason',\n",
       " 'Dean',\n",
       " 'Verdejo',\n",
       " 'Alvarez',\n",
       " 'Sanchez',\n",
       " 'Toney',\n",
       " 'Dubose',\n",
       " 'Neil',\n",
       " 'Yon',\n",
       " 'Fletcher',\n",
       " 'Lauro',\n",
       " 'Frerichs',\n",
       " 'L.',\n",
       " 'Scruggs',\n",
       " 'Jose',\n",
       " 'Browning',\n",
       " 'Ramirez',\n",
       " 'Quiroz',\n",
       " 'Daniels',\n",
       " 'Noel',\n",
       " 'DeGroat',\n",
       " 'L.',\n",
       " 'Leith',\n",
       " 'Barsnick',\n",
       " 'Reynolds',\n",
       " 'Stephens',\n",
       " 'Hilber',\n",
       " 'Rodriguez',\n",
       " 'Matthews',\n",
       " 'Gunning',\n",
       " 'Sanders',\n",
       " 'Tyree',\n",
       " 'Ventura',\n",
       " 'Antonio',\n",
       " 'David',\n",
       " 'Niesen',\n",
       " 'Jones',\n",
       " 'LeGrier',\n",
       " 'Heredia',\n",
       " 'Parker',\n",
       " 'Mould',\n",
       " 'Paul',\n",
       " 'Jason',\n",
       " 'Velega-Nuufolau',\n",
       " 'Hua',\n",
       " 'Perez',\n",
       " 'Randell',\n",
       " 'Childress',\n",
       " 'Sisson',\n",
       " \"O'Brien\",\n",
       " 'Light',\n",
       " 'Haskell',\n",
       " 'Wallace',\n",
       " 'John',\n",
       " 'Turner',\n",
       " 'Anthony',\n",
       " 'K.',\n",
       " 'Antonio',\n",
       " ...)"
      ]
     },
     "execution_count": 49,
     "metadata": {},
     "output_type": "execute_result"
    }
   ],
   "source": [
    "names1, surnames = zip(*pairs)\n",
    "names1\n",
    "surnames"
   ]
  },
  {
   "cell_type": "code",
   "execution_count": 50,
   "metadata": {},
   "outputs": [
    {
     "data": {
      "text/plain": [
       "('Tim',\n",
       " 'Lewis',\n",
       " 'John',\n",
       " 'Matthew',\n",
       " 'Michael',\n",
       " 'Kenneth',\n",
       " 'Kenneth',\n",
       " 'Brock',\n",
       " 'Autumn',\n",
       " 'Leslie',\n",
       " 'Patrick',\n",
       " 'Ron',\n",
       " 'Hashim',\n",
       " 'Nicholas',\n",
       " 'Omarr',\n",
       " 'Loren',\n",
       " 'James',\n",
       " 'Artago',\n",
       " 'Thomas',\n",
       " 'Jimmy',\n",
       " 'Andy',\n",
       " 'Tommy',\n",
       " 'Brian',\n",
       " 'Salvador',\n",
       " 'John',\n",
       " 'Richard',\n",
       " 'Marcus',\n",
       " 'Michael',\n",
       " 'Mario',\n",
       " 'Talbot',\n",
       " 'Robert',\n",
       " 'Jeffrey',\n",
       " 'Donte',\n",
       " 'Kavonda',\n",
       " 'Quincy',\n",
       " 'Jose',\n",
       " 'Nathan',\n",
       " 'Scott',\n",
       " 'Zaki',\n",
       " 'Terence',\n",
       " 'Pablo',\n",
       " 'Daniel',\n",
       " 'Jonathan',\n",
       " 'Carter',\n",
       " 'Paul',\n",
       " 'Dewayne',\n",
       " 'Todd',\n",
       " 'Miguel',\n",
       " 'Isaac',\n",
       " 'Andrew',\n",
       " 'Tiano',\n",
       " 'Kristiana',\n",
       " 'Robert',\n",
       " 'Demaris',\n",
       " 'Jose',\n",
       " 'Wendell',\n",
       " 'Daryl',\n",
       " 'Darin',\n",
       " 'Orlando',\n",
       " 'William',\n",
       " 'Jessie',\n",
       " 'Raymond',\n",
       " 'Joshua',\n",
       " 'David',\n",
       " 'Nicolas',\n",
       " 'Chris',\n",
       " 'Jermonte',\n",
       " 'Tiffany',\n",
       " 'Alan',\n",
       " 'Matautu',\n",
       " 'Cody',\n",
       " 'Ralph',\n",
       " 'Alan',\n",
       " 'John',\n",
       " 'Victor',\n",
       " 'Edward',\n",
       " 'Jacob',\n",
       " 'David',\n",
       " 'Francis',\n",
       " 'Ledarius',\n",
       " 'Yuvette',\n",
       " 'Dewayne',\n",
       " 'Anthony',\n",
       " 'Jeremy',\n",
       " 'Izzy',\n",
       " 'Salvador',\n",
       " 'Joaquin',\n",
       " 'Jimmy',\n",
       " 'Markell',\n",
       " 'Paul',\n",
       " 'Herbert',\n",
       " 'John',\n",
       " 'James',\n",
       " 'John',\n",
       " 'Sawyer',\n",
       " 'Vincent',\n",
       " 'Joseph',\n",
       " 'Larry',\n",
       " 'Kenneth',\n",
       " 'Desmond',\n",
       " 'Antonio',\n",
       " 'Anthony',\n",
       " 'Brian',\n",
       " 'Phillip',\n",
       " 'Fletcher',\n",
       " 'Jonathan',\n",
       " 'Andres',\n",
       " 'Richard',\n",
       " 'Matthew',\n",
       " 'Daniel',\n",
       " 'Jason',\n",
       " 'Roy',\n",
       " 'Lavall',\n",
       " 'Howard',\n",
       " 'Bruce',\n",
       " 'Lawrence',\n",
       " 'Michael',\n",
       " 'Cody',\n",
       " 'Betty',\n",
       " 'Michael',\n",
       " 'Matthew',\n",
       " 'Douglas',\n",
       " 'Pedro',\n",
       " 'Janisha',\n",
       " 'Alejandro',\n",
       " 'Ruben',\n",
       " 'Stanley',\n",
       " 'Douglas',\n",
       " 'Jason',\n",
       " 'Kent',\n",
       " 'Bradford',\n",
       " 'Jerome',\n",
       " 'Daniel',\n",
       " 'Robert',\n",
       " 'Michael',\n",
       " 'Anthony',\n",
       " \"A'Donte\",\n",
       " 'Joseph',\n",
       " 'Glenn',\n",
       " 'Francis',\n",
       " 'Alexander',\n",
       " 'David',\n",
       " 'Amilcar',\n",
       " 'Rodney',\n",
       " 'Crystal',\n",
       " 'Ernesto',\n",
       " 'Chazsten',\n",
       " 'Deven',\n",
       " 'Thomas',\n",
       " 'Jessica',\n",
       " 'Cornelius',\n",
       " 'Ian',\n",
       " 'Stephanie',\n",
       " 'Donald',\n",
       " 'Charly',\n",
       " 'Hung',\n",
       " 'Shaquille',\n",
       " 'Fednel',\n",
       " 'Matthew',\n",
       " 'Derek',\n",
       " 'Carl',\n",
       " 'Tyrone',\n",
       " 'Sergio',\n",
       " 'Tyson',\n",
       " 'Naeschylus',\n",
       " 'Andrew',\n",
       " 'Tony',\n",
       " 'Adam',\n",
       " 'Aurelio',\n",
       " 'Michael',\n",
       " 'Monique',\n",
       " 'Lester',\n",
       " 'James',\n",
       " 'Cedrick',\n",
       " 'Anthony',\n",
       " 'Jamie',\n",
       " 'Christopher',\n",
       " 'Edixon',\n",
       " 'Theodore',\n",
       " 'James',\n",
       " 'Benito',\n",
       " 'Ryan',\n",
       " 'Aaron',\n",
       " 'Gilbert',\n",
       " 'William',\n",
       " 'Terry',\n",
       " 'Bobby',\n",
       " 'Fred',\n",
       " 'Andrew',\n",
       " 'Antonio',\n",
       " 'James',\n",
       " 'Richard',\n",
       " 'Clifton',\n",
       " 'Aaron',\n",
       " 'Troy',\n",
       " 'Justin',\n",
       " 'William',\n",
       " 'Eugene',\n",
       " 'Roberto',\n",
       " 'Andrew',\n",
       " 'Declan',\n",
       " 'Alice',\n",
       " 'Jeff',\n",
       " 'Kaylene',\n",
       " 'Garland',\n",
       " 'Kendre',\n",
       " 'Jamison',\n",
       " 'Robert',\n",
       " 'Shane',\n",
       " 'Brandon',\n",
       " 'Brandon',\n",
       " 'Justin',\n",
       " 'Richard',\n",
       " 'Tyrel',\n",
       " 'James',\n",
       " 'Gary',\n",
       " 'Jason',\n",
       " 'Enoch',\n",
       " 'Phillip',\n",
       " 'Christopher',\n",
       " 'Denzel',\n",
       " 'Devin',\n",
       " 'Stephen',\n",
       " 'Walter',\n",
       " 'Scott',\n",
       " 'Nicholas',\n",
       " 'Jeremy',\n",
       " 'Victor',\n",
       " 'Joseph',\n",
       " 'Deanne',\n",
       " 'Adrian',\n",
       " 'Gary',\n",
       " 'Jamalis',\n",
       " 'Adrian',\n",
       " 'Neil',\n",
       " 'Megan',\n",
       " 'Harvey',\n",
       " 'Angelo',\n",
       " 'Robert',\n",
       " 'Byron',\n",
       " 'Brian',\n",
       " 'John',\n",
       " 'Jeremy',\n",
       " 'Benjamin',\n",
       " 'Mya',\n",
       " 'Robert',\n",
       " 'Shawn',\n",
       " 'Darrin',\n",
       " 'Donald',\n",
       " 'Eric',\n",
       " 'Aaron',\n",
       " 'Christopher',\n",
       " 'Justus',\n",
       " 'Walter',\n",
       " 'Paul',\n",
       " 'Ethan',\n",
       " 'Ken',\n",
       " 'Richard',\n",
       " 'Alexander',\n",
       " 'Desmond',\n",
       " 'Tyrell',\n",
       " 'Erick',\n",
       " 'Douglas',\n",
       " 'Dexter',\n",
       " 'Roberto',\n",
       " 'Joseph',\n",
       " 'Mark',\n",
       " 'Gordon',\n",
       " 'Don',\n",
       " 'Jess',\n",
       " 'Phillip',\n",
       " 'Angel',\n",
       " 'Richard',\n",
       " 'Donald',\n",
       " 'Mack',\n",
       " 'Richard',\n",
       " 'Jason',\n",
       " 'Isaac',\n",
       " 'Colby',\n",
       " 'Christopher',\n",
       " 'Tevin',\n",
       " 'Dante',\n",
       " 'Frank',\n",
       " 'Mark',\n",
       " 'Stanley',\n",
       " 'Ernesto',\n",
       " 'Rodolfo',\n",
       " 'Jeffrey',\n",
       " 'Elias',\n",
       " 'Thaddeus',\n",
       " 'Erik',\n",
       " 'Grover',\n",
       " 'Michael',\n",
       " 'Dana',\n",
       " 'Santos',\n",
       " 'Daniel',\n",
       " 'Daniel',\n",
       " 'Kimber',\n",
       " 'Luis',\n",
       " 'William',\n",
       " 'Carlos',\n",
       " 'Jonathan',\n",
       " 'Reginald',\n",
       " 'Lue',\n",
       " 'Andrew',\n",
       " 'Joseph',\n",
       " 'Hector',\n",
       " 'Karen',\n",
       " 'Mark',\n",
       " 'Gary',\n",
       " 'Todd',\n",
       " 'Brandon',\n",
       " 'David',\n",
       " 'Daniel',\n",
       " 'Billy',\n",
       " 'Albert',\n",
       " 'Dean',\n",
       " 'Terrance',\n",
       " 'David',\n",
       " 'Jared',\n",
       " 'Joshua',\n",
       " 'Andrew',\n",
       " 'Joshua',\n",
       " 'Luis',\n",
       " 'Alexia',\n",
       " 'Jeffrey',\n",
       " 'John',\n",
       " 'Fridoon',\n",
       " 'Erick',\n",
       " 'Kenneth',\n",
       " 'Kevin',\n",
       " 'Elton',\n",
       " 'Nadir',\n",
       " 'Billy',\n",
       " 'Michael',\n",
       " 'Roark',\n",
       " 'Brendon',\n",
       " 'Thong',\n",
       " 'Robert',\n",
       " 'David',\n",
       " 'Joseph',\n",
       " 'Michael',\n",
       " 'Nephi',\n",
       " 'Shaun',\n",
       " 'David',\n",
       " 'Dedrick',\n",
       " 'Sam',\n",
       " 'Stephen',\n",
       " 'Lionel',\n",
       " 'Kelvin',\n",
       " 'Justin',\n",
       " \"D'Angelo\",\n",
       " 'Bruce',\n",
       " 'Alec',\n",
       " 'Sean',\n",
       " 'Cary',\n",
       " 'Mark',\n",
       " 'Matt',\n",
       " 'Ronell',\n",
       " 'Dennis',\n",
       " 'Austin',\n",
       " 'Timothy',\n",
       " 'Alfredo',\n",
       " 'Jonathan',\n",
       " 'David',\n",
       " 'Anthony',\n",
       " 'Jonathan',\n",
       " 'Chrislon',\n",
       " 'Nikki',\n",
       " 'Marcus',\n",
       " 'David',\n",
       " 'Javoris',\n",
       " 'James',\n",
       " 'Elvin',\n",
       " 'Jerome',\n",
       " 'Michael',\n",
       " 'Caso',\n",
       " 'James',\n",
       " 'Eric',\n",
       " 'Cassandra',\n",
       " 'Anthony',\n",
       " 'Millard',\n",
       " 'Dalton',\n",
       " 'Jessie',\n",
       " 'Scott',\n",
       " 'Garrett',\n",
       " 'Harry',\n",
       " 'Feras',\n",
       " 'Simon',\n",
       " 'Darrell',\n",
       " 'James',\n",
       " 'Kenneth',\n",
       " 'Kyle',\n",
       " 'Kevin',\n",
       " 'Nehemiah',\n",
       " 'Robert',\n",
       " 'Ebin',\n",
       " 'Alexander',\n",
       " 'James',\n",
       " 'James',\n",
       " 'Joseph',\n",
       " 'Usaamah',\n",
       " 'Kamal',\n",
       " 'Lorenzo',\n",
       " 'Rudy',\n",
       " 'Miguel',\n",
       " 'Edelmiro',\n",
       " 'Ronald',\n",
       " 'Jesus',\n",
       " 'Christie',\n",
       " 'Demouria',\n",
       " 'James',\n",
       " 'Alejandro',\n",
       " 'Joe',\n",
       " 'Damien',\n",
       " 'Matthew',\n",
       " 'Gene',\n",
       " 'James',\n",
       " 'Rene',\n",
       " 'Richard',\n",
       " 'Jeremy',\n",
       " 'Greg',\n",
       " 'QuanDavier',\n",
       " 'Ryan',\n",
       " 'Isiah',\n",
       " 'Charles',\n",
       " 'Raymond',\n",
       " 'Fritz',\n",
       " 'Mark',\n",
       " 'Raymond',\n",
       " 'Shelly',\n",
       " 'Anthony',\n",
       " 'Deng',\n",
       " 'James',\n",
       " 'Kenneth',\n",
       " 'Zane',\n",
       " 'Kris',\n",
       " 'Christopher',\n",
       " 'Joe',\n",
       " 'Wendy',\n",
       " 'Kenneth',\n",
       " 'Oleg',\n",
       " 'Santos',\n",
       " 'Trepierre',\n",
       " 'Louis',\n",
       " 'Alfontish',\n",
       " 'Adrian',\n",
       " 'Charles',\n",
       " 'James',\n",
       " 'Eduardo',\n",
       " 'Tyler',\n",
       " 'Tyrone',\n",
       " 'Joshua',\n",
       " 'Jonathan',\n",
       " 'Randall',\n",
       " 'Taylor',\n",
       " 'Damien',\n",
       " 'Spencer',\n",
       " 'Gilbert',\n",
       " 'Richard',\n",
       " 'Joe',\n",
       " 'Joshua',\n",
       " 'Alan',\n",
       " 'Richard',\n",
       " 'Clay',\n",
       " 'Kevin',\n",
       " 'Kaleb',\n",
       " 'Douglas',\n",
       " 'Ton',\n",
       " 'Victor',\n",
       " 'Brian',\n",
       " 'Cesar',\n",
       " 'Arturo',\n",
       " 'Oscar',\n",
       " 'Joseph',\n",
       " 'Robert',\n",
       " 'Michael',\n",
       " 'Kawanza',\n",
       " 'Bryan',\n",
       " 'John',\n",
       " 'Michael',\n",
       " 'Richard',\n",
       " 'Johnny',\n",
       " 'Tyler',\n",
       " 'Hagen',\n",
       " 'David',\n",
       " 'John',\n",
       " 'Jason',\n",
       " 'Marcellus',\n",
       " 'Adam',\n",
       " 'Joe',\n",
       " 'Daniel',\n",
       " 'Jose',\n",
       " 'Tremaine',\n",
       " 'Nicholas',\n",
       " 'Joshua',\n",
       " 'Michael',\n",
       " 'Dallas',\n",
       " 'Rocco',\n",
       " 'Robert',\n",
       " 'Martice',\n",
       " 'Cyrus',\n",
       " 'Neil',\n",
       " 'Javon',\n",
       " 'James',\n",
       " 'Freddie',\n",
       " 'Eugene',\n",
       " 'Billy',\n",
       " 'Paul',\n",
       " 'Salvado',\n",
       " 'David',\n",
       " 'Matthew',\n",
       " 'Christopher',\n",
       " 'Frederick',\n",
       " 'Matthew',\n",
       " 'Rafael',\n",
       " 'Jason',\n",
       " 'Chacarion',\n",
       " 'Charles',\n",
       " 'Eugene',\n",
       " 'Anthonie',\n",
       " 'Antonio',\n",
       " 'Edward',\n",
       " 'Patrick',\n",
       " 'Mohammad',\n",
       " 'Saige',\n",
       " 'Pierre',\n",
       " 'Samuel',\n",
       " 'Albert',\n",
       " 'Jackie',\n",
       " 'Darrius',\n",
       " 'Jose',\n",
       " 'David',\n",
       " 'Kevin',\n",
       " 'Charles',\n",
       " 'Samuel',\n",
       " 'Joshua',\n",
       " 'Troy',\n",
       " 'Darren',\n",
       " 'Joseph',\n",
       " 'Jerrod',\n",
       " 'Francisco',\n",
       " 'Andre',\n",
       " 'Devon',\n",
       " 'Dontae',\n",
       " 'Derek',\n",
       " 'Brian',\n",
       " 'Robbie',\n",
       " 'Tamala',\n",
       " 'Seth',\n",
       " 'Lee',\n",
       " 'Christopher',\n",
       " 'Roger',\n",
       " 'Bryan',\n",
       " 'Earl',\n",
       " 'Khari',\n",
       " 'Zachary',\n",
       " 'Timothy',\n",
       " 'Jean',\n",
       " 'Samuel',\n",
       " 'Timothy',\n",
       " 'Michael',\n",
       " 'Roger',\n",
       " 'Mark',\n",
       " 'Ryan',\n",
       " 'Philip',\n",
       " 'Oscar',\n",
       " 'Rafael',\n",
       " 'Jeremy',\n",
       " 'David',\n",
       " 'Armando',\n",
       " 'Virgil',\n",
       " 'Antonio',\n",
       " 'Joshua',\n",
       " 'Franklin',\n",
       " 'Shawn',\n",
       " 'Daniel',\n",
       " 'Darius',\n",
       " 'Tyler',\n",
       " 'John',\n",
       " 'Raymond',\n",
       " 'Keshawn',\n",
       " 'Vincente',\n",
       " 'Jason',\n",
       " 'Gustavo',\n",
       " 'Charles',\n",
       " 'Christian',\n",
       " 'Abel',\n",
       " 'Aaron',\n",
       " 'Mark',\n",
       " 'Tsombe',\n",
       " 'Derrick',\n",
       " 'Roderick',\n",
       " 'Shamir',\n",
       " 'Jeffrey',\n",
       " 'Kevin',\n",
       " 'Andre',\n",
       " 'Eric',\n",
       " 'Robert',\n",
       " 'Edrian',\n",
       " 'Richard',\n",
       " 'Casey',\n",
       " 'Randall',\n",
       " 'Richard',\n",
       " 'Nathaniel',\n",
       " 'Redel',\n",
       " 'Anthony',\n",
       " 'Reginald',\n",
       " 'William',\n",
       " 'Garland',\n",
       " 'Hector',\n",
       " 'Asshams',\n",
       " 'Christopher',\n",
       " 'John',\n",
       " 'Allen',\n",
       " 'Benjamin',\n",
       " 'Jonathon',\n",
       " 'Matthew',\n",
       " 'Steven',\n",
       " 'Frederick',\n",
       " 'Richard',\n",
       " 'Mansur',\n",
       " 'Deviere',\n",
       " 'Jason',\n",
       " 'Wade',\n",
       " 'Tyler',\n",
       " 'Jeffory',\n",
       " 'Raul',\n",
       " 'Timmy',\n",
       " 'Charles',\n",
       " 'Alan',\n",
       " 'Adam',\n",
       " 'Thaddeus',\n",
       " 'Jason',\n",
       " 'Nicholas',\n",
       " 'Kenneth',\n",
       " 'Richard',\n",
       " 'Christopher',\n",
       " 'Julian',\n",
       " 'Bobby',\n",
       " 'William',\n",
       " 'Marvin',\n",
       " 'Curtis',\n",
       " 'Todd',\n",
       " 'Shane',\n",
       " 'Marvin',\n",
       " 'Steven',\n",
       " 'Brent',\n",
       " 'Kyle',\n",
       " 'Bertrand',\n",
       " 'Yonas',\n",
       " 'Robert',\n",
       " 'Manuel',\n",
       " 'Gilbert',\n",
       " 'William',\n",
       " 'Felix',\n",
       " 'Devin',\n",
       " 'James',\n",
       " 'Roger',\n",
       " 'Rafael',\n",
       " 'Shawn',\n",
       " 'David',\n",
       " 'William',\n",
       " 'Cedric',\n",
       " 'Charles',\n",
       " 'Michael',\n",
       " 'Arthur',\n",
       " 'Freddy',\n",
       " 'Curtis',\n",
       " 'Jose',\n",
       " 'Richard',\n",
       " 'Sully',\n",
       " 'Harrison',\n",
       " \"La'vante\",\n",
       " 'Luis',\n",
       " 'Angelo',\n",
       " 'India',\n",
       " 'Carlos',\n",
       " 'Mohamed',\n",
       " 'William',\n",
       " 'Casimero',\n",
       " 'Tristan',\n",
       " 'Dustin',\n",
       " 'Tyrone',\n",
       " 'Vincent',\n",
       " 'William',\n",
       " 'Tian',\n",
       " 'Bruce',\n",
       " 'Brandon',\n",
       " 'Austin',\n",
       " 'Eddie',\n",
       " 'Robert',\n",
       " 'Phillip',\n",
       " 'Derick',\n",
       " 'Jack',\n",
       " 'Martin',\n",
       " 'Clifford',\n",
       " 'Jeffrey',\n",
       " 'Joseph',\n",
       " 'David',\n",
       " 'Tyrone',\n",
       " 'Florencio',\n",
       " 'Jorge',\n",
       " 'Carlos',\n",
       " 'Bobby',\n",
       " 'Rory',\n",
       " 'Mark',\n",
       " 'Lawrence',\n",
       " 'Nicholas',\n",
       " 'Gregory',\n",
       " 'Lucien',\n",
       " 'Scott',\n",
       " 'Michael',\n",
       " 'Jerrald',\n",
       " 'Gerardo',\n",
       " 'William',\n",
       " 'Tina',\n",
       " 'Steven',\n",
       " 'Timothy',\n",
       " 'Dominic',\n",
       " 'Dante',\n",
       " 'Joel',\n",
       " 'Tim',\n",
       " 'Donaven',\n",
       " 'Robert',\n",
       " 'Joseph',\n",
       " 'Keith',\n",
       " 'Kenneth',\n",
       " 'Jeremy',\n",
       " 'Ernesto',\n",
       " 'Patrick',\n",
       " 'Philip',\n",
       " 'William',\n",
       " 'James',\n",
       " 'Jeffrey',\n",
       " 'Anthony',\n",
       " 'Alejandro',\n",
       " 'Norma',\n",
       " 'Christopher',\n",
       " 'Victor',\n",
       " 'Junior',\n",
       " 'Alberto',\n",
       " 'Patrick',\n",
       " 'Robert',\n",
       " 'Brandon',\n",
       " 'David',\n",
       " 'Christian',\n",
       " 'Phyllis',\n",
       " 'Matthew',\n",
       " 'James',\n",
       " 'Eric',\n",
       " 'Jeffery',\n",
       " 'James',\n",
       " 'Rodney',\n",
       " 'Omar',\n",
       " 'Charles',\n",
       " 'Donald',\n",
       " 'Amado',\n",
       " 'Gary',\n",
       " 'Margaret',\n",
       " 'Christopher',\n",
       " 'Richard',\n",
       " 'William',\n",
       " 'Travis',\n",
       " 'Anthony',\n",
       " 'Joe',\n",
       " 'Kevin',\n",
       " 'Bernard',\n",
       " 'Robert',\n",
       " 'Jason',\n",
       " 'Rudolph',\n",
       " 'Brent',\n",
       " 'Michelle',\n",
       " 'Samuel',\n",
       " 'Michael',\n",
       " 'Leslie',\n",
       " 'Jorge',\n",
       " 'Kaleb',\n",
       " 'Linda',\n",
       " 'Michael',\n",
       " 'Robert',\n",
       " 'Herbert',\n",
       " 'Martin',\n",
       " 'Johnny',\n",
       " 'Jason',\n",
       " 'Ricky',\n",
       " 'Gino',\n",
       " 'Dequan',\n",
       " 'Corey',\n",
       " 'Krikor',\n",
       " 'Dion',\n",
       " 'Roger',\n",
       " 'Lamontez',\n",
       " 'Joel',\n",
       " 'Darien',\n",
       " 'Jonathan',\n",
       " 'Miguel',\n",
       " 'Ryan',\n",
       " 'Timothy',\n",
       " 'Lawrence',\n",
       " 'Adriene',\n",
       " 'Stephen',\n",
       " 'John',\n",
       " 'Juan',\n",
       " 'Rolly',\n",
       " 'Dominic',\n",
       " 'Arthur',\n",
       " 'Darren',\n",
       " 'Jon',\n",
       " 'John',\n",
       " 'Kevin',\n",
       " 'Marquesha',\n",
       " 'Kobvey',\n",
       " 'Tyrie',\n",
       " 'Anthony',\n",
       " 'Ricky',\n",
       " 'Jerry',\n",
       " 'Jasper',\n",
       " 'Deaunte',\n",
       " 'Allen',\n",
       " 'Floyd',\n",
       " 'Mario',\n",
       " 'Tony',\n",
       " 'Daniel',\n",
       " 'Noah',\n",
       " 'Bennie',\n",
       " 'Luverne',\n",
       " 'Killian',\n",
       " 'Jack',\n",
       " 'James',\n",
       " 'Jeremy',\n",
       " 'Joseph',\n",
       " 'John',\n",
       " 'Faisal',\n",
       " 'Timothy',\n",
       " 'David',\n",
       " 'James',\n",
       " 'Jacob',\n",
       " 'Laura',\n",
       " 'Michael',\n",
       " 'James',\n",
       " 'Kim',\n",
       " 'Delvin',\n",
       " 'Cesar',\n",
       " 'Dale',\n",
       " 'Leonel',\n",
       " 'Miguel',\n",
       " 'Dana',\n",
       " 'Eddie',\n",
       " 'Jason',\n",
       " 'Andrew',\n",
       " 'Joseph',\n",
       " 'Javier',\n",
       " 'Brian',\n",
       " 'Ryan',\n",
       " 'Moises',\n",
       " 'Michael',\n",
       " 'Ernesto',\n",
       " 'Matthew',\n",
       " 'Ramon',\n",
       " 'Richard',\n",
       " 'John',\n",
       " 'Shane',\n",
       " 'Jamar',\n",
       " 'Cameron',\n",
       " 'Brent',\n",
       " 'Michael',\n",
       " 'Yohans',\n",
       " 'Demetrius',\n",
       " 'Jeray',\n",
       " 'Derry',\n",
       " 'Francis',\n",
       " 'Cornelius',\n",
       " 'Marcus',\n",
       " 'Randy',\n",
       " 'Steve',\n",
       " 'Darick',\n",
       " 'William',\n",
       " 'Nathaniel',\n",
       " 'Chris',\n",
       " 'James',\n",
       " 'Matthew',\n",
       " 'Miguel',\n",
       " 'Henry',\n",
       " 'Barry',\n",
       " 'Michael',\n",
       " 'Thomas',\n",
       " 'Freddy',\n",
       " 'Magnum',\n",
       " 'Douglas',\n",
       " 'Somer',\n",
       " 'Andrew',\n",
       " 'Rick',\n",
       " 'Kevin',\n",
       " 'Justin',\n",
       " 'Lionel',\n",
       " 'Ralph',\n",
       " 'Hugo',\n",
       " 'Zachary',\n",
       " 'Tuan',\n",
       " 'Darius',\n",
       " 'Fernando',\n",
       " 'Joshua',\n",
       " 'John',\n",
       " 'Phillip',\n",
       " 'Tashfeen',\n",
       " 'Syed',\n",
       " 'Mario',\n",
       " 'Allen',\n",
       " 'Florencio',\n",
       " 'Neil',\n",
       " 'Ivan',\n",
       " 'Raymone',\n",
       " 'Colten',\n",
       " 'David',\n",
       " 'Michael',\n",
       " 'Sheilah',\n",
       " 'Juan',\n",
       " 'Raymond',\n",
       " 'Carlumandarlo',\n",
       " 'John',\n",
       " 'Miguel',\n",
       " 'Derek',\n",
       " 'Christopher',\n",
       " 'Sammy',\n",
       " 'Jason',\n",
       " 'Charles',\n",
       " 'Thomas',\n",
       " 'Steven',\n",
       " 'Christopher',\n",
       " 'Javario',\n",
       " 'Nicholas',\n",
       " 'Jonathan',\n",
       " 'Andrew',\n",
       " 'Roy',\n",
       " 'Efrain',\n",
       " 'Shirley',\n",
       " 'Ryan',\n",
       " 'Nephi',\n",
       " 'Enrique',\n",
       " 'Calvin',\n",
       " 'Jeffrey',\n",
       " 'Michael',\n",
       " 'Brenda',\n",
       " 'Mharloun',\n",
       " 'Hector',\n",
       " 'Roberto',\n",
       " 'Mark',\n",
       " 'Ronnie',\n",
       " 'Bryant',\n",
       " 'Douglas',\n",
       " 'Christopher',\n",
       " 'Erica',\n",
       " 'Amos',\n",
       " 'Robert',\n",
       " 'Trayvon',\n",
       " 'Ruben',\n",
       " 'Leroy',\n",
       " 'Mark',\n",
       " 'Guadalupe',\n",
       " 'Bobby',\n",
       " 'Michael',\n",
       " 'Derek',\n",
       " 'Robert',\n",
       " 'Chan',\n",
       " 'Brandon',\n",
       " 'Charles',\n",
       " 'Kenneth',\n",
       " 'Michael',\n",
       " 'Jose',\n",
       " 'Kevin',\n",
       " 'Schuylar',\n",
       " 'Gregory',\n",
       " 'Terrozza',\n",
       " 'Omar',\n",
       " 'Daquan',\n",
       " 'William',\n",
       " 'Lonnie',\n",
       " 'Bettie',\n",
       " 'Quintonio',\n",
       " 'Gilbert',\n",
       " 'Michael',\n",
       " 'Sean',\n",
       " 'Gayneaux',\n",
       " 'Corey',\n",
       " 'Siolosega',\n",
       " 'Tien',\n",
       " 'Fred',\n",
       " 'John',\n",
       " 'Keith',\n",
       " 'Joshua',\n",
       " 'Sean',\n",
       " 'Lance',\n",
       " 'Lonnie',\n",
       " 'Germonta',\n",
       " 'Eric',\n",
       " 'Rodney',\n",
       " 'Joel',\n",
       " 'James',\n",
       " 'Carlton',\n",
       " ...)"
      ]
     },
     "execution_count": 50,
     "metadata": {},
     "output_type": "execute_result"
    }
   ],
   "source": [
    "ns = names1 + surnames\n",
    "\n",
    "ns"
   ]
  },
  {
   "cell_type": "code",
   "execution_count": 51,
   "metadata": {},
   "outputs": [],
   "source": [
    "from collections import Counter\n",
    "c = Counter(ns)\n",
    "mostCommon = c.most_common(15)\n"
   ]
  },
  {
   "cell_type": "code",
   "execution_count": 52,
   "metadata": {},
   "outputs": [
    {
     "data": {
      "text/plain": [
       "[('Michael', 91),\n",
       " ('David', 57),\n",
       " ('James', 56),\n",
       " ('Robert', 48),\n",
       " ('Joseph', 48),\n",
       " ('William', 47),\n",
       " ('Daniel', 46),\n",
       " ('John', 42),\n",
       " ('Christopher', 40),\n",
       " ('Lee', 37),\n",
       " ('Richard', 36),\n",
       " ('J.', 32),\n",
       " ('Anthony', 31),\n",
       " ('Jose', 28),\n",
       " ('Joshua', 28)]"
      ]
     },
     "execution_count": 52,
     "metadata": {},
     "output_type": "execute_result"
    }
   ],
   "source": [
    "mostCommon"
   ]
  },
  {
   "cell_type": "code",
   "execution_count": 53,
   "metadata": {},
   "outputs": [
    {
     "data": {
      "text/html": [
       "<div>\n",
       "<style scoped>\n",
       "    .dataframe tbody tr th:only-of-type {\n",
       "        vertical-align: middle;\n",
       "    }\n",
       "\n",
       "    .dataframe tbody tr th {\n",
       "        vertical-align: top;\n",
       "    }\n",
       "\n",
       "    .dataframe thead th {\n",
       "        text-align: right;\n",
       "    }\n",
       "</style>\n",
       "<table border=\"1\" class=\"dataframe\">\n",
       "  <thead>\n",
       "    <tr style=\"text-align: right;\">\n",
       "      <th></th>\n",
       "      <th>names</th>\n",
       "      <th>commons</th>\n",
       "    </tr>\n",
       "  </thead>\n",
       "  <tbody>\n",
       "    <tr>\n",
       "      <th>0</th>\n",
       "      <td>Michael</td>\n",
       "      <td>91</td>\n",
       "    </tr>\n",
       "    <tr>\n",
       "      <th>1</th>\n",
       "      <td>David</td>\n",
       "      <td>57</td>\n",
       "    </tr>\n",
       "    <tr>\n",
       "      <th>2</th>\n",
       "      <td>James</td>\n",
       "      <td>56</td>\n",
       "    </tr>\n",
       "    <tr>\n",
       "      <th>3</th>\n",
       "      <td>Robert</td>\n",
       "      <td>48</td>\n",
       "    </tr>\n",
       "    <tr>\n",
       "      <th>4</th>\n",
       "      <td>Joseph</td>\n",
       "      <td>48</td>\n",
       "    </tr>\n",
       "  </tbody>\n",
       "</table>\n",
       "</div>"
      ],
      "text/plain": [
       "     names  commons\n",
       "0  Michael       91\n",
       "1    David       57\n",
       "2    James       56\n",
       "3   Robert       48\n",
       "4   Joseph       48"
      ]
     },
     "execution_count": 53,
     "metadata": {},
     "output_type": "execute_result"
    }
   ],
   "source": [
    "df = pd.DataFrame(mostCommon, columns = [\"names\", \"commons\"])\n",
    "df.head()"
   ]
  },
  {
   "cell_type": "code",
   "execution_count": 55,
   "metadata": {},
   "outputs": [
    {
     "data": {
      "image/png": "[encoded data removed]",
      "text/plain": [
       "<Figure size 1080x720 with 1 Axes>"
      ]
     },
     "metadata": {},
     "output_type": "display_data"
    }
   ],
   "source": [
    "fig = plt.figure(figsize = (15,10))\n",
    "ax1 = fig.add_axes([0,0,1,1])\n",
    "sb.set_context( rc ={'xtick.labelsize': 8.8})\n",
    "sb.set(style = \"white\", palette = \"muted\")\n",
    "sb.barplot( x = \"names\", y =\"commons\",  data = df )\n",
    "ax1.set_xlabel(\"States\", fontdict = {\"fontsize\":20} )\n",
    "ax1.set_ylabel(\"Proverty Rate\", fontdict = {\"fontsize\":20})\n",
    "ax1.set_title(\"Most common 15 Name or Surname of killed people\", fontdict = {\"fontsize\":20})\n",
    "plt.xticks(rotation = 45, fontsize = 16)\n",
    "for index, row in df.iterrows():\n",
    "    ax1.text(row.name,row.commons, round(row.commons,1), color='black', ha=\"center\", fontsize=16)\n",
    "    plt.tight_layout()\n",
    "plt.show()\n"
   ]
  },
  {
   "cell_type": "markdown",
   "metadata": {},
   "source": [
    "## 3. Killed People According to Races (Pie Chart)"
   ]
  },
  {
   "cell_type": "code",
   "execution_count": 37,
   "metadata": {},
   "outputs": [
    {
     "data": {
      "text/html": [
       "<div>\n",
       "<style scoped>\n",
       "    .dataframe tbody tr th:only-of-type {\n",
       "        vertical-align: middle;\n",
       "    }\n",
       "\n",
       "    .dataframe tbody tr th {\n",
       "        vertical-align: top;\n",
       "    }\n",
       "\n",
       "    .dataframe thead th {\n",
       "        text-align: right;\n",
       "    }\n",
       "</style>\n",
       "<table border=\"1\" class=\"dataframe\">\n",
       "  <thead>\n",
       "    <tr style=\"text-align: right;\">\n",
       "      <th></th>\n",
       "      <th>id</th>\n",
       "      <th>name</th>\n",
       "      <th>date</th>\n",
       "      <th>manner_of_death</th>\n",
       "      <th>armed</th>\n",
       "      <th>age</th>\n",
       "      <th>gender</th>\n",
       "      <th>race</th>\n",
       "      <th>city</th>\n",
       "      <th>state</th>\n",
       "      <th>signs_of_mental_illness</th>\n",
       "      <th>threat_level</th>\n",
       "      <th>flee</th>\n",
       "      <th>body_camera</th>\n",
       "    </tr>\n",
       "  </thead>\n",
       "  <tbody>\n",
       "    <tr>\n",
       "      <th>0</th>\n",
       "      <td>3</td>\n",
       "      <td>Tim Elliot</td>\n",
       "      <td>02/01/15</td>\n",
       "      <td>shot</td>\n",
       "      <td>gun</td>\n",
       "      <td>53.0</td>\n",
       "      <td>M</td>\n",
       "      <td>A</td>\n",
       "      <td>Shelton</td>\n",
       "      <td>WA</td>\n",
       "      <td>True</td>\n",
       "      <td>attack</td>\n",
       "      <td>Not fleeing</td>\n",
       "      <td>False</td>\n",
       "    </tr>\n",
       "    <tr>\n",
       "      <th>1</th>\n",
       "      <td>4</td>\n",
       "      <td>Lewis Lee Lembke</td>\n",
       "      <td>02/01/15</td>\n",
       "      <td>shot</td>\n",
       "      <td>gun</td>\n",
       "      <td>47.0</td>\n",
       "      <td>M</td>\n",
       "      <td>W</td>\n",
       "      <td>Aloha</td>\n",
       "      <td>OR</td>\n",
       "      <td>False</td>\n",
       "      <td>attack</td>\n",
       "      <td>Not fleeing</td>\n",
       "      <td>False</td>\n",
       "    </tr>\n",
       "    <tr>\n",
       "      <th>2</th>\n",
       "      <td>5</td>\n",
       "      <td>John Paul Quintero</td>\n",
       "      <td>03/01/15</td>\n",
       "      <td>shot and Tasered</td>\n",
       "      <td>unarmed</td>\n",
       "      <td>23.0</td>\n",
       "      <td>M</td>\n",
       "      <td>H</td>\n",
       "      <td>Wichita</td>\n",
       "      <td>KS</td>\n",
       "      <td>False</td>\n",
       "      <td>other</td>\n",
       "      <td>Not fleeing</td>\n",
       "      <td>False</td>\n",
       "    </tr>\n",
       "    <tr>\n",
       "      <th>3</th>\n",
       "      <td>8</td>\n",
       "      <td>Matthew Hoffman</td>\n",
       "      <td>04/01/15</td>\n",
       "      <td>shot</td>\n",
       "      <td>toy weapon</td>\n",
       "      <td>32.0</td>\n",
       "      <td>M</td>\n",
       "      <td>W</td>\n",
       "      <td>San Francisco</td>\n",
       "      <td>CA</td>\n",
       "      <td>True</td>\n",
       "      <td>attack</td>\n",
       "      <td>Not fleeing</td>\n",
       "      <td>False</td>\n",
       "    </tr>\n",
       "    <tr>\n",
       "      <th>4</th>\n",
       "      <td>9</td>\n",
       "      <td>Michael Rodriguez</td>\n",
       "      <td>04/01/15</td>\n",
       "      <td>shot</td>\n",
       "      <td>nail gun</td>\n",
       "      <td>39.0</td>\n",
       "      <td>M</td>\n",
       "      <td>H</td>\n",
       "      <td>Evans</td>\n",
       "      <td>CO</td>\n",
       "      <td>False</td>\n",
       "      <td>attack</td>\n",
       "      <td>Not fleeing</td>\n",
       "      <td>False</td>\n",
       "    </tr>\n",
       "  </tbody>\n",
       "</table>\n",
       "</div>"
      ],
      "text/plain": [
       "   id                name      date   manner_of_death       armed   age  \\\n",
       "0   3          Tim Elliot  02/01/15              shot         gun  53.0   \n",
       "1   4    Lewis Lee Lembke  02/01/15              shot         gun  47.0   \n",
       "2   5  John Paul Quintero  03/01/15  shot and Tasered     unarmed  23.0   \n",
       "3   8     Matthew Hoffman  04/01/15              shot  toy weapon  32.0   \n",
       "4   9   Michael Rodriguez  04/01/15              shot    nail gun  39.0   \n",
       "\n",
       "  gender race           city state  signs_of_mental_illness threat_level  \\\n",
       "0      M    A        Shelton    WA                     True       attack   \n",
       "1      M    W          Aloha    OR                    False       attack   \n",
       "2      M    H        Wichita    KS                    False        other   \n",
       "3      M    W  San Francisco    CA                     True       attack   \n",
       "4      M    H          Evans    CO                    False       attack   \n",
       "\n",
       "          flee  body_camera  \n",
       "0  Not fleeing        False  \n",
       "1  Not fleeing        False  \n",
       "2  Not fleeing        False  \n",
       "3  Not fleeing        False  \n",
       "4  Not fleeing        False  "
      ]
     },
     "execution_count": 37,
     "metadata": {},
     "output_type": "execute_result"
    }
   ],
   "source": [
    "kill.head()"
   ]
  },
  {
   "cell_type": "code",
   "execution_count": 38,
   "metadata": {
    "_uuid": "73ef9a67518196c14338e28236b5054186fabdc1"
   },
   "outputs": [
    {
     "data": {
      "text/plain": [
       "array(['A', 'W', 'H', 'B', 'O', nan, 'N'], dtype=object)"
      ]
     },
     "execution_count": 38,
     "metadata": {},
     "output_type": "execute_result"
    }
   ],
   "source": [
    "kill.race.unique()"
   ]
  },
  {
   "cell_type": "code",
   "execution_count": 162,
   "metadata": {},
   "outputs": [
    {
     "data": {
      "text/plain": [
       "W      1201\n",
       "B       618\n",
       "H       423\n",
       "NaN     195\n",
       "A        39\n",
       "N        31\n",
       "O        28\n",
       "Name: race, dtype: int64"
      ]
     },
     "execution_count": 162,
     "metadata": {},
     "output_type": "execute_result"
    }
   ],
   "source": [
    "kill.race.value_counts(dropna = False)"
   ]
  },
  {
   "cell_type": "code",
   "execution_count": 40,
   "metadata": {},
   "outputs": [
    {
     "name": "stdout",
     "output_type": "stream",
     "text": [
      "<class 'pandas.core.frame.DataFrame'>\n",
      "RangeIndex: 2535 entries, 0 to 2534\n",
      "Data columns (total 14 columns):\n",
      " #   Column                   Non-Null Count  Dtype  \n",
      "---  ------                   --------------  -----  \n",
      " 0   id                       2535 non-null   int64  \n",
      " 1   name                     2535 non-null   object \n",
      " 2   date                     2535 non-null   object \n",
      " 3   manner_of_death          2535 non-null   object \n",
      " 4   armed                    2526 non-null   object \n",
      " 5   age                      2458 non-null   float64\n",
      " 6   gender                   2535 non-null   object \n",
      " 7   race                     2340 non-null   object \n",
      " 8   city                     2535 non-null   object \n",
      " 9   state                    2535 non-null   object \n",
      " 10  signs_of_mental_illness  2535 non-null   bool   \n",
      " 11  threat_level             2535 non-null   object \n",
      " 12  flee                     2470 non-null   object \n",
      " 13  body_camera              2535 non-null   bool   \n",
      "dtypes: bool(2), float64(1), int64(1), object(10)\n",
      "memory usage: 242.7+ KB\n"
     ]
    }
   ],
   "source": [
    "kill.info()"
   ]
  },
  {
   "cell_type": "markdown",
   "metadata": {},
   "source": [
    "Problem: missing value on race column."
   ]
  },
  {
   "cell_type": "markdown",
   "metadata": {},
   "source": [
    "**INSTRUCTION-1: Drop the all raws that contain missing value (dropna)**"
   ]
  },
  {
   "cell_type": "code",
   "execution_count": 41,
   "metadata": {},
   "outputs": [
    {
     "data": {
      "text/plain": [
       "id                           0\n",
       "name                         0\n",
       "date                         0\n",
       "manner_of_death              0\n",
       "armed                        9\n",
       "age                         77\n",
       "gender                       0\n",
       "race                       195\n",
       "city                         0\n",
       "state                        0\n",
       "signs_of_mental_illness      0\n",
       "threat_level                 0\n",
       "flee                        65\n",
       "body_camera                  0\n",
       "dtype: int64"
      ]
     },
     "execution_count": 41,
     "metadata": {},
     "output_type": "execute_result"
    }
   ],
   "source": [
    "kill.isnull().sum()"
   ]
  },
  {
   "cell_type": "code",
   "execution_count": 164,
   "metadata": {},
   "outputs": [],
   "source": [
    "kill.dropna(subset = [\"race\"], inplace = True)"
   ]
  },
  {
   "cell_type": "code",
   "execution_count": 165,
   "metadata": {},
   "outputs": [
    {
     "data": {
      "text/plain": [
       "id                          0\n",
       "name                        0\n",
       "date                        0\n",
       "manner_of_death             0\n",
       "armed                       6\n",
       "age                        29\n",
       "gender                      0\n",
       "race                        0\n",
       "city                        0\n",
       "state                       0\n",
       "signs_of_mental_illness     0\n",
       "threat_level                0\n",
       "flee                       52\n",
       "body_camera                 0\n",
       "dtype: int64"
      ]
     },
     "execution_count": 165,
     "metadata": {},
     "output_type": "execute_result"
    }
   ],
   "source": [
    "kill.isnull().sum()"
   ]
  },
  {
   "cell_type": "code",
   "execution_count": 166,
   "metadata": {},
   "outputs": [
    {
     "data": {
      "text/plain": [
       "(2340, 14)"
      ]
     },
     "execution_count": 166,
     "metadata": {},
     "output_type": "execute_result"
    }
   ],
   "source": [
    "kill.shape"
   ]
  },
  {
   "cell_type": "code",
   "execution_count": 168,
   "metadata": {},
   "outputs": [
    {
     "name": "stdout",
     "output_type": "stream",
     "text": [
      "<class 'pandas.core.frame.DataFrame'>\n",
      "Int64Index: 2340 entries, 0 to 2534\n",
      "Data columns (total 14 columns):\n",
      " #   Column                   Non-Null Count  Dtype  \n",
      "---  ------                   --------------  -----  \n",
      " 0   id                       2340 non-null   int64  \n",
      " 1   name                     2340 non-null   object \n",
      " 2   date                     2340 non-null   object \n",
      " 3   manner_of_death          2340 non-null   object \n",
      " 4   armed                    2334 non-null   object \n",
      " 5   age                      2311 non-null   float64\n",
      " 6   gender                   2340 non-null   object \n",
      " 7   race                     2340 non-null   object \n",
      " 8   city                     2340 non-null   object \n",
      " 9   state                    2340 non-null   object \n",
      " 10  signs_of_mental_illness  2340 non-null   bool   \n",
      " 11  threat_level             2340 non-null   object \n",
      " 12  flee                     2288 non-null   object \n",
      " 13  body_camera              2340 non-null   bool   \n",
      "dtypes: bool(2), float64(1), int64(1), object(10)\n",
      "memory usage: 242.2+ KB\n"
     ]
    }
   ],
   "source": [
    "kill.info()"
   ]
  },
  {
   "cell_type": "markdown",
   "metadata": {},
   "source": [
    "**INSTRUCTION-2: Demonstrate Race Ratio of Killed People by a Pie Chart**"
   ]
  },
  {
   "cell_type": "code",
   "execution_count": 169,
   "metadata": {},
   "outputs": [
    {
     "data": {
      "text/plain": [
       "id                           int64\n",
       "name                        object\n",
       "date                        object\n",
       "manner_of_death             object\n",
       "armed                       object\n",
       "age                        float64\n",
       "gender                      object\n",
       "race                        object\n",
       "city                        object\n",
       "state                       object\n",
       "signs_of_mental_illness       bool\n",
       "threat_level                object\n",
       "flee                        object\n",
       "body_camera                   bool\n",
       "dtype: object"
      ]
     },
     "execution_count": 169,
     "metadata": {},
     "output_type": "execute_result"
    }
   ],
   "source": [
    "kill.dtypes"
   ]
  },
  {
   "cell_type": "code",
   "execution_count": 58,
   "metadata": {},
   "outputs": [],
   "source": [
    "k_r_m = kill.race.value_counts( normalize = True)"
   ]
  },
  {
   "cell_type": "code",
   "execution_count": 59,
   "metadata": {},
   "outputs": [
    {
     "data": {
      "text/plain": [
       "W    0.513248\n",
       "B    0.264103\n",
       "H    0.180769\n",
       "A    0.016667\n",
       "N    0.013248\n",
       "O    0.011966\n",
       "Name: race, dtype: float64"
      ]
     },
     "execution_count": 59,
     "metadata": {},
     "output_type": "execute_result"
    }
   ],
   "source": [
    "k_r_m"
   ]
  },
  {
   "cell_type": "code",
   "execution_count": 60,
   "metadata": {},
   "outputs": [
    {
     "data": {
      "image/png": "[encoded data removed]",
      "text/plain": [
       "<Figure size 1440x720 with 1 Axes>"
      ]
     },
     "metadata": {},
     "output_type": "display_data"
    }
   ],
   "source": [
    "fig = plt.figure(figsize = (20, 10))\n",
    "colors = [\"grey\",'b','r','y','green',\"maroon\"]\n",
    "plt.title(\"Killed People Acording To Races\", fontsize=14)\n",
    "plt.pie(k_r_m, labels =k_r_m.index,autopct='%1.1f%%', colors = colors)\n",
    "plt.show()###legend ekleyebilir miyiz ?\n",
    "\n",
    "###toplantı sonu..."
   ]
  },
  {
   "cell_type": "code",
   "execution_count": null,
   "metadata": {
    "_uuid": "d9ff7e72fbbf53e49ffb71730410a1e0b45e378a"
   },
   "outputs": [],
   "source": []
  },
  {
   "cell_type": "markdown",
   "metadata": {},
   "source": [
    "## 4a.Box plot of age in both genders separeted by manner of death."
   ]
  },
  {
   "cell_type": "code",
   "execution_count": 49,
   "metadata": {
    "_uuid": "9d8a16335d60780773cba16fb23066e2cf48be8d"
   },
   "outputs": [
    {
     "data": {
      "text/html": [
       "<div>\n",
       "<style scoped>\n",
       "    .dataframe tbody tr th:only-of-type {\n",
       "        vertical-align: middle;\n",
       "    }\n",
       "\n",
       "    .dataframe tbody tr th {\n",
       "        vertical-align: top;\n",
       "    }\n",
       "\n",
       "    .dataframe thead th {\n",
       "        text-align: right;\n",
       "    }\n",
       "</style>\n",
       "<table border=\"1\" class=\"dataframe\">\n",
       "  <thead>\n",
       "    <tr style=\"text-align: right;\">\n",
       "      <th></th>\n",
       "      <th>id</th>\n",
       "      <th>name</th>\n",
       "      <th>date</th>\n",
       "      <th>manner_of_death</th>\n",
       "      <th>armed</th>\n",
       "      <th>age</th>\n",
       "      <th>gender</th>\n",
       "      <th>race</th>\n",
       "      <th>city</th>\n",
       "      <th>state</th>\n",
       "      <th>signs_of_mental_illness</th>\n",
       "      <th>threat_level</th>\n",
       "      <th>flee</th>\n",
       "      <th>body_camera</th>\n",
       "    </tr>\n",
       "  </thead>\n",
       "  <tbody>\n",
       "    <tr>\n",
       "      <th>0</th>\n",
       "      <td>3</td>\n",
       "      <td>Tim Elliot</td>\n",
       "      <td>02/01/15</td>\n",
       "      <td>shot</td>\n",
       "      <td>gun</td>\n",
       "      <td>53.0</td>\n",
       "      <td>M</td>\n",
       "      <td>A</td>\n",
       "      <td>Shelton</td>\n",
       "      <td>WA</td>\n",
       "      <td>True</td>\n",
       "      <td>attack</td>\n",
       "      <td>Not fleeing</td>\n",
       "      <td>False</td>\n",
       "    </tr>\n",
       "    <tr>\n",
       "      <th>1</th>\n",
       "      <td>4</td>\n",
       "      <td>Lewis Lee Lembke</td>\n",
       "      <td>02/01/15</td>\n",
       "      <td>shot</td>\n",
       "      <td>gun</td>\n",
       "      <td>47.0</td>\n",
       "      <td>M</td>\n",
       "      <td>W</td>\n",
       "      <td>Aloha</td>\n",
       "      <td>OR</td>\n",
       "      <td>False</td>\n",
       "      <td>attack</td>\n",
       "      <td>Not fleeing</td>\n",
       "      <td>False</td>\n",
       "    </tr>\n",
       "    <tr>\n",
       "      <th>2</th>\n",
       "      <td>5</td>\n",
       "      <td>John Paul Quintero</td>\n",
       "      <td>03/01/15</td>\n",
       "      <td>shot and Tasered</td>\n",
       "      <td>unarmed</td>\n",
       "      <td>23.0</td>\n",
       "      <td>M</td>\n",
       "      <td>H</td>\n",
       "      <td>Wichita</td>\n",
       "      <td>KS</td>\n",
       "      <td>False</td>\n",
       "      <td>other</td>\n",
       "      <td>Not fleeing</td>\n",
       "      <td>False</td>\n",
       "    </tr>\n",
       "    <tr>\n",
       "      <th>3</th>\n",
       "      <td>8</td>\n",
       "      <td>Matthew Hoffman</td>\n",
       "      <td>04/01/15</td>\n",
       "      <td>shot</td>\n",
       "      <td>toy weapon</td>\n",
       "      <td>32.0</td>\n",
       "      <td>M</td>\n",
       "      <td>W</td>\n",
       "      <td>San Francisco</td>\n",
       "      <td>CA</td>\n",
       "      <td>True</td>\n",
       "      <td>attack</td>\n",
       "      <td>Not fleeing</td>\n",
       "      <td>False</td>\n",
       "    </tr>\n",
       "    <tr>\n",
       "      <th>4</th>\n",
       "      <td>9</td>\n",
       "      <td>Michael Rodriguez</td>\n",
       "      <td>04/01/15</td>\n",
       "      <td>shot</td>\n",
       "      <td>nail gun</td>\n",
       "      <td>39.0</td>\n",
       "      <td>M</td>\n",
       "      <td>H</td>\n",
       "      <td>Evans</td>\n",
       "      <td>CO</td>\n",
       "      <td>False</td>\n",
       "      <td>attack</td>\n",
       "      <td>Not fleeing</td>\n",
       "      <td>False</td>\n",
       "    </tr>\n",
       "  </tbody>\n",
       "</table>\n",
       "</div>"
      ],
      "text/plain": [
       "   id                name      date   manner_of_death       armed   age  \\\n",
       "0   3          Tim Elliot  02/01/15              shot         gun  53.0   \n",
       "1   4    Lewis Lee Lembke  02/01/15              shot         gun  47.0   \n",
       "2   5  John Paul Quintero  03/01/15  shot and Tasered     unarmed  23.0   \n",
       "3   8     Matthew Hoffman  04/01/15              shot  toy weapon  32.0   \n",
       "4   9   Michael Rodriguez  04/01/15              shot    nail gun  39.0   \n",
       "\n",
       "  gender race           city state  signs_of_mental_illness threat_level  \\\n",
       "0      M    A        Shelton    WA                     True       attack   \n",
       "1      M    W          Aloha    OR                    False       attack   \n",
       "2      M    H        Wichita    KS                    False        other   \n",
       "3      M    W  San Francisco    CA                     True       attack   \n",
       "4      M    H          Evans    CO                    False       attack   \n",
       "\n",
       "          flee  body_camera  \n",
       "0  Not fleeing        False  \n",
       "1  Not fleeing        False  \n",
       "2  Not fleeing        False  \n",
       "3  Not fleeing        False  \n",
       "4  Not fleeing        False  "
      ]
     },
     "execution_count": 49,
     "metadata": {},
     "output_type": "execute_result"
    }
   ],
   "source": [
    "kill.head()"
   ]
  },
  {
   "cell_type": "code",
   "execution_count": 50,
   "metadata": {
    "_uuid": "9c0528daf1c171ae70c1c1f2f2c1f73ebacba85c"
   },
   "outputs": [
    {
     "data": {
      "text/plain": [
       "array(['shot', 'shot and Tasered'], dtype=object)"
      ]
     },
     "execution_count": 50,
     "metadata": {},
     "output_type": "execute_result"
    }
   ],
   "source": [
    "kill.manner_of_death.unique()"
   ]
  },
  {
   "cell_type": "markdown",
   "metadata": {},
   "source": [
    "**INSTRUCTION: Demonstrate the Qurtiles of age in both genders separeted by manner of death.**"
   ]
  },
  {
   "cell_type": "code",
   "execution_count": 51,
   "metadata": {},
   "outputs": [
    {
     "data": {
      "text/plain": [
       "<matplotlib.axes._subplots.AxesSubplot at 0x266270ae6c8>"
      ]
     },
     "execution_count": 51,
     "metadata": {},
     "output_type": "execute_result"
    },
    {
     "data": {
      "image/png": "[encoded data removed]",
      "text/plain": [
       "<Figure size 432x288 with 1 Axes>"
      ]
     },
     "metadata": {},
     "output_type": "display_data"
    }
   ],
   "source": [
    "sb.boxplot( x = \"gender\", y = \"age\", data = kill, hue = \"manner_of_death\" )"
   ]
  },
  {
   "cell_type": "code",
   "execution_count": null,
   "metadata": {},
   "outputs": [],
   "source": []
  },
  {
   "cell_type": "code",
   "execution_count": null,
   "metadata": {},
   "outputs": [],
   "source": []
  },
  {
   "cell_type": "code",
   "execution_count": null,
   "metadata": {},
   "outputs": [],
   "source": []
  },
  {
   "cell_type": "code",
   "execution_count": 73,
   "metadata": {
    "_uuid": "d05b6d0119e423641a49770c28d22ee4069b83ff"
   },
   "outputs": [
    {
     "data": {
      "image/png": "[encoded data removed]",
      "text/plain": [
       "<Figure size 432x288 with 1 Axes>"
      ]
     },
     "metadata": {
      "needs_background": "light"
     },
     "output_type": "display_data"
    }
   ],
   "source": []
  },
  {
   "cell_type": "markdown",
   "metadata": {
    "_uuid": "9b3ff5b459aa93bbce95ba93f6939708473ef040"
   },
   "source": [
    "## 4b. Swarm Plot (Do not use in large datasets. The memory will not be enogh!)"
   ]
  },
  {
   "cell_type": "markdown",
   "metadata": {},
   "source": [
    "**INSTRUCTION: Demonstrate the age in both genders separeted by manner of death by a swarm plot.**"
   ]
  },
  {
   "cell_type": "code",
   "execution_count": 53,
   "metadata": {},
   "outputs": [
    {
     "data": {
      "image/png": "[encoded data removed]",
      "text/plain": [
       "<Figure size 432x288 with 1 Axes>"
      ]
     },
     "metadata": {},
     "output_type": "display_data"
    }
   ],
   "source": [
    "sb.swarmplot(x = \"gender\", y = \"age\", data = kill, hue = \"manner_of_death\")\n",
    "plt.show()"
   ]
  },
  {
   "cell_type": "code",
   "execution_count": null,
   "metadata": {},
   "outputs": [],
   "source": []
  },
  {
   "cell_type": "code",
   "execution_count": null,
   "metadata": {},
   "outputs": [],
   "source": []
  },
  {
   "cell_type": "code",
   "execution_count": null,
   "metadata": {},
   "outputs": [],
   "source": []
  },
  {
   "cell_type": "code",
   "execution_count": 75,
   "metadata": {
    "_uuid": "556a9aedc3e3603530f75e5ae09db11c4524d735",
    "scrolled": true
   },
   "outputs": [
    {
     "data": {
      "image/png": "[encoded data removed]",
      "text/plain": [
       "<Figure size 432x288 with 1 Axes>"
      ]
     },
     "metadata": {
      "needs_background": "light"
     },
     "output_type": "display_data"
    }
   ],
   "source": []
  },
  {
   "cell_type": "markdown",
   "metadata": {
    "_uuid": "f514733c3d5d1bfca711f4c4ae41611848e23d20"
   },
   "source": [
    "## 5. Kill properties (Count Plots)"
   ]
  },
  {
   "cell_type": "markdown",
   "metadata": {},
   "source": [
    "**INSTRUCTION-1: Plot number of poeple by gender**"
   ]
  },
  {
   "cell_type": "code",
   "execution_count": 55,
   "metadata": {},
   "outputs": [
    {
     "data": {
      "image/png": "[encoded data removed]",
      "text/plain": [
       "<Figure size 432x288 with 1 Axes>"
      ]
     },
     "metadata": {},
     "output_type": "display_data"
    }
   ],
   "source": [
    "fig = plt.figure()\n",
    "ax1 = fig.add_axes([0,0,0.8,0.8])\n",
    "ax1.set_title(\"gender\", fontsize = 15, color = \"b\")\n",
    "sb.countplot(x = \"gender\", data = kill)\n",
    "plt.show()"
   ]
  },
  {
   "cell_type": "code",
   "execution_count": null,
   "metadata": {},
   "outputs": [],
   "source": []
  },
  {
   "cell_type": "code",
   "execution_count": null,
   "metadata": {},
   "outputs": [],
   "source": []
  },
  {
   "cell_type": "code",
   "execution_count": null,
   "metadata": {},
   "outputs": [],
   "source": []
  },
  {
   "cell_type": "code",
   "execution_count": 78,
   "metadata": {
    "_cell_guid": "2432e07b-41c4-4893-9e31-b7945d9e4cd5",
    "_uuid": "8995af7e4b8b728d2bcfcff466fad8369841e1a7"
   },
   "outputs": [
    {
     "data": {
      "text/plain": [
       "Text(0.5, 1.0, 'gender')"
      ]
     },
     "execution_count": 78,
     "metadata": {},
     "output_type": "execute_result"
    },
    {
     "data": {
      "image/png": "[encoded data removed]",
      "text/plain": [
       "<Figure size 432x288 with 1 Axes>"
      ]
     },
     "metadata": {
      "needs_background": "light"
     },
     "output_type": "display_data"
    }
   ],
   "source": []
  },
  {
   "cell_type": "markdown",
   "metadata": {},
   "source": [
    "**INSTRUCTION-2: Plot 7 most common kill weapons**"
   ]
  },
  {
   "cell_type": "code",
   "execution_count": 66,
   "metadata": {},
   "outputs": [
    {
     "data": {
      "text/html": [
       "<div>\n",
       "<style scoped>\n",
       "    .dataframe tbody tr th:only-of-type {\n",
       "        vertical-align: middle;\n",
       "    }\n",
       "\n",
       "    .dataframe tbody tr th {\n",
       "        vertical-align: top;\n",
       "    }\n",
       "\n",
       "    .dataframe thead th {\n",
       "        text-align: right;\n",
       "    }\n",
       "</style>\n",
       "<table border=\"1\" class=\"dataframe\">\n",
       "  <thead>\n",
       "    <tr style=\"text-align: right;\">\n",
       "      <th></th>\n",
       "      <th>Weapon Types</th>\n",
       "      <th>Number of weapon</th>\n",
       "    </tr>\n",
       "  </thead>\n",
       "  <tbody>\n",
       "    <tr>\n",
       "      <th>0</th>\n",
       "      <td>gun</td>\n",
       "      <td>1398</td>\n",
       "    </tr>\n",
       "    <tr>\n",
       "      <th>1</th>\n",
       "      <td>knife</td>\n",
       "      <td>373</td>\n",
       "    </tr>\n",
       "    <tr>\n",
       "      <th>2</th>\n",
       "      <td>vehicle</td>\n",
       "      <td>177</td>\n",
       "    </tr>\n",
       "    <tr>\n",
       "      <th>3</th>\n",
       "      <td>unarmed</td>\n",
       "      <td>171</td>\n",
       "    </tr>\n",
       "    <tr>\n",
       "      <th>4</th>\n",
       "      <td>undetermined</td>\n",
       "      <td>117</td>\n",
       "    </tr>\n",
       "    <tr>\n",
       "      <th>5</th>\n",
       "      <td>toy weapon</td>\n",
       "      <td>104</td>\n",
       "    </tr>\n",
       "    <tr>\n",
       "      <th>6</th>\n",
       "      <td>machete</td>\n",
       "      <td>18</td>\n",
       "    </tr>\n",
       "  </tbody>\n",
       "</table>\n",
       "</div>"
      ],
      "text/plain": [
       "   Weapon Types  Number of weapon\n",
       "0           gun              1398\n",
       "1         knife               373\n",
       "2       vehicle               177\n",
       "3       unarmed               171\n",
       "4  undetermined               117\n",
       "5    toy weapon               104\n",
       "6       machete                18"
      ]
     },
     "execution_count": 66,
     "metadata": {},
     "output_type": "execute_result"
    }
   ],
   "source": [
    "from collections import Counter\n",
    "c = Counter(kill.armed)\n",
    "mostCommon = c.most_common(7)\n",
    "df = pd.DataFrame(mostCommon, columns = [\"Weapon Types\", \"Number of weapon\"])\n",
    "df"
   ]
  },
  {
   "cell_type": "code",
   "execution_count": 67,
   "metadata": {},
   "outputs": [
    {
     "data": {
      "text/plain": [
       "<matplotlib.axes._axes.Axes at 0x1ea6958f848>"
      ]
     },
     "execution_count": 67,
     "metadata": {},
     "output_type": "execute_result"
    },
    {
     "data": {
      "image/png": "[encoded data removed]",
      "text/plain": [
       "<Figure size 576x360 with 1 Axes>"
      ]
     },
     "metadata": {},
     "output_type": "display_data"
    }
   ],
   "source": [
    "fig = plt.figure(figsize = (8,5))\n",
    "ax1 = fig.add_axes([0,0,1,1])\n",
    "ax1.set_title(\"Kill weapon\", fontsize = 15, color = \"b\")\n",
    "sb.barplot(x = df[\"Weapon Types\"], y = df[\"Number of weapon\"], data = df)"
   ]
  },
  {
   "cell_type": "code",
   "execution_count": null,
   "metadata": {},
   "outputs": [],
   "source": []
  },
  {
   "cell_type": "code",
   "execution_count": null,
   "metadata": {},
   "outputs": [],
   "source": []
  },
  {
   "cell_type": "code",
   "execution_count": null,
   "metadata": {},
   "outputs": [],
   "source": []
  },
  {
   "cell_type": "code",
   "execution_count": null,
   "metadata": {},
   "outputs": [],
   "source": []
  },
  {
   "cell_type": "code",
   "execution_count": 93,
   "metadata": {
    "_cell_guid": "411ff3c0-b134-4e75-8dfa-187e94509f71",
    "_uuid": "848b0f0a11fb8b9c062da2f3bdf53d337e3b0fa0"
   },
   "outputs": [
    {
     "data": {
      "text/plain": [
       "Text(0.5, 1.0, 'Kill weapon')"
      ]
     },
     "execution_count": 93,
     "metadata": {},
     "output_type": "execute_result"
    },
    {
     "data": {
      "image/png": "[encoded data removed]",
      "text/plain": [
       "<Figure size 720x504 with 1 Axes>"
      ]
     },
     "metadata": {
      "needs_background": "light"
     },
     "output_type": "display_data"
    }
   ],
   "source": []
  },
  {
   "cell_type": "markdown",
   "metadata": {},
   "source": [
    "**INSTRUCTION-3: Plot number of age of killed people under two groups : Under 25 and Above 25**"
   ]
  },
  {
   "cell_type": "code",
   "execution_count": 12,
   "metadata": {
    "_cell_guid": "2eb8f78f-2ac7-4997-a200-282f90b8f7dc",
    "_uuid": "2eacfe5833f33799ee9100405846925a67080b24"
   },
   "outputs": [
    {
     "data": {
      "text/plain": [
       "id                           int64\n",
       "name                        object\n",
       "date                        object\n",
       "manner_of_death             object\n",
       "armed                       object\n",
       "age                        float64\n",
       "gender                      object\n",
       "race                        object\n",
       "city                        object\n",
       "state                       object\n",
       "signs_of_mental_illness       bool\n",
       "threat_level                object\n",
       "flee                        object\n",
       "body_camera                   bool\n",
       "dtype: object"
      ]
     },
     "execution_count": 12,
     "metadata": {},
     "output_type": "execute_result"
    }
   ],
   "source": [
    "kill.dtypes"
   ]
  },
  {
   "cell_type": "code",
   "execution_count": 13,
   "metadata": {},
   "outputs": [],
   "source": [
    "kill.age = kill.age.dropna()"
   ]
  },
  {
   "cell_type": "code",
   "execution_count": 14,
   "metadata": {},
   "outputs": [
    {
     "data": {
      "text/html": [
       "<div>\n",
       "<style scoped>\n",
       "    .dataframe tbody tr th:only-of-type {\n",
       "        vertical-align: middle;\n",
       "    }\n",
       "\n",
       "    .dataframe tbody tr th {\n",
       "        vertical-align: top;\n",
       "    }\n",
       "\n",
       "    .dataframe thead th {\n",
       "        text-align: right;\n",
       "    }\n",
       "</style>\n",
       "<table border=\"1\" class=\"dataframe\">\n",
       "  <thead>\n",
       "    <tr style=\"text-align: right;\">\n",
       "      <th></th>\n",
       "      <th>id</th>\n",
       "      <th>name</th>\n",
       "      <th>date</th>\n",
       "      <th>manner_of_death</th>\n",
       "      <th>armed</th>\n",
       "      <th>age</th>\n",
       "      <th>gender</th>\n",
       "      <th>race</th>\n",
       "      <th>city</th>\n",
       "      <th>state</th>\n",
       "      <th>signs_of_mental_illness</th>\n",
       "      <th>threat_level</th>\n",
       "      <th>flee</th>\n",
       "      <th>body_camera</th>\n",
       "    </tr>\n",
       "  </thead>\n",
       "  <tbody>\n",
       "    <tr>\n",
       "      <th>0</th>\n",
       "      <td>3</td>\n",
       "      <td>Tim Elliot</td>\n",
       "      <td>02/01/15</td>\n",
       "      <td>shot</td>\n",
       "      <td>gun</td>\n",
       "      <td>53.0</td>\n",
       "      <td>M</td>\n",
       "      <td>A</td>\n",
       "      <td>Shelton</td>\n",
       "      <td>WA</td>\n",
       "      <td>True</td>\n",
       "      <td>attack</td>\n",
       "      <td>Not fleeing</td>\n",
       "      <td>False</td>\n",
       "    </tr>\n",
       "    <tr>\n",
       "      <th>1</th>\n",
       "      <td>4</td>\n",
       "      <td>Lewis Lee Lembke</td>\n",
       "      <td>02/01/15</td>\n",
       "      <td>shot</td>\n",
       "      <td>gun</td>\n",
       "      <td>47.0</td>\n",
       "      <td>M</td>\n",
       "      <td>W</td>\n",
       "      <td>Aloha</td>\n",
       "      <td>OR</td>\n",
       "      <td>False</td>\n",
       "      <td>attack</td>\n",
       "      <td>Not fleeing</td>\n",
       "      <td>False</td>\n",
       "    </tr>\n",
       "    <tr>\n",
       "      <th>2</th>\n",
       "      <td>5</td>\n",
       "      <td>John Paul Quintero</td>\n",
       "      <td>03/01/15</td>\n",
       "      <td>shot and Tasered</td>\n",
       "      <td>unarmed</td>\n",
       "      <td>23.0</td>\n",
       "      <td>M</td>\n",
       "      <td>H</td>\n",
       "      <td>Wichita</td>\n",
       "      <td>KS</td>\n",
       "      <td>False</td>\n",
       "      <td>other</td>\n",
       "      <td>Not fleeing</td>\n",
       "      <td>False</td>\n",
       "    </tr>\n",
       "    <tr>\n",
       "      <th>3</th>\n",
       "      <td>8</td>\n",
       "      <td>Matthew Hoffman</td>\n",
       "      <td>04/01/15</td>\n",
       "      <td>shot</td>\n",
       "      <td>toy weapon</td>\n",
       "      <td>32.0</td>\n",
       "      <td>M</td>\n",
       "      <td>W</td>\n",
       "      <td>San Francisco</td>\n",
       "      <td>CA</td>\n",
       "      <td>True</td>\n",
       "      <td>attack</td>\n",
       "      <td>Not fleeing</td>\n",
       "      <td>False</td>\n",
       "    </tr>\n",
       "    <tr>\n",
       "      <th>4</th>\n",
       "      <td>9</td>\n",
       "      <td>Michael Rodriguez</td>\n",
       "      <td>04/01/15</td>\n",
       "      <td>shot</td>\n",
       "      <td>nail gun</td>\n",
       "      <td>39.0</td>\n",
       "      <td>M</td>\n",
       "      <td>H</td>\n",
       "      <td>Evans</td>\n",
       "      <td>CO</td>\n",
       "      <td>False</td>\n",
       "      <td>attack</td>\n",
       "      <td>Not fleeing</td>\n",
       "      <td>False</td>\n",
       "    </tr>\n",
       "  </tbody>\n",
       "</table>\n",
       "</div>"
      ],
      "text/plain": [
       "   id                name      date   manner_of_death       armed   age  \\\n",
       "0   3          Tim Elliot  02/01/15              shot         gun  53.0   \n",
       "1   4    Lewis Lee Lembke  02/01/15              shot         gun  47.0   \n",
       "2   5  John Paul Quintero  03/01/15  shot and Tasered     unarmed  23.0   \n",
       "3   8     Matthew Hoffman  04/01/15              shot  toy weapon  32.0   \n",
       "4   9   Michael Rodriguez  04/01/15              shot    nail gun  39.0   \n",
       "\n",
       "  gender race           city state  signs_of_mental_illness threat_level  \\\n",
       "0      M    A        Shelton    WA                     True       attack   \n",
       "1      M    W          Aloha    OR                    False       attack   \n",
       "2      M    H        Wichita    KS                    False        other   \n",
       "3      M    W  San Francisco    CA                     True       attack   \n",
       "4      M    H          Evans    CO                    False       attack   \n",
       "\n",
       "          flee  body_camera  \n",
       "0  Not fleeing        False  \n",
       "1  Not fleeing        False  \n",
       "2  Not fleeing        False  \n",
       "3  Not fleeing        False  \n",
       "4  Not fleeing        False  "
      ]
     },
     "execution_count": 14,
     "metadata": {},
     "output_type": "execute_result"
    }
   ],
   "source": [
    "kill.head()"
   ]
  },
  {
   "cell_type": "code",
   "execution_count": 15,
   "metadata": {},
   "outputs": [],
   "source": [
    "agess = []\n",
    "for i in list(kill.age):\n",
    "        if i <= 25 :\n",
    "            agess.append(\"below25\")\n",
    "        else:\n",
    "            agess.append(\"above25\")\n",
    " ####map yçntemi ile yapılabilir mi   "
   ]
  },
  {
   "cell_type": "code",
   "execution_count": 16,
   "metadata": {},
   "outputs": [],
   "source": [
    "kill[\"a_or_b\"] = agess"
   ]
  },
  {
   "cell_type": "code",
   "execution_count": 17,
   "metadata": {},
   "outputs": [
    {
     "data": {
      "text/html": [
       "<div>\n",
       "<style scoped>\n",
       "    .dataframe tbody tr th:only-of-type {\n",
       "        vertical-align: middle;\n",
       "    }\n",
       "\n",
       "    .dataframe tbody tr th {\n",
       "        vertical-align: top;\n",
       "    }\n",
       "\n",
       "    .dataframe thead th {\n",
       "        text-align: right;\n",
       "    }\n",
       "</style>\n",
       "<table border=\"1\" class=\"dataframe\">\n",
       "  <thead>\n",
       "    <tr style=\"text-align: right;\">\n",
       "      <th></th>\n",
       "      <th>id</th>\n",
       "      <th>name</th>\n",
       "      <th>date</th>\n",
       "      <th>manner_of_death</th>\n",
       "      <th>armed</th>\n",
       "      <th>age</th>\n",
       "      <th>gender</th>\n",
       "      <th>race</th>\n",
       "      <th>city</th>\n",
       "      <th>state</th>\n",
       "      <th>signs_of_mental_illness</th>\n",
       "      <th>threat_level</th>\n",
       "      <th>flee</th>\n",
       "      <th>body_camera</th>\n",
       "      <th>a_or_b</th>\n",
       "    </tr>\n",
       "  </thead>\n",
       "  <tbody>\n",
       "    <tr>\n",
       "      <th>0</th>\n",
       "      <td>3</td>\n",
       "      <td>Tim Elliot</td>\n",
       "      <td>02/01/15</td>\n",
       "      <td>shot</td>\n",
       "      <td>gun</td>\n",
       "      <td>53.0</td>\n",
       "      <td>M</td>\n",
       "      <td>A</td>\n",
       "      <td>Shelton</td>\n",
       "      <td>WA</td>\n",
       "      <td>True</td>\n",
       "      <td>attack</td>\n",
       "      <td>Not fleeing</td>\n",
       "      <td>False</td>\n",
       "      <td>above25</td>\n",
       "    </tr>\n",
       "    <tr>\n",
       "      <th>1</th>\n",
       "      <td>4</td>\n",
       "      <td>Lewis Lee Lembke</td>\n",
       "      <td>02/01/15</td>\n",
       "      <td>shot</td>\n",
       "      <td>gun</td>\n",
       "      <td>47.0</td>\n",
       "      <td>M</td>\n",
       "      <td>W</td>\n",
       "      <td>Aloha</td>\n",
       "      <td>OR</td>\n",
       "      <td>False</td>\n",
       "      <td>attack</td>\n",
       "      <td>Not fleeing</td>\n",
       "      <td>False</td>\n",
       "      <td>above25</td>\n",
       "    </tr>\n",
       "    <tr>\n",
       "      <th>2</th>\n",
       "      <td>5</td>\n",
       "      <td>John Paul Quintero</td>\n",
       "      <td>03/01/15</td>\n",
       "      <td>shot and Tasered</td>\n",
       "      <td>unarmed</td>\n",
       "      <td>23.0</td>\n",
       "      <td>M</td>\n",
       "      <td>H</td>\n",
       "      <td>Wichita</td>\n",
       "      <td>KS</td>\n",
       "      <td>False</td>\n",
       "      <td>other</td>\n",
       "      <td>Not fleeing</td>\n",
       "      <td>False</td>\n",
       "      <td>below25</td>\n",
       "    </tr>\n",
       "    <tr>\n",
       "      <th>3</th>\n",
       "      <td>8</td>\n",
       "      <td>Matthew Hoffman</td>\n",
       "      <td>04/01/15</td>\n",
       "      <td>shot</td>\n",
       "      <td>toy weapon</td>\n",
       "      <td>32.0</td>\n",
       "      <td>M</td>\n",
       "      <td>W</td>\n",
       "      <td>San Francisco</td>\n",
       "      <td>CA</td>\n",
       "      <td>True</td>\n",
       "      <td>attack</td>\n",
       "      <td>Not fleeing</td>\n",
       "      <td>False</td>\n",
       "      <td>above25</td>\n",
       "    </tr>\n",
       "    <tr>\n",
       "      <th>4</th>\n",
       "      <td>9</td>\n",
       "      <td>Michael Rodriguez</td>\n",
       "      <td>04/01/15</td>\n",
       "      <td>shot</td>\n",
       "      <td>nail gun</td>\n",
       "      <td>39.0</td>\n",
       "      <td>M</td>\n",
       "      <td>H</td>\n",
       "      <td>Evans</td>\n",
       "      <td>CO</td>\n",
       "      <td>False</td>\n",
       "      <td>attack</td>\n",
       "      <td>Not fleeing</td>\n",
       "      <td>False</td>\n",
       "      <td>above25</td>\n",
       "    </tr>\n",
       "  </tbody>\n",
       "</table>\n",
       "</div>"
      ],
      "text/plain": [
       "   id                name      date   manner_of_death       armed   age  \\\n",
       "0   3          Tim Elliot  02/01/15              shot         gun  53.0   \n",
       "1   4    Lewis Lee Lembke  02/01/15              shot         gun  47.0   \n",
       "2   5  John Paul Quintero  03/01/15  shot and Tasered     unarmed  23.0   \n",
       "3   8     Matthew Hoffman  04/01/15              shot  toy weapon  32.0   \n",
       "4   9   Michael Rodriguez  04/01/15              shot    nail gun  39.0   \n",
       "\n",
       "  gender race           city state  signs_of_mental_illness threat_level  \\\n",
       "0      M    A        Shelton    WA                     True       attack   \n",
       "1      M    W          Aloha    OR                    False       attack   \n",
       "2      M    H        Wichita    KS                    False        other   \n",
       "3      M    W  San Francisco    CA                     True       attack   \n",
       "4      M    H          Evans    CO                    False       attack   \n",
       "\n",
       "          flee  body_camera   a_or_b  \n",
       "0  Not fleeing        False  above25  \n",
       "1  Not fleeing        False  above25  \n",
       "2  Not fleeing        False  below25  \n",
       "3  Not fleeing        False  above25  \n",
       "4  Not fleeing        False  above25  "
      ]
     },
     "execution_count": 17,
     "metadata": {},
     "output_type": "execute_result"
    }
   ],
   "source": [
    "kill.head()"
   ]
  },
  {
   "cell_type": "code",
   "execution_count": 21,
   "metadata": {},
   "outputs": [
    {
     "data": {
      "text/plain": [
       "<matplotlib.axes._axes.Axes at 0x21d53c7a6c8>"
      ]
     },
     "execution_count": 21,
     "metadata": {},
     "output_type": "execute_result"
    },
    {
     "data": {
      "image/png": "[encoded data removed]",
      "text/plain": [
       "<Figure size 432x288 with 1 Axes>"
      ]
     },
     "metadata": {
      "needs_background": "light"
     },
     "output_type": "display_data"
    }
   ],
   "source": [
    "fig = plt.figure()\n",
    "ax1 = fig.add_axes([0,0,1,1],xlabel = \"age\")\n",
    "ax1.set_title(\"Age of killed people\", fontsize = 15, color = \"b\")\n",
    "ax1.set_ylabel(\"Number of Killed People\")\n",
    "ax1.set_xlabel(\"age\")\n",
    "sb.countplot(x = kill[\"a_or_b\"], data = kill)"
   ]
  },
  {
   "cell_type": "code",
   "execution_count": null,
   "metadata": {},
   "outputs": [],
   "source": []
  },
  {
   "cell_type": "code",
   "execution_count": null,
   "metadata": {},
   "outputs": [],
   "source": []
  },
  {
   "cell_type": "code",
   "execution_count": null,
   "metadata": {},
   "outputs": [],
   "source": []
  },
  {
   "cell_type": "code",
   "execution_count": 82,
   "metadata": {
    "_cell_guid": "2eb8f78f-2ac7-4997-a200-282f90b8f7dc",
    "_uuid": "2eacfe5833f33799ee9100405846925a67080b24"
   },
   "outputs": [
    {
     "data": {
      "text/plain": [
       "Text(0.5, 1.0, 'Age of killed people')"
      ]
     },
     "execution_count": 82,
     "metadata": {},
     "output_type": "execute_result"
    },
    {
     "data": {
      "image/png": "[encoded data removed]",
      "text/plain": [
       "<Figure size 432x288 with 1 Axes>"
      ]
     },
     "metadata": {
      "needs_background": "light"
     },
     "output_type": "display_data"
    }
   ],
   "source": []
  },
  {
   "cell_type": "code",
   "execution_count": null,
   "metadata": {},
   "outputs": [],
   "source": []
  },
  {
   "cell_type": "code",
   "execution_count": null,
   "metadata": {},
   "outputs": [],
   "source": []
  },
  {
   "cell_type": "code",
   "execution_count": null,
   "metadata": {},
   "outputs": [],
   "source": []
  },
  {
   "cell_type": "code",
   "execution_count": 4,
   "metadata": {},
   "outputs": [
    {
     "data": {
      "text/plain": [
       "<matplotlib.axes._axes.Axes at 0x211abc25b88>"
      ]
     },
     "execution_count": 4,
     "metadata": {},
     "output_type": "execute_result"
    },
    {
     "data": {
      "image/png": "[encoded data removed]",
      "text/plain": [
       "<Figure size 432x288 with 1 Axes>"
      ]
     },
     "metadata": {
      "needs_background": "light"
     },
     "output_type": "display_data"
    }
   ],
   "source": [
    "fig = plt.figure()\n",
    "ax = fig.add_axes([0,0,0.8,0.8])\n",
    "ax.set_title(\"Race of killed people\")\n",
    "sb.countplot( x = \"race\", data = kill)\n"
   ]
  },
  {
   "cell_type": "code",
   "execution_count": null,
   "metadata": {},
   "outputs": [],
   "source": []
  },
  {
   "cell_type": "code",
   "execution_count": 83,
   "metadata": {
    "_cell_guid": "d58b6bb2-c3d8-442b-bada-c6760806a025",
    "_uuid": "7fb176fb40982d8ae3e78ad599ceb534db71d270"
   },
   "outputs": [
    {
     "data": {
      "text/plain": [
       "Text(0.5, 1.0, 'Race of killed people')"
      ]
     },
     "execution_count": 83,
     "metadata": {},
     "output_type": "execute_result"
    },
    {
     "data": {
      "image/png": "[encoded data removed]",
      "text/plain": [
       "<Figure size 432x288 with 1 Axes>"
      ]
     },
     "metadata": {
      "needs_background": "light"
     },
     "output_type": "display_data"
    }
   ],
   "source": []
  },
  {
   "cell_type": "markdown",
   "metadata": {},
   "source": [
    "**INSTRUCTION-5: Plot 12 most dangerous cities**"
   ]
  },
  {
   "cell_type": "code",
   "execution_count": 5,
   "metadata": {},
   "outputs": [
    {
     "data": {
      "text/html": [
       "<div>\n",
       "<style scoped>\n",
       "    .dataframe tbody tr th:only-of-type {\n",
       "        vertical-align: middle;\n",
       "    }\n",
       "\n",
       "    .dataframe tbody tr th {\n",
       "        vertical-align: top;\n",
       "    }\n",
       "\n",
       "    .dataframe thead th {\n",
       "        text-align: right;\n",
       "    }\n",
       "</style>\n",
       "<table border=\"1\" class=\"dataframe\">\n",
       "  <thead>\n",
       "    <tr style=\"text-align: right;\">\n",
       "      <th></th>\n",
       "      <th>cities</th>\n",
       "      <th>deaths</th>\n",
       "    </tr>\n",
       "  </thead>\n",
       "  <tbody>\n",
       "    <tr>\n",
       "      <th>0</th>\n",
       "      <td>Los Angeles</td>\n",
       "      <td>39</td>\n",
       "    </tr>\n",
       "    <tr>\n",
       "      <th>1</th>\n",
       "      <td>Phoenix</td>\n",
       "      <td>31</td>\n",
       "    </tr>\n",
       "    <tr>\n",
       "      <th>2</th>\n",
       "      <td>Houston</td>\n",
       "      <td>27</td>\n",
       "    </tr>\n",
       "    <tr>\n",
       "      <th>3</th>\n",
       "      <td>Chicago</td>\n",
       "      <td>25</td>\n",
       "    </tr>\n",
       "    <tr>\n",
       "      <th>4</th>\n",
       "      <td>Las Vegas</td>\n",
       "      <td>21</td>\n",
       "    </tr>\n",
       "    <tr>\n",
       "      <th>5</th>\n",
       "      <td>San Antonio</td>\n",
       "      <td>20</td>\n",
       "    </tr>\n",
       "    <tr>\n",
       "      <th>6</th>\n",
       "      <td>Columbus</td>\n",
       "      <td>19</td>\n",
       "    </tr>\n",
       "    <tr>\n",
       "      <th>7</th>\n",
       "      <td>Austin</td>\n",
       "      <td>18</td>\n",
       "    </tr>\n",
       "    <tr>\n",
       "      <th>8</th>\n",
       "      <td>Miami</td>\n",
       "      <td>18</td>\n",
       "    </tr>\n",
       "    <tr>\n",
       "      <th>9</th>\n",
       "      <td>St. Louis</td>\n",
       "      <td>15</td>\n",
       "    </tr>\n",
       "    <tr>\n",
       "      <th>10</th>\n",
       "      <td>Albuquerque</td>\n",
       "      <td>14</td>\n",
       "    </tr>\n",
       "    <tr>\n",
       "      <th>11</th>\n",
       "      <td>Indianapolis</td>\n",
       "      <td>14</td>\n",
       "    </tr>\n",
       "  </tbody>\n",
       "</table>\n",
       "</div>"
      ],
      "text/plain": [
       "          cities  deaths\n",
       "0    Los Angeles      39\n",
       "1        Phoenix      31\n",
       "2        Houston      27\n",
       "3        Chicago      25\n",
       "4      Las Vegas      21\n",
       "5    San Antonio      20\n",
       "6       Columbus      19\n",
       "7         Austin      18\n",
       "8          Miami      18\n",
       "9      St. Louis      15\n",
       "10   Albuquerque      14\n",
       "11  Indianapolis      14"
      ]
     },
     "execution_count": 5,
     "metadata": {},
     "output_type": "execute_result"
    }
   ],
   "source": [
    "from collections import Counter\n",
    "c = Counter(kill.city)\n",
    "mostCommon = c.most_common(12)\n",
    "df = pd.DataFrame(mostCommon, columns = [\"cities\", \"deaths\"])\n",
    "df"
   ]
  },
  {
   "cell_type": "code",
   "execution_count": 8,
   "metadata": {},
   "outputs": [
    {
     "data": {
      "image/png": "[encoded data removed]",
      "text/plain": [
       "<Figure size 576x360 with 1 Axes>"
      ]
     },
     "metadata": {
      "needs_background": "light"
     },
     "output_type": "display_data"
    }
   ],
   "source": [
    "fig = plt.figure(figsize = (8,5))\n",
    "ax = fig.add_axes([0,0,1,1])\n",
    "ax.set_title(\"Most dangerous cities\", color = \"blue\", fontdict = {\"fontsize\":16})\n",
    "sb.barplot( x = \"cities\", y = \"deaths\", data = df)\n",
    "ax.set_xticklabels(labels = df.cities, rotation=45)\n",
    "plt.show()\n",
    "# Show the plot\n"
   ]
  },
  {
   "cell_type": "code",
   "execution_count": 7,
   "metadata": {},
   "outputs": [
    {
     "data": {
      "text/plain": [
       "0"
      ]
     },
     "execution_count": 7,
     "metadata": {},
     "output_type": "execute_result"
    }
   ],
   "source": [
    "kill.city.isnull().sum()"
   ]
  },
  {
   "cell_type": "code",
   "execution_count": 9,
   "metadata": {},
   "outputs": [
    {
     "data": {
      "text/html": [
       "<div>\n",
       "<style scoped>\n",
       "    .dataframe tbody tr th:only-of-type {\n",
       "        vertical-align: middle;\n",
       "    }\n",
       "\n",
       "    .dataframe tbody tr th {\n",
       "        vertical-align: top;\n",
       "    }\n",
       "\n",
       "    .dataframe thead th {\n",
       "        text-align: right;\n",
       "    }\n",
       "</style>\n",
       "<table border=\"1\" class=\"dataframe\">\n",
       "  <thead>\n",
       "    <tr style=\"text-align: right;\">\n",
       "      <th></th>\n",
       "      <th>cities</th>\n",
       "      <th>deaths</th>\n",
       "    </tr>\n",
       "  </thead>\n",
       "  <tbody>\n",
       "    <tr>\n",
       "      <th>0</th>\n",
       "      <td>Los Angeles</td>\n",
       "      <td>39</td>\n",
       "    </tr>\n",
       "    <tr>\n",
       "      <th>1</th>\n",
       "      <td>Phoenix</td>\n",
       "      <td>31</td>\n",
       "    </tr>\n",
       "    <tr>\n",
       "      <th>2</th>\n",
       "      <td>Houston</td>\n",
       "      <td>27</td>\n",
       "    </tr>\n",
       "    <tr>\n",
       "      <th>3</th>\n",
       "      <td>Chicago</td>\n",
       "      <td>25</td>\n",
       "    </tr>\n",
       "    <tr>\n",
       "      <th>4</th>\n",
       "      <td>Las Vegas</td>\n",
       "      <td>21</td>\n",
       "    </tr>\n",
       "    <tr>\n",
       "      <th>5</th>\n",
       "      <td>San Antonio</td>\n",
       "      <td>20</td>\n",
       "    </tr>\n",
       "    <tr>\n",
       "      <th>6</th>\n",
       "      <td>Columbus</td>\n",
       "      <td>19</td>\n",
       "    </tr>\n",
       "    <tr>\n",
       "      <th>7</th>\n",
       "      <td>Austin</td>\n",
       "      <td>18</td>\n",
       "    </tr>\n",
       "    <tr>\n",
       "      <th>8</th>\n",
       "      <td>Miami</td>\n",
       "      <td>18</td>\n",
       "    </tr>\n",
       "    <tr>\n",
       "      <th>9</th>\n",
       "      <td>St. Louis</td>\n",
       "      <td>15</td>\n",
       "    </tr>\n",
       "    <tr>\n",
       "      <th>10</th>\n",
       "      <td>Albuquerque</td>\n",
       "      <td>14</td>\n",
       "    </tr>\n",
       "    <tr>\n",
       "      <th>11</th>\n",
       "      <td>Indianapolis</td>\n",
       "      <td>14</td>\n",
       "    </tr>\n",
       "  </tbody>\n",
       "</table>\n",
       "</div>"
      ],
      "text/plain": [
       "          cities  deaths\n",
       "0    Los Angeles      39\n",
       "1        Phoenix      31\n",
       "2        Houston      27\n",
       "3        Chicago      25\n",
       "4      Las Vegas      21\n",
       "5    San Antonio      20\n",
       "6       Columbus      19\n",
       "7         Austin      18\n",
       "8          Miami      18\n",
       "9      St. Louis      15\n",
       "10   Albuquerque      14\n",
       "11  Indianapolis      14"
      ]
     },
     "execution_count": 9,
     "metadata": {},
     "output_type": "execute_result"
    }
   ],
   "source": [
    "from collections import Counter\n",
    "c = Counter(kill.city).most_common(12)\n",
    "df = pd.DataFrame(c, columns = [\"cities\", \"deaths\"])\n",
    "df"
   ]
  },
  {
   "cell_type": "code",
   "execution_count": 11,
   "metadata": {},
   "outputs": [
    {
     "data": {
      "text/plain": [
       "list"
      ]
     },
     "execution_count": 11,
     "metadata": {},
     "output_type": "execute_result"
    }
   ],
   "source": [
    "type(c)"
   ]
  },
  {
   "cell_type": "code",
   "execution_count": null,
   "metadata": {},
   "outputs": [],
   "source": []
  },
  {
   "cell_type": "code",
   "execution_count": 84,
   "metadata": {
    "_cell_guid": "e13099a8-d7e5-475e-b9a1-f878274d6e8c",
    "_uuid": "81a52a4f4ef038f99729d980ac87f07ebe7874de"
   },
   "outputs": [
    {
     "data": {
      "text/plain": [
       "Text(0.5, 1.0, 'Most dangerous cities')"
      ]
     },
     "execution_count": 84,
     "metadata": {},
     "output_type": "execute_result"
    },
    {
     "data": {
      "image/png": "[encoded data removed]",
      "text/plain": [
       "<Figure size 720x504 with 1 Axes>"
      ]
     },
     "metadata": {
      "needs_background": "light"
     },
     "output_type": "display_data"
    }
   ],
   "source": []
  },
  {
   "cell_type": "markdown",
   "metadata": {},
   "source": [
    "**INSTRUCTION-6: Plot 20 most dangerous states**"
   ]
  },
  {
   "cell_type": "code",
   "execution_count": 70,
   "metadata": {},
   "outputs": [
    {
     "data": {
      "text/html": [
       "<div>\n",
       "<style scoped>\n",
       "    .dataframe tbody tr th:only-of-type {\n",
       "        vertical-align: middle;\n",
       "    }\n",
       "\n",
       "    .dataframe tbody tr th {\n",
       "        vertical-align: top;\n",
       "    }\n",
       "\n",
       "    .dataframe thead th {\n",
       "        text-align: right;\n",
       "    }\n",
       "</style>\n",
       "<table border=\"1\" class=\"dataframe\">\n",
       "  <thead>\n",
       "    <tr style=\"text-align: right;\">\n",
       "      <th></th>\n",
       "      <th>id</th>\n",
       "      <th>name</th>\n",
       "      <th>date</th>\n",
       "      <th>manner_of_death</th>\n",
       "      <th>armed</th>\n",
       "      <th>age</th>\n",
       "      <th>gender</th>\n",
       "      <th>race</th>\n",
       "      <th>city</th>\n",
       "      <th>state</th>\n",
       "      <th>signs_of_mental_illness</th>\n",
       "      <th>threat_level</th>\n",
       "      <th>flee</th>\n",
       "      <th>body_camera</th>\n",
       "      <th>a_or_b</th>\n",
       "    </tr>\n",
       "  </thead>\n",
       "  <tbody>\n",
       "    <tr>\n",
       "      <th>0</th>\n",
       "      <td>3</td>\n",
       "      <td>Tim Elliot</td>\n",
       "      <td>02/01/15</td>\n",
       "      <td>shot</td>\n",
       "      <td>gun</td>\n",
       "      <td>53.0</td>\n",
       "      <td>M</td>\n",
       "      <td>A</td>\n",
       "      <td>Shelton</td>\n",
       "      <td>WA</td>\n",
       "      <td>True</td>\n",
       "      <td>attack</td>\n",
       "      <td>Not fleeing</td>\n",
       "      <td>False</td>\n",
       "      <td>above25</td>\n",
       "    </tr>\n",
       "    <tr>\n",
       "      <th>1</th>\n",
       "      <td>4</td>\n",
       "      <td>Lewis Lee Lembke</td>\n",
       "      <td>02/01/15</td>\n",
       "      <td>shot</td>\n",
       "      <td>gun</td>\n",
       "      <td>47.0</td>\n",
       "      <td>M</td>\n",
       "      <td>W</td>\n",
       "      <td>Aloha</td>\n",
       "      <td>OR</td>\n",
       "      <td>False</td>\n",
       "      <td>attack</td>\n",
       "      <td>Not fleeing</td>\n",
       "      <td>False</td>\n",
       "      <td>above25</td>\n",
       "    </tr>\n",
       "    <tr>\n",
       "      <th>2</th>\n",
       "      <td>5</td>\n",
       "      <td>John Paul Quintero</td>\n",
       "      <td>03/01/15</td>\n",
       "      <td>shot and Tasered</td>\n",
       "      <td>unarmed</td>\n",
       "      <td>23.0</td>\n",
       "      <td>M</td>\n",
       "      <td>H</td>\n",
       "      <td>Wichita</td>\n",
       "      <td>KS</td>\n",
       "      <td>False</td>\n",
       "      <td>other</td>\n",
       "      <td>Not fleeing</td>\n",
       "      <td>False</td>\n",
       "      <td>below25</td>\n",
       "    </tr>\n",
       "    <tr>\n",
       "      <th>3</th>\n",
       "      <td>8</td>\n",
       "      <td>Matthew Hoffman</td>\n",
       "      <td>04/01/15</td>\n",
       "      <td>shot</td>\n",
       "      <td>toy weapon</td>\n",
       "      <td>32.0</td>\n",
       "      <td>M</td>\n",
       "      <td>W</td>\n",
       "      <td>San Francisco</td>\n",
       "      <td>CA</td>\n",
       "      <td>True</td>\n",
       "      <td>attack</td>\n",
       "      <td>Not fleeing</td>\n",
       "      <td>False</td>\n",
       "      <td>above25</td>\n",
       "    </tr>\n",
       "    <tr>\n",
       "      <th>4</th>\n",
       "      <td>9</td>\n",
       "      <td>Michael Rodriguez</td>\n",
       "      <td>04/01/15</td>\n",
       "      <td>shot</td>\n",
       "      <td>nail gun</td>\n",
       "      <td>39.0</td>\n",
       "      <td>M</td>\n",
       "      <td>H</td>\n",
       "      <td>Evans</td>\n",
       "      <td>CO</td>\n",
       "      <td>False</td>\n",
       "      <td>attack</td>\n",
       "      <td>Not fleeing</td>\n",
       "      <td>False</td>\n",
       "      <td>above25</td>\n",
       "    </tr>\n",
       "  </tbody>\n",
       "</table>\n",
       "</div>"
      ],
      "text/plain": [
       "   id                name      date   manner_of_death       armed   age  \\\n",
       "0   3          Tim Elliot  02/01/15              shot         gun  53.0   \n",
       "1   4    Lewis Lee Lembke  02/01/15              shot         gun  47.0   \n",
       "2   5  John Paul Quintero  03/01/15  shot and Tasered     unarmed  23.0   \n",
       "3   8     Matthew Hoffman  04/01/15              shot  toy weapon  32.0   \n",
       "4   9   Michael Rodriguez  04/01/15              shot    nail gun  39.0   \n",
       "\n",
       "  gender race           city state  signs_of_mental_illness threat_level  \\\n",
       "0      M    A        Shelton    WA                     True       attack   \n",
       "1      M    W          Aloha    OR                    False       attack   \n",
       "2      M    H        Wichita    KS                    False        other   \n",
       "3      M    W  San Francisco    CA                     True       attack   \n",
       "4      M    H          Evans    CO                    False       attack   \n",
       "\n",
       "          flee  body_camera   a_or_b  \n",
       "0  Not fleeing        False  above25  \n",
       "1  Not fleeing        False  above25  \n",
       "2  Not fleeing        False  below25  \n",
       "3  Not fleeing        False  above25  \n",
       "4  Not fleeing        False  above25  "
      ]
     },
     "execution_count": 70,
     "metadata": {},
     "output_type": "execute_result"
    }
   ],
   "source": [
    "kill.head()"
   ]
  },
  {
   "cell_type": "code",
   "execution_count": 12,
   "metadata": {},
   "outputs": [
    {
     "data": {
      "text/html": [
       "<div>\n",
       "<style scoped>\n",
       "    .dataframe tbody tr th:only-of-type {\n",
       "        vertical-align: middle;\n",
       "    }\n",
       "\n",
       "    .dataframe tbody tr th {\n",
       "        vertical-align: top;\n",
       "    }\n",
       "\n",
       "    .dataframe thead th {\n",
       "        text-align: right;\n",
       "    }\n",
       "</style>\n",
       "<table border=\"1\" class=\"dataframe\">\n",
       "  <thead>\n",
       "    <tr style=\"text-align: right;\">\n",
       "      <th></th>\n",
       "      <th>state</th>\n",
       "      <th>deaths</th>\n",
       "    </tr>\n",
       "  </thead>\n",
       "  <tbody>\n",
       "    <tr>\n",
       "      <th>0</th>\n",
       "      <td>CA</td>\n",
       "      <td>424</td>\n",
       "    </tr>\n",
       "    <tr>\n",
       "      <th>1</th>\n",
       "      <td>TX</td>\n",
       "      <td>225</td>\n",
       "    </tr>\n",
       "    <tr>\n",
       "      <th>2</th>\n",
       "      <td>FL</td>\n",
       "      <td>154</td>\n",
       "    </tr>\n",
       "    <tr>\n",
       "      <th>3</th>\n",
       "      <td>AZ</td>\n",
       "      <td>118</td>\n",
       "    </tr>\n",
       "    <tr>\n",
       "      <th>4</th>\n",
       "      <td>OH</td>\n",
       "      <td>79</td>\n",
       "    </tr>\n",
       "    <tr>\n",
       "      <th>5</th>\n",
       "      <td>OK</td>\n",
       "      <td>78</td>\n",
       "    </tr>\n",
       "    <tr>\n",
       "      <th>6</th>\n",
       "      <td>CO</td>\n",
       "      <td>74</td>\n",
       "    </tr>\n",
       "    <tr>\n",
       "      <th>7</th>\n",
       "      <td>GA</td>\n",
       "      <td>70</td>\n",
       "    </tr>\n",
       "    <tr>\n",
       "      <th>8</th>\n",
       "      <td>NC</td>\n",
       "      <td>69</td>\n",
       "    </tr>\n",
       "    <tr>\n",
       "      <th>9</th>\n",
       "      <td>MO</td>\n",
       "      <td>64</td>\n",
       "    </tr>\n",
       "    <tr>\n",
       "      <th>10</th>\n",
       "      <td>WA</td>\n",
       "      <td>62</td>\n",
       "    </tr>\n",
       "    <tr>\n",
       "      <th>11</th>\n",
       "      <td>IL</td>\n",
       "      <td>62</td>\n",
       "    </tr>\n",
       "    <tr>\n",
       "      <th>12</th>\n",
       "      <td>TN</td>\n",
       "      <td>59</td>\n",
       "    </tr>\n",
       "    <tr>\n",
       "      <th>13</th>\n",
       "      <td>LA</td>\n",
       "      <td>57</td>\n",
       "    </tr>\n",
       "    <tr>\n",
       "      <th>14</th>\n",
       "      <td>PA</td>\n",
       "      <td>51</td>\n",
       "    </tr>\n",
       "    <tr>\n",
       "      <th>15</th>\n",
       "      <td>NM</td>\n",
       "      <td>51</td>\n",
       "    </tr>\n",
       "    <tr>\n",
       "      <th>16</th>\n",
       "      <td>AL</td>\n",
       "      <td>50</td>\n",
       "    </tr>\n",
       "    <tr>\n",
       "      <th>17</th>\n",
       "      <td>VA</td>\n",
       "      <td>47</td>\n",
       "    </tr>\n",
       "    <tr>\n",
       "      <th>18</th>\n",
       "      <td>NY</td>\n",
       "      <td>45</td>\n",
       "    </tr>\n",
       "    <tr>\n",
       "      <th>19</th>\n",
       "      <td>SC</td>\n",
       "      <td>44</td>\n",
       "    </tr>\n",
       "  </tbody>\n",
       "</table>\n",
       "</div>"
      ],
      "text/plain": [
       "   state  deaths\n",
       "0     CA     424\n",
       "1     TX     225\n",
       "2     FL     154\n",
       "3     AZ     118\n",
       "4     OH      79\n",
       "5     OK      78\n",
       "6     CO      74\n",
       "7     GA      70\n",
       "8     NC      69\n",
       "9     MO      64\n",
       "10    WA      62\n",
       "11    IL      62\n",
       "12    TN      59\n",
       "13    LA      57\n",
       "14    PA      51\n",
       "15    NM      51\n",
       "16    AL      50\n",
       "17    VA      47\n",
       "18    NY      45\n",
       "19    SC      44"
      ]
     },
     "execution_count": 12,
     "metadata": {},
     "output_type": "execute_result"
    }
   ],
   "source": [
    "from collections import Counter\n",
    "c = Counter(kill.state)\n",
    "mostCommon = c.most_common(20)\n",
    "df = pd.DataFrame(mostCommon, columns = [\"state\", \"deaths\"])\n",
    "df"
   ]
  },
  {
   "cell_type": "code",
   "execution_count": 72,
   "metadata": {},
   "outputs": [
    {
     "data": {
      "image/png": "[encoded data removed]",
      "text/plain": [
       "<Figure size 576x360 with 1 Axes>"
      ]
     },
     "metadata": {},
     "output_type": "display_data"
    }
   ],
   "source": [
    "fig = plt.figure(figsize = (8,5))\n",
    "ax = fig.add_axes([0,0,1,1])\n",
    "ax.set_title(\"Most dangerous states\", fontsize = 14, color = \"b\")\n",
    "sb.barplot( x = \"state\", y = \"deaths\", data = df)\n",
    "ax.set_xticklabels(labels = df.state, rotation=45)\n",
    "plt.show()"
   ]
  },
  {
   "cell_type": "code",
   "execution_count": 18,
   "metadata": {},
   "outputs": [
    {
     "data": {
      "image/png": "[encoded data removed]",
      "text/plain": [
       "<Figure size 576x360 with 1 Axes>"
      ]
     },
     "metadata": {
      "needs_background": "light"
     },
     "output_type": "display_data"
    }
   ],
   "source": [
    "fig = plt.figure(figsize = (8,5))\n",
    "ax = fig.add_axes([0,0,1,1])\n",
    "ax.set_title(\"Most dangerous states\", fontsize = 14, color = \"b\")\n",
    "ax.bar( df.state, df.deaths)\n",
    "ax.set_xticklabels(labels = df.state, rotation=45)\n",
    "plt.show()"
   ]
  },
  {
   "cell_type": "markdown",
   "metadata": {},
   "source": [
    "**ca eyaletindeki gerçekleşen ölümler kendine en yakın tx eyaletinin yaklaşık 2 katıdır. nufusa göre oranlamak daha doğru sonuçlar verecektir.**"
   ]
  },
  {
   "cell_type": "code",
   "execution_count": 85,
   "metadata": {
    "_cell_guid": "6cf2ffb9-41e1-4928-a7c5-821609bb3393",
    "_uuid": "ee03b2c97467b751f5644a79a988ffb4de816360"
   },
   "outputs": [
    {
     "data": {
      "text/plain": [
       "Text(0.5, 1.0, 'Most dangerous state')"
      ]
     },
     "execution_count": 85,
     "metadata": {},
     "output_type": "execute_result"
    },
    {
     "data": {
      "image/png": "[encoded data removed]",
      "text/plain": [
       "<Figure size 720x504 with 1 Axes>"
      ]
     },
     "metadata": {
      "needs_background": "light"
     },
     "output_type": "display_data"
    }
   ],
   "source": []
  },
  {
   "cell_type": "code",
   "execution_count": 20,
   "metadata": {},
   "outputs": [
    {
     "data": {
      "text/html": [
       "<div>\n",
       "<style scoped>\n",
       "    .dataframe tbody tr th:only-of-type {\n",
       "        vertical-align: middle;\n",
       "    }\n",
       "\n",
       "    .dataframe tbody tr th {\n",
       "        vertical-align: top;\n",
       "    }\n",
       "\n",
       "    .dataframe thead th {\n",
       "        text-align: right;\n",
       "    }\n",
       "</style>\n",
       "<table border=\"1\" class=\"dataframe\">\n",
       "  <thead>\n",
       "    <tr style=\"text-align: right;\">\n",
       "      <th></th>\n",
       "      <th>id</th>\n",
       "      <th>name</th>\n",
       "      <th>date</th>\n",
       "      <th>manner_of_death</th>\n",
       "      <th>armed</th>\n",
       "      <th>age</th>\n",
       "      <th>gender</th>\n",
       "      <th>race</th>\n",
       "      <th>city</th>\n",
       "      <th>state</th>\n",
       "      <th>signs_of_mental_illness</th>\n",
       "      <th>threat_level</th>\n",
       "      <th>flee</th>\n",
       "      <th>body_camera</th>\n",
       "    </tr>\n",
       "  </thead>\n",
       "  <tbody>\n",
       "    <tr>\n",
       "      <th>2530</th>\n",
       "      <td>2822</td>\n",
       "      <td>Rodney E. Jacobs</td>\n",
       "      <td>28/07/17</td>\n",
       "      <td>shot</td>\n",
       "      <td>gun</td>\n",
       "      <td>31.0</td>\n",
       "      <td>M</td>\n",
       "      <td>NaN</td>\n",
       "      <td>Kansas City</td>\n",
       "      <td>MO</td>\n",
       "      <td>False</td>\n",
       "      <td>attack</td>\n",
       "      <td>Not fleeing</td>\n",
       "      <td>False</td>\n",
       "    </tr>\n",
       "    <tr>\n",
       "      <th>2531</th>\n",
       "      <td>2813</td>\n",
       "      <td>TK TK</td>\n",
       "      <td>28/07/17</td>\n",
       "      <td>shot</td>\n",
       "      <td>vehicle</td>\n",
       "      <td>NaN</td>\n",
       "      <td>M</td>\n",
       "      <td>NaN</td>\n",
       "      <td>Albuquerque</td>\n",
       "      <td>NM</td>\n",
       "      <td>False</td>\n",
       "      <td>attack</td>\n",
       "      <td>Car</td>\n",
       "      <td>False</td>\n",
       "    </tr>\n",
       "    <tr>\n",
       "      <th>2532</th>\n",
       "      <td>2818</td>\n",
       "      <td>Dennis W. Robinson</td>\n",
       "      <td>29/07/17</td>\n",
       "      <td>shot</td>\n",
       "      <td>gun</td>\n",
       "      <td>48.0</td>\n",
       "      <td>M</td>\n",
       "      <td>NaN</td>\n",
       "      <td>Melba</td>\n",
       "      <td>ID</td>\n",
       "      <td>False</td>\n",
       "      <td>attack</td>\n",
       "      <td>Car</td>\n",
       "      <td>False</td>\n",
       "    </tr>\n",
       "    <tr>\n",
       "      <th>2533</th>\n",
       "      <td>2817</td>\n",
       "      <td>Isaiah Tucker</td>\n",
       "      <td>31/07/17</td>\n",
       "      <td>shot</td>\n",
       "      <td>vehicle</td>\n",
       "      <td>28.0</td>\n",
       "      <td>M</td>\n",
       "      <td>B</td>\n",
       "      <td>Oshkosh</td>\n",
       "      <td>WI</td>\n",
       "      <td>False</td>\n",
       "      <td>attack</td>\n",
       "      <td>Car</td>\n",
       "      <td>True</td>\n",
       "    </tr>\n",
       "    <tr>\n",
       "      <th>2534</th>\n",
       "      <td>2815</td>\n",
       "      <td>Dwayne Jeune</td>\n",
       "      <td>31/07/17</td>\n",
       "      <td>shot</td>\n",
       "      <td>knife</td>\n",
       "      <td>32.0</td>\n",
       "      <td>M</td>\n",
       "      <td>B</td>\n",
       "      <td>Brooklyn</td>\n",
       "      <td>NY</td>\n",
       "      <td>True</td>\n",
       "      <td>attack</td>\n",
       "      <td>Not fleeing</td>\n",
       "      <td>False</td>\n",
       "    </tr>\n",
       "  </tbody>\n",
       "</table>\n",
       "</div>"
      ],
      "text/plain": [
       "        id                name      date manner_of_death    armed   age  \\\n",
       "2530  2822    Rodney E. Jacobs  28/07/17            shot      gun  31.0   \n",
       "2531  2813               TK TK  28/07/17            shot  vehicle   NaN   \n",
       "2532  2818  Dennis W. Robinson  29/07/17            shot      gun  48.0   \n",
       "2533  2817       Isaiah Tucker  31/07/17            shot  vehicle  28.0   \n",
       "2534  2815        Dwayne Jeune  31/07/17            shot    knife  32.0   \n",
       "\n",
       "     gender race         city state  signs_of_mental_illness threat_level  \\\n",
       "2530      M  NaN  Kansas City    MO                    False       attack   \n",
       "2531      M  NaN  Albuquerque    NM                    False       attack   \n",
       "2532      M  NaN        Melba    ID                    False       attack   \n",
       "2533      M    B      Oshkosh    WI                    False       attack   \n",
       "2534      M    B     Brooklyn    NY                     True       attack   \n",
       "\n",
       "             flee  body_camera  \n",
       "2530  Not fleeing        False  \n",
       "2531          Car        False  \n",
       "2532          Car        False  \n",
       "2533          Car         True  \n",
       "2534  Not fleeing        False  "
      ]
     },
     "execution_count": 20,
     "metadata": {},
     "output_type": "execute_result"
    }
   ],
   "source": [
    "kill.tail()"
   ]
  },
  {
   "cell_type": "markdown",
   "metadata": {},
   "source": [
    "**INSTRUCTION-7: Plot Having mental ilness or not for killed people**"
   ]
  },
  {
   "cell_type": "code",
   "execution_count": 285,
   "metadata": {},
   "outputs": [
    {
     "data": {
      "text/html": [
       "<div>\n",
       "<style scoped>\n",
       "    .dataframe tbody tr th:only-of-type {\n",
       "        vertical-align: middle;\n",
       "    }\n",
       "\n",
       "    .dataframe tbody tr th {\n",
       "        vertical-align: top;\n",
       "    }\n",
       "\n",
       "    .dataframe thead th {\n",
       "        text-align: right;\n",
       "    }\n",
       "</style>\n",
       "<table border=\"1\" class=\"dataframe\">\n",
       "  <thead>\n",
       "    <tr style=\"text-align: right;\">\n",
       "      <th></th>\n",
       "      <th>id</th>\n",
       "      <th>name</th>\n",
       "      <th>date</th>\n",
       "      <th>manner_of_death</th>\n",
       "      <th>armed</th>\n",
       "      <th>age</th>\n",
       "      <th>gender</th>\n",
       "      <th>race</th>\n",
       "      <th>city</th>\n",
       "      <th>state</th>\n",
       "      <th>signs_of_mental_illness</th>\n",
       "      <th>threat_level</th>\n",
       "      <th>flee</th>\n",
       "      <th>body_camera</th>\n",
       "      <th>below25</th>\n",
       "    </tr>\n",
       "  </thead>\n",
       "  <tbody>\n",
       "    <tr>\n",
       "      <th>0</th>\n",
       "      <td>3</td>\n",
       "      <td>Tim Elliot</td>\n",
       "      <td>02/01/15</td>\n",
       "      <td>shot</td>\n",
       "      <td>gun</td>\n",
       "      <td>53.0</td>\n",
       "      <td>M</td>\n",
       "      <td>A</td>\n",
       "      <td>Shelton</td>\n",
       "      <td>WA</td>\n",
       "      <td>True</td>\n",
       "      <td>attack</td>\n",
       "      <td>Not fleeing</td>\n",
       "      <td>False</td>\n",
       "      <td>True</td>\n",
       "    </tr>\n",
       "    <tr>\n",
       "      <th>1</th>\n",
       "      <td>4</td>\n",
       "      <td>Lewis Lee Lembke</td>\n",
       "      <td>02/01/15</td>\n",
       "      <td>shot</td>\n",
       "      <td>gun</td>\n",
       "      <td>47.0</td>\n",
       "      <td>M</td>\n",
       "      <td>W</td>\n",
       "      <td>Aloha</td>\n",
       "      <td>OR</td>\n",
       "      <td>False</td>\n",
       "      <td>attack</td>\n",
       "      <td>Not fleeing</td>\n",
       "      <td>False</td>\n",
       "      <td>True</td>\n",
       "    </tr>\n",
       "    <tr>\n",
       "      <th>2</th>\n",
       "      <td>5</td>\n",
       "      <td>John Paul Quintero</td>\n",
       "      <td>03/01/15</td>\n",
       "      <td>shot and Tasered</td>\n",
       "      <td>unarmed</td>\n",
       "      <td>23.0</td>\n",
       "      <td>M</td>\n",
       "      <td>H</td>\n",
       "      <td>Wichita</td>\n",
       "      <td>KS</td>\n",
       "      <td>False</td>\n",
       "      <td>other</td>\n",
       "      <td>Not fleeing</td>\n",
       "      <td>False</td>\n",
       "      <td>True</td>\n",
       "    </tr>\n",
       "    <tr>\n",
       "      <th>3</th>\n",
       "      <td>8</td>\n",
       "      <td>Matthew Hoffman</td>\n",
       "      <td>04/01/15</td>\n",
       "      <td>shot</td>\n",
       "      <td>toy weapon</td>\n",
       "      <td>32.0</td>\n",
       "      <td>M</td>\n",
       "      <td>W</td>\n",
       "      <td>San Francisco</td>\n",
       "      <td>CA</td>\n",
       "      <td>True</td>\n",
       "      <td>attack</td>\n",
       "      <td>Not fleeing</td>\n",
       "      <td>False</td>\n",
       "      <td>True</td>\n",
       "    </tr>\n",
       "    <tr>\n",
       "      <th>4</th>\n",
       "      <td>9</td>\n",
       "      <td>Michael Rodriguez</td>\n",
       "      <td>04/01/15</td>\n",
       "      <td>shot</td>\n",
       "      <td>nail gun</td>\n",
       "      <td>39.0</td>\n",
       "      <td>M</td>\n",
       "      <td>H</td>\n",
       "      <td>Evans</td>\n",
       "      <td>CO</td>\n",
       "      <td>False</td>\n",
       "      <td>attack</td>\n",
       "      <td>Not fleeing</td>\n",
       "      <td>False</td>\n",
       "      <td>True</td>\n",
       "    </tr>\n",
       "  </tbody>\n",
       "</table>\n",
       "</div>"
      ],
      "text/plain": [
       "   id                name      date   manner_of_death       armed   age  \\\n",
       "0   3          Tim Elliot  02/01/15              shot         gun  53.0   \n",
       "1   4    Lewis Lee Lembke  02/01/15              shot         gun  47.0   \n",
       "2   5  John Paul Quintero  03/01/15  shot and Tasered     unarmed  23.0   \n",
       "3   8     Matthew Hoffman  04/01/15              shot  toy weapon  32.0   \n",
       "4   9   Michael Rodriguez  04/01/15              shot    nail gun  39.0   \n",
       "\n",
       "  gender race           city state  signs_of_mental_illness threat_level  \\\n",
       "0      M    A        Shelton    WA                     True       attack   \n",
       "1      M    W          Aloha    OR                    False       attack   \n",
       "2      M    H        Wichita    KS                    False        other   \n",
       "3      M    W  San Francisco    CA                     True       attack   \n",
       "4      M    H          Evans    CO                    False       attack   \n",
       "\n",
       "          flee  body_camera  below25  \n",
       "0  Not fleeing        False     True  \n",
       "1  Not fleeing        False     True  \n",
       "2  Not fleeing        False     True  \n",
       "3  Not fleeing        False     True  \n",
       "4  Not fleeing        False     True  "
      ]
     },
     "execution_count": 285,
     "metadata": {},
     "output_type": "execute_result"
    }
   ],
   "source": [
    "kill.head()"
   ]
  },
  {
   "cell_type": "code",
   "execution_count": 25,
   "metadata": {},
   "outputs": [
    {
     "data": {
      "image/png": "[encoded data removed]",
      "text/plain": [
       "<Figure size 432x288 with 1 Axes>"
      ]
     },
     "metadata": {
      "needs_background": "light"
     },
     "output_type": "display_data"
    }
   ],
   "source": [
    "fig = plt.figure()\n",
    "ax = fig.add_axes([0,0,0.8,0.8])\n",
    "ax.set_title(\"Having mental illness or not\", fontsize = 14, color = \"b\")\n",
    "sb.countplot( x = \"signs_of_mental_illness\", data = kill)\n",
    "ax.set_xlabel(\"Mental illness\")\n",
    "ax.set_ylabel(\"Number of Mental illness\")\n",
    "plt.show()"
   ]
  },
  {
   "cell_type": "code",
   "execution_count": null,
   "metadata": {},
   "outputs": [],
   "source": []
  },
  {
   "cell_type": "code",
   "execution_count": null,
   "metadata": {},
   "outputs": [],
   "source": []
  },
  {
   "cell_type": "code",
   "execution_count": 86,
   "metadata": {
    "_cell_guid": "927fbf5f-f86f-4880-ab69-96a4d25810b9",
    "_uuid": "801430710963c15aaf1c97e12bea01ab60a3812f"
   },
   "outputs": [
    {
     "data": {
      "text/plain": [
       "Text(0.5, 1.0, 'Having mental illness or not')"
      ]
     },
     "execution_count": 86,
     "metadata": {},
     "output_type": "execute_result"
    },
    {
     "data": {
      "image/png": "[encoded data removed]",
      "text/plain": [
       "<Figure size 432x288 with 1 Axes>"
      ]
     },
     "metadata": {
      "needs_background": "light"
     },
     "output_type": "display_data"
    }
   ],
   "source": []
  },
  {
   "cell_type": "markdown",
   "metadata": {},
   "source": [
    "**INSTRUCTION-8: Plot number of Threat Types**"
   ]
  },
  {
   "cell_type": "code",
   "execution_count": 24,
   "metadata": {},
   "outputs": [
    {
     "data": {
      "image/png": "[encoded data removed]",
      "text/plain": [
       "<Figure size 432x288 with 1 Axes>"
      ]
     },
     "metadata": {
      "needs_background": "light"
     },
     "output_type": "display_data"
    }
   ],
   "source": [
    "fig = plt.figure()\n",
    "ax = fig.add_axes([0,0,0.8,0.8])\n",
    "ax.set_title(\"Threat types\", fontsize = 14, color = \"b\")\n",
    "sb.countplot( x = \"threat_level\", data = kill)\n",
    "plt.show()"
   ]
  },
  {
   "cell_type": "code",
   "execution_count": null,
   "metadata": {},
   "outputs": [],
   "source": []
  },
  {
   "cell_type": "code",
   "execution_count": null,
   "metadata": {},
   "outputs": [],
   "source": []
  },
  {
   "cell_type": "code",
   "execution_count": 87,
   "metadata": {
    "_cell_guid": "ae54b1be-3c86-46c9-b789-34a45fa9c48b",
    "_uuid": "cc137ddad8e9148c37c9e433a91a7a8f1d9ff3ca"
   },
   "outputs": [
    {
     "data": {
      "text/plain": [
       "Text(0.5, 1.0, 'Threat types')"
      ]
     },
     "execution_count": 87,
     "metadata": {},
     "output_type": "execute_result"
    },
    {
     "data": {
      "image/png": "[encoded data removed]",
      "text/plain": [
       "<Figure size 432x288 with 1 Axes>"
      ]
     },
     "metadata": {
      "needs_background": "light"
     },
     "output_type": "display_data"
    }
   ],
   "source": []
  },
  {
   "cell_type": "markdown",
   "metadata": {},
   "source": [
    "**INSTRUCTION-9: Plot number of Flee Types**"
   ]
  },
  {
   "cell_type": "code",
   "execution_count": 26,
   "metadata": {},
   "outputs": [
    {
     "data": {
      "image/png": "[encoded data removed]",
      "text/plain": [
       "<Figure size 432x288 with 1 Axes>"
      ]
     },
     "metadata": {
      "needs_background": "light"
     },
     "output_type": "display_data"
    }
   ],
   "source": [
    "fig = plt.figure()\n",
    "ax = fig.add_axes([0,0,0.8,0.8])\n",
    "ax.set_title(\"Flee types\", fontsize = 14, color = \"b\")\n",
    "sb.countplot( x = \"flee\", data = kill)\n",
    "plt.show()"
   ]
  },
  {
   "cell_type": "markdown",
   "metadata": {},
   "source": [
    "**Yapılacaklar**\n",
    "-grafik altına açıklama*\n",
    "-orjinal grafikleri ekleyelim, istenen grafik şeklinde açıklama*\n",
    "-alternatif yöntemler deneme*\n",
    "-nüfusa göre oranlama*\n",
    "*"
   ]
  },
  {
   "cell_type": "code",
   "execution_count": 88,
   "metadata": {
    "_cell_guid": "c642816e-946b-4e65-8dcd-499f316ce110",
    "_uuid": "888ff93e7a5c5fe2843d3dd5da9ac9d0f9a0e1a5"
   },
   "outputs": [
    {
     "data": {
      "text/plain": [
       "Text(0.5, 1.0, 'Flee types')"
      ]
     },
     "execution_count": 88,
     "metadata": {},
     "output_type": "execute_result"
    },
    {
     "data": {
      "image/png": "[encoded data removed]",
      "text/plain": [
       "<Figure size 432x288 with 1 Axes>"
      ]
     },
     "metadata": {
      "needs_background": "light"
     },
     "output_type": "display_data"
    }
   ],
   "source": []
  }
 ],
 "metadata": {
  "kernelspec": {
   "display_name": "Python 3",
   "language": "python",
   "name": "python3"
  },
  "language_info": {
   "codemirror_mode": {
    "name": "ipython",
    "version": 3
   },
   "file_extension": ".py",
   "mimetype": "text/x-python",
   "name": "python",
   "nbconvert_exporter": "python",
   "pygments_lexer": "ipython3",
   "version": "3.8.8"
  }
 },
 "nbformat": 4,
 "nbformat_minor": 4
}
